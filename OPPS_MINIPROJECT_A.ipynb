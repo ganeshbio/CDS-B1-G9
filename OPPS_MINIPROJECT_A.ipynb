{
  "nbformat": 4,
  "nbformat_minor": 5,
  "metadata": {
    "kernelspec": {
      "display_name": "Python 3",
      "language": "python",
      "name": "python3"
    },
    "language_info": {
      "codemirror_mode": {
        "name": "ipython",
        "version": 3
      },
      "file_extension": ".py",
      "mimetype": "text/x-python",
      "name": "python",
      "nbconvert_exporter": "python",
      "pygments_lexer": "ipython3",
      "version": "3.5.2"
    },
    "colab": {
      "name": "OPPS_MINIPROJECT_A.ipynb",
      "provenance": [],
      "collapsed_sections": [
        "geographic-mixer",
        "essential-funeral"
      ],
      "toc_visible": true,
      "include_colab_link": true
    }
  },
  "cells": [
    {
      "cell_type": "markdown",
      "metadata": {
        "id": "view-in-github",
        "colab_type": "text"
      },
      "source": [
        "<a href=\"https://colab.research.google.com/github/ganeshbio/CDS-B1-G9/blob/main/OPPS_MINIPROJECT_A.ipynb\" target=\"_parent\"><img src=\"https://colab.research.google.com/assets/colab-badge.svg\" alt=\"Open In Colab\"/></a>"
      ]
    },
    {
      "cell_type": "markdown",
      "metadata": {
        "id": "viral-vatican"
      },
      "source": [
        "# Advanced Certification Program in Computational Data Science\n",
        "## A program by IISc and TalentSprint\n",
        "### Assignment 3: Oops with Python"
      ],
      "id": "viral-vatican"
    },
    {
      "cell_type": "markdown",
      "metadata": {
        "id": "under-mozambique"
      },
      "source": [
        "## Learning Objectives"
      ],
      "id": "under-mozambique"
    },
    {
      "cell_type": "markdown",
      "metadata": {
        "id": "silver-cause"
      },
      "source": [
        "At the end of the experiment, you will be able to\n",
        "\n",
        "* create custom classes and objects of those classes\n",
        "* apply the concepts of class, method, constructor, instance, abstraction, inheritance, encapsulation, and polymorphism"
      ],
      "id": "silver-cause"
    },
    {
      "cell_type": "markdown",
      "metadata": {
        "id": "conventional-emergency"
      },
      "source": [
        "## Information"
      ],
      "id": "conventional-emergency"
    },
    {
      "cell_type": "markdown",
      "metadata": {
        "id": "relevant-highlight"
      },
      "source": [
        "**Object oriented programming in a nutshell**\n",
        "\n",
        "Object oriented programming is based around the concept of \"objects\". Objects have two kinds of attributes (accessed via . syntax): data attributes (or instance variables) and function attributes (or methods). Object data is typically modified by object methods.\n",
        "\n",
        "**Why object oriented programming?**\n",
        "\n",
        "- Concept of object oriented programming has been around since 1960s\n",
        "\n",
        "- Gained popularity in the 1980s and 1990s with the development and standardization of C++, and faster computers that mitigated the overhead of the abstractions\n",
        "\n",
        "- Abstraction, modularity, and reusability are some of the most commonly cited reasons for using object oriented programming\n",
        "\n",
        "- Almost all new software development uses some degree of object oriented programming (for better or worse)\n",
        "\n",
        "- In Python, everything is an object. Proper use of object oriented programming features allows programmers to write code that integrates nicely into the Python language and set of libraries.\n",
        "\n",
        "**Terminology**\n",
        "\n",
        "The basic concepts related to OOP are as follows:\n",
        "\n",
        "- **Object:** clearly defines an entity in terms of its properties and behaviour.\n",
        "- **Class:** a blueprint of an object.\n",
        "- **Encapsulation:** combining of data and the functions associated with that data in a single unit\n",
        "- **Data Hiding:** the mechanism of hiding the data of a class from the outside world\n",
        "- **Abstraction:** providing only essential information to the outside world and hiding their background details\n",
        "- **Inheritance:** forming a new class (derived class) from an existing class (called the base class).\n",
        "- **Polymorphism:** ability to use an operator or function in various forms.\n",
        "- **Static Binding:** the linking of function call to the function definition is done during compilation of the program.\n",
        "- **Dynamic Binding:** the linking of function call to the function definition is done during the execution of the program.\n",
        "\n",
        "To know more about OOP click [here](https://docs.python.org/3/tutorial/classes.html)\n",
        "\n",
        "To know more about Access Modifiers in Python click [here](https://medium.com/@YSR/access-modifiers-in-python-public-private-protected-fe5f923bd914)\n",
        "\n",
        "**Object oriented programming in Python**\n",
        "\n",
        "- In Python, everything is an object. Proper use of object oriented programming features allows programmers to write code that integrates nicely into the Python language and set of libraries.\n",
        "- New kinds of objects can be created in Python by defining your own classes"
      ],
      "id": "relevant-highlight"
    },
    {
      "cell_type": "markdown",
      "metadata": {
        "id": "BNLA8HiKxQhc"
      },
      "source": [
        "### Setup Steps:"
      ],
      "id": "BNLA8HiKxQhc"
    },
    {
      "cell_type": "code",
      "metadata": {
        "id": "2YzfoPvJDiTX"
      },
      "source": [
        "#@title Please enter your registration id to start: { run: \"auto\", display-mode: \"form\" }\n",
        "Id = \"2100783\" #@param {type:\"string\"}"
      ],
      "id": "2YzfoPvJDiTX",
      "execution_count": null,
      "outputs": []
    },
    {
      "cell_type": "code",
      "metadata": {
        "id": "AjoZJWGErxGf"
      },
      "source": [
        "#@title Please enter your password (your registered phone number) to continue: { run: \"auto\", display-mode: \"form\" }\n",
        "password = \"9591077008\" #@param {type:\"string\"}"
      ],
      "id": "AjoZJWGErxGf",
      "execution_count": null,
      "outputs": []
    },
    {
      "cell_type": "code",
      "metadata": {
        "id": "WBPPuGmBlDIN",
        "cellView": "form",
        "colab": {
          "base_uri": "https://localhost:8080/",
          "height": 34
        },
        "outputId": "a01171ce-a559-44a9-aa66-2991ae8a12c1"
      },
      "source": [
        "#@title Run this cell to complete the setup for this Notebook\n",
        "from IPython import get_ipython\n",
        "\n",
        "ipython = get_ipython()\n",
        "  \n",
        "notebook= \"M1_AST_03_Oops_A\" #name of the notebook\n",
        "\n",
        "def setup():\n",
        "#  ipython.magic(\"sx pip3 install torch\")  \n",
        "    from IPython.display import HTML, display\n",
        "    display(HTML('<script src=\"https://dashboard.talentsprint.com/aiml/record_ip.html?traineeId={0}&recordId={1}\"></script>'.format(getId(),submission_id)))\n",
        "    print(\"Setup completed successfully\")\n",
        "    return\n",
        "\n",
        "def submit_notebook():\n",
        "    ipython.magic(\"notebook -e \"+ notebook + \".ipynb\")\n",
        "    \n",
        "    import requests, json, base64, datetime\n",
        "\n",
        "    url = \"https://dashboard.talentsprint.com/xp/app/save_notebook_attempts\"\n",
        "    if not submission_id:\n",
        "      data = {\"id\" : getId(), \"notebook\" : notebook, \"mobile\" : getPassword()}\n",
        "      r = requests.post(url, data = data)\n",
        "      r = json.loads(r.text)\n",
        "\n",
        "      if r[\"status\"] == \"Success\":\n",
        "          return r[\"record_id\"]\n",
        "      elif \"err\" in r:        \n",
        "        print(r[\"err\"])\n",
        "        return None        \n",
        "      else:\n",
        "        print (\"Something is wrong, the notebook will not be submitted for grading\")\n",
        "        return None\n",
        "    \n",
        "    elif getAnswer() and getComplexity() and getAdditional() and getConcepts() and getComments() and getMentorSupport():\n",
        "      f = open(notebook + \".ipynb\", \"rb\")\n",
        "      file_hash = base64.b64encode(f.read())\n",
        "\n",
        "      data = {\"complexity\" : Complexity, \"additional\" :Additional, \n",
        "              \"concepts\" : Concepts, \"record_id\" : submission_id, \n",
        "              \"answer\" : Answer, \"id\" : Id, \"file_hash\" : file_hash,\n",
        "              \"notebook\" : notebook,\n",
        "              \"feedback_experiments_input\" : Comments,\n",
        "              \"feedback_mentor_support\": Mentor_support}\n",
        "      r = requests.post(url, data = data)\n",
        "      r = json.loads(r.text)\n",
        "      if \"err\" in r:        \n",
        "        print(r[\"err\"])\n",
        "        return None   \n",
        "      else:\n",
        "        print(\"Your submission is successful.\")\n",
        "        print(\"Ref Id:\", submission_id)\n",
        "        print(\"Date of submission: \", r[\"date\"])\n",
        "        print(\"Time of submission: \", r[\"time\"])\n",
        "        print(\"View your submissions: https://cds.iisc.talentsprint.com/notebook_submissions\")\n",
        "        #print(\"For any queries/discrepancies, please connect with mentors through the chat icon in LMS dashboard.\")\n",
        "        return submission_id\n",
        "    else: submission_id\n",
        "    \n",
        "\n",
        "def getAdditional():\n",
        "  try:\n",
        "    if not Additional: \n",
        "      raise NameError\n",
        "    else:\n",
        "      return Additional  \n",
        "  except NameError:\n",
        "    print (\"Please answer Additional Question\")\n",
        "    return None\n",
        "\n",
        "def getComplexity():\n",
        "  try:\n",
        "    if not Complexity:\n",
        "      raise NameError\n",
        "    else:\n",
        "      return Complexity\n",
        "  except NameError:\n",
        "    print (\"Please answer Complexity Question\")\n",
        "    return None\n",
        "  \n",
        "def getConcepts():\n",
        "  try:\n",
        "    if not Concepts:\n",
        "      raise NameError\n",
        "    else:\n",
        "      return Concepts\n",
        "  except NameError:\n",
        "    print (\"Please answer Concepts Question\")\n",
        "    return None\n",
        "  \n",
        "  \n",
        "# def getWalkthrough():\n",
        "#   try:\n",
        "#     if not Walkthrough:\n",
        "#       raise NameError\n",
        "#     else:\n",
        "#       return Walkthrough\n",
        "#   except NameError:\n",
        "#     print (\"Please answer Walkthrough Question\")\n",
        "#     return None\n",
        "  \n",
        "def getComments():\n",
        "  try:\n",
        "    if not Comments:\n",
        "      raise NameError\n",
        "    else:\n",
        "      return Comments\n",
        "  except NameError:\n",
        "    print (\"Please answer Comments Question\")\n",
        "    return None\n",
        "  \n",
        "\n",
        "def getMentorSupport():\n",
        "  try:\n",
        "    if not Mentor_support:\n",
        "      raise NameError\n",
        "    else:\n",
        "      return Mentor_support\n",
        "  except NameError:\n",
        "    print (\"Please answer Mentor support Question\")\n",
        "    return None\n",
        "\n",
        "def getAnswer():\n",
        "  try:\n",
        "    if not Answer:\n",
        "      raise NameError \n",
        "    else: \n",
        "      return Answer\n",
        "  except NameError:\n",
        "    print (\"Please answer Question\")\n",
        "    return None\n",
        "  \n",
        "\n",
        "def getId():\n",
        "  try: \n",
        "    return Id if Id else None\n",
        "  except NameError:\n",
        "    return None\n",
        "\n",
        "def getPassword():\n",
        "  try:\n",
        "    return password if password else None\n",
        "  except NameError:\n",
        "    return None\n",
        "\n",
        "submission_id = None\n",
        "### Setup \n",
        "if getPassword() and getId():\n",
        "  submission_id = submit_notebook()\n",
        "  if submission_id:\n",
        "    setup() \n",
        "else:\n",
        "  print (\"Please complete Id and Password cells before running setup\")\n",
        "\n"
      ],
      "id": "WBPPuGmBlDIN",
      "execution_count": null,
      "outputs": [
        {
          "output_type": "display_data",
          "data": {
            "text/html": [
              "<script src=\"https://dashboard.talentsprint.com/aiml/record_ip.html?traineeId=2100783&recordId=887\"></script>"
            ],
            "text/plain": [
              "<IPython.core.display.HTML object>"
            ]
          },
          "metadata": {
            "tags": []
          }
        },
        {
          "output_type": "stream",
          "text": [
            "Setup completed successfully\n"
          ],
          "name": "stdout"
        }
      ]
    },
    {
      "cell_type": "markdown",
      "metadata": {
        "id": "impressive-pathology"
      },
      "source": [
        "### Class definition in action"
      ],
      "id": "impressive-pathology"
    },
    {
      "cell_type": "markdown",
      "metadata": {
        "id": "reported-nevada"
      },
      "source": [
        "Let's work with a class called Employee to create objects that represent and maintain information about Employee."
      ],
      "id": "reported-nevada"
    },
    {
      "cell_type": "markdown",
      "metadata": {
        "id": "instructional-feedback"
      },
      "source": [
        "**Defining a class**\n",
        "\n",
        "- Classes are defined with the class keyword\n",
        "- Followed by the class name and a colon (:)\n",
        "- Followed by the indented class body, containing class attributes\n",
        "\n",
        "**Object initialization**\n",
        "\n",
        "- \\_\\_init\\_\\_ is the special name for the initialization method\n",
        "- self is a reference to the specific instance (object) that is calling this method. In the case of the \\_\\_init\\_\\_ method, self refers to the object being created. self is simply a Python variable and can be renamed\n",
        "- id is the input argument from the call to create a new instance\n",
        "- self.id = id stores the input id in the object\n",
        "\n",
        "Now let us define a Employee class and initialize the object for the class"
      ],
      "id": "instructional-feedback"
    },
    {
      "cell_type": "code",
      "metadata": {
        "id": "grand-sugar"
      },
      "source": [
        "class Employee: # Class named Employee\n",
        "    def __init__(self, id): # Initializing a object\n",
        "        self.id = id"
      ],
      "id": "grand-sugar",
      "execution_count": null,
      "outputs": []
    },
    {
      "cell_type": "markdown",
      "metadata": {
        "id": "linear-presence"
      },
      "source": [
        "\n",
        "As we know that everything in Python is an object. This includes classes:"
      ],
      "id": "linear-presence"
    },
    {
      "cell_type": "code",
      "metadata": {
        "id": "dependent-taste",
        "colab": {
          "base_uri": "https://localhost:8080/"
        },
        "outputId": "8dad1e8b-b3c8-4a30-8ea6-3ba8666da626"
      },
      "source": [
        "Employee"
      ],
      "id": "dependent-taste",
      "execution_count": null,
      "outputs": [
        {
          "output_type": "execute_result",
          "data": {
            "text/plain": [
              "__main__.Employee"
            ]
          },
          "metadata": {
            "tags": []
          },
          "execution_count": 5
        }
      ]
    },
    {
      "cell_type": "markdown",
      "metadata": {
        "id": "subtle-while"
      },
      "source": [
        "We can think of a Python class as object that can produce objects of the class type. Let's create a employee object:"
      ],
      "id": "subtle-while"
    },
    {
      "cell_type": "code",
      "metadata": {
        "id": "academic-portuguese",
        "colab": {
          "base_uri": "https://localhost:8080/"
        },
        "outputId": "63d7d415-0b87-459e-8380-7b842997f977"
      },
      "source": [
        "# YOUR CODE HERE for creating a Employee instance whose id is 1022\n",
        "new_employee=Employee(1022)\n",
        "print(\"Employee\",new_employee.id)"
      ],
      "id": "academic-portuguese",
      "execution_count": null,
      "outputs": [
        {
          "output_type": "stream",
          "text": [
            "1022\n"
          ],
          "name": "stdout"
        }
      ]
    },
    {
      "cell_type": "markdown",
      "metadata": {
        "id": "political-flooring"
      },
      "source": [
        "Now let us see how to access the id attribute form the Employee class"
      ],
      "id": "political-flooring"
    },
    {
      "cell_type": "code",
      "metadata": {
        "id": "unauthorized-grenada",
        "colab": {
          "base_uri": "https://localhost:8080/"
        },
        "outputId": "e41ec611-cd22-4b1e-a486-912dc1ea1474"
      },
      "source": [
        "# YOUR CODE HERE for accessing the id attribute from the Employee class\n",
        "new_employee.id"
      ],
      "id": "unauthorized-grenada",
      "execution_count": null,
      "outputs": [
        {
          "output_type": "execute_result",
          "data": {
            "text/plain": [
              "1022"
            ]
          },
          "metadata": {
            "tags": []
          },
          "execution_count": 8
        }
      ]
    },
    {
      "cell_type": "markdown",
      "metadata": {
        "id": "geographic-mixer"
      },
      "source": [
        "#### Abstraction\n",
        "\n",
        "- Represent data and computations in a familiar form. For example, Car object, with an engine object, and tire objects\n",
        "- Make programmers more productive i.e Salaries are expensive compared to computers\n",
        "- Too much abstraction can be a bad thing if it has a significant impact on performance i.e Desktop computers really are cheap; Supercomputers are not cheap"
      ],
      "id": "geographic-mixer"
    },
    {
      "cell_type": "markdown",
      "metadata": {
        "id": "regulation-apache"
      },
      "source": [
        "#### Exploring more about self"
      ],
      "id": "regulation-apache"
    },
    {
      "cell_type": "code",
      "metadata": {
        "id": "cleared-ghost",
        "colab": {
          "base_uri": "https://localhost:8080/"
        },
        "outputId": "ce5a1ecd-cbb5-43b9-b232-7706825046c2"
      },
      "source": [
        "class Employee: # Class named Employee\n",
        "    def __init__(self, id): # Initializing a object\n",
        "        print(\"inside __init__()\")\n",
        "        print(\"self = {}\".format(self))\n",
        "        self.id = id\n",
        "Employee_1 = Employee(1023) # Creating an instance of employee class with id 1023\n",
        "print(\"Employee_1    = {}\".format(Employee_1))"
      ],
      "id": "cleared-ghost",
      "execution_count": null,
      "outputs": [
        {
          "output_type": "stream",
          "text": [
            "inside __init__()\n",
            "self = <__main__.Employee object at 0x7f555fe757d0>\n",
            "Employee_1    = <__main__.Employee object at 0x7f555fe757d0>\n"
          ],
          "name": "stdout"
        }
      ]
    },
    {
      "cell_type": "markdown",
      "metadata": {
        "id": "cultural-oxford"
      },
      "source": [
        "From the above code output, we see that **self** inside of **\\_\\_init\\_\\_** is the same object that is returned by the call Employee(1023)."
      ],
      "id": "cultural-oxford"
    },
    {
      "cell_type": "markdown",
      "metadata": {
        "id": "genuine-anderson"
      },
      "source": [
        "#### Defining a method inside a class"
      ],
      "id": "genuine-anderson"
    },
    {
      "cell_type": "markdown",
      "metadata": {
        "id": "agricultural-employment"
      },
      "source": [
        "Let us define a get_id() function / Method for interacting with a object"
      ],
      "id": "agricultural-employment"
    },
    {
      "cell_type": "code",
      "metadata": {
        "id": "executed-shoulder"
      },
      "source": [
        "class Employee: # Class named Employee\n",
        "    def __init__(self, id): # Initializing a object\n",
        "        self.id = id\n",
        "    def get_id(self):\n",
        "        return self.id"
      ],
      "id": "executed-shoulder",
      "execution_count": null,
      "outputs": []
    },
    {
      "cell_type": "code",
      "metadata": {
        "id": "disabled-expression",
        "colab": {
          "base_uri": "https://localhost:8080/"
        },
        "outputId": "a731bb44-9237-4ad6-bc14-f9f2907cf35b"
      },
      "source": [
        "# YOUR CODE HERE\n",
        "# Create a instance of employee class with id 1023\n",
        "# Access the get_id function defined in the employee class\n",
        "new_employee=Employee(1023)\n",
        "print(new_employee.get_id())"
      ],
      "id": "disabled-expression",
      "execution_count": null,
      "outputs": [
        {
          "output_type": "stream",
          "text": [
            "1023\n"
          ],
          "name": "stdout"
        }
      ]
    },
    {
      "cell_type": "markdown",
      "metadata": {
        "id": "mineral-terrorist"
      },
      "source": [
        "#### Encapsulation\n",
        "\n",
        "- The interface of an object encapsulates the internal data and code\n",
        "- encapsulation means hiding the details of data structures and algorithms (internal code)\n",
        "\n",
        "#### Interface\n",
        "- Interfaces protect the user of the class from internal implementation details."
      ],
      "id": "mineral-terrorist"
    },
    {
      "cell_type": "markdown",
      "metadata": {
        "id": "vertical-clinic"
      },
      "source": [
        "Now let us add additional attributes like firstname, lastname, email for interacting or interfacing with the object"
      ],
      "id": "vertical-clinic"
    },
    {
      "cell_type": "code",
      "metadata": {
        "id": "concrete-armor"
      },
      "source": [
        "class Employee: # Class named Employee\n",
        "    def __init__(self, id, firstname, lastname): # Initializing a object\n",
        "        self.id = id # Identity of an object\n",
        "        self.firstname = firstname # Firstname of the employee\n",
        "        self.lastname = lastname # Lastname of the employee\n",
        "        self.email = firstname + '.' + lastname + '@company.com' # email Id of an Employee\n",
        "    # self is a reference to the specific instance that is calling this method\n",
        "    def get_id(self):\n",
        "        return self.id"
      ],
      "id": "concrete-armor",
      "execution_count": null,
      "outputs": []
    },
    {
      "cell_type": "code",
      "metadata": {
        "id": "fossil-nurse"
      },
      "source": [
        "# YOUR CODE HERE\n",
        "# Create a new instance of Employee class\n",
        "latest_employee=Employee(1024,\"Tom\",\"Hanks\")\n"
      ],
      "id": "fossil-nurse",
      "execution_count": null,
      "outputs": []
    },
    {
      "cell_type": "code",
      "metadata": {
        "id": "short-spring",
        "colab": {
          "base_uri": "https://localhost:8080/"
        },
        "outputId": "8c4593bd-285e-46ea-c6d9-f95c65b7e641"
      },
      "source": [
        "# YOUR CODE HERE\r\n",
        "# Access Id attributes from the Employee Class\r\n",
        "print(\"Employee ID:\",latest_employee.id)"
      ],
      "id": "short-spring",
      "execution_count": null,
      "outputs": [
        {
          "output_type": "stream",
          "text": [
            "Employee_ID 1024\n"
          ],
          "name": "stdout"
        }
      ]
    },
    {
      "cell_type": "code",
      "metadata": {
        "id": "smart-result",
        "colab": {
          "base_uri": "https://localhost:8080/"
        },
        "outputId": "547da2d1-4ff0-43b2-f868-fd59b5aa5c8d"
      },
      "source": [
        "# YOUR CODE HERE\r\n",
        "# Access firstname attributes from the Employee Class\r\n",
        "print(\"Employee Firstname:\",latest_employee.firstname)"
      ],
      "id": "smart-result",
      "execution_count": null,
      "outputs": [
        {
          "output_type": "stream",
          "text": [
            "Employee Firstname: Tom\n"
          ],
          "name": "stdout"
        }
      ]
    },
    {
      "cell_type": "code",
      "metadata": {
        "id": "professional-procurement",
        "colab": {
          "base_uri": "https://localhost:8080/"
        },
        "outputId": "bf6d572f-ed43-42de-ce92-b8b75e3bdaaa"
      },
      "source": [
        "# YOUR CODE HERE\r\n",
        "# Access lastname attributes from the Employee Class\r\n",
        "print(\"Employee Lastname:\",latest_employee.lastname)"
      ],
      "id": "professional-procurement",
      "execution_count": null,
      "outputs": [
        {
          "output_type": "stream",
          "text": [
            "Employee Lastname: Hanks\n"
          ],
          "name": "stdout"
        }
      ]
    },
    {
      "cell_type": "code",
      "metadata": {
        "id": "timely-zoning",
        "colab": {
          "base_uri": "https://localhost:8080/"
        },
        "outputId": "05f5ee6a-5349-4448-d3f9-e3634c2e6383"
      },
      "source": [
        "# YOUR CODE HERE\r\n",
        "# Access email attributes from the Employee Class\r\n",
        "print(\"Employee Email:\",latest_employee.email)"
      ],
      "id": "timely-zoning",
      "execution_count": null,
      "outputs": [
        {
          "output_type": "stream",
          "text": [
            "Employee Email: Tom.Hanks@company.com\n"
          ],
          "name": "stdout"
        }
      ]
    },
    {
      "cell_type": "markdown",
      "metadata": {
        "id": "spare-chassis"
      },
      "source": [
        "Now let us add additional methods to access firstname, lastname and email id of a Employee for interacting or interfacing with the object"
      ],
      "id": "spare-chassis"
    },
    {
      "cell_type": "code",
      "metadata": {
        "id": "nonprofit-blank"
      },
      "source": [
        "class Employee: # Class named Employee\n",
        "    def __init__(self, id, firstname, lastname): # Initializing a object\n",
        "        self.id = id # Identity of an object\n",
        "        self.firstname = firstname # Firstname of the employee\n",
        "        self.lastname = lastname # Lastname of the employee\n",
        "        self.email = firstname + '.' + lastname + '@company.com' # email Id of an Employee\n",
        "    # self is a reference to the specific instance that is calling this method  \n",
        "    # method to access id of an Employee    \n",
        "    # YOUR CODE HERE\n",
        "    def getID(self):\n",
        "      return self.id\n",
        "    # method to access firstname of an Employee\n",
        "    # YOUR CODE HERE\n",
        "    def getFirstName(self):\n",
        "       return self.firstname\n",
        "    # method to access lastname of an Employee\n",
        "    # YOUR CODE HERE\n",
        "    def getLastName(self):\n",
        "       return self.lastname\n",
        "    # method to access email id of an Employee\n",
        "    # YOUR CODE HERE\n",
        "    def getEmailId(self):\n",
        "       return self.email"
      ],
      "id": "nonprofit-blank",
      "execution_count": null,
      "outputs": []
    },
    {
      "cell_type": "code",
      "metadata": {
        "id": "concerned-interpretation",
        "colab": {
          "base_uri": "https://localhost:8080/"
        },
        "outputId": "d2896e6b-abde-4a97-8a83-01970160edb4"
      },
      "source": [
        "new_Employee = Employee(10992, \"Ravi\", \"Kumar\") # Creating a new instance of Employee class\n",
        "new_Employee"
      ],
      "id": "concerned-interpretation",
      "execution_count": null,
      "outputs": [
        {
          "output_type": "execute_result",
          "data": {
            "text/plain": [
              "<__main__.Employee at 0x7f555f88e110>"
            ]
          },
          "metadata": {
            "tags": []
          },
          "execution_count": 29
        }
      ]
    },
    {
      "cell_type": "code",
      "metadata": {
        "id": "detected-steam",
        "colab": {
          "base_uri": "https://localhost:8080/"
        },
        "outputId": "11027fcc-ec36-48e2-8c2a-eb5c7c69a8cd"
      },
      "source": [
        "# YOUR CODE HERE\r\n",
        "# Access get_id method from  the Employee class\r\n",
        "print(new_Employee.getID())"
      ],
      "id": "detected-steam",
      "execution_count": null,
      "outputs": [
        {
          "output_type": "stream",
          "text": [
            "10992\n"
          ],
          "name": "stdout"
        }
      ]
    },
    {
      "cell_type": "code",
      "metadata": {
        "id": "searching-surrey",
        "colab": {
          "base_uri": "https://localhost:8080/"
        },
        "outputId": "ec17f837-bd32-4a08-b3e8-8c2d1ef8b9e5"
      },
      "source": [
        "# YOUR CODE HERE\r\n",
        "# Access get_firstname method from  the Employee class\r\n",
        "print(new_Employee.getFirstName())"
      ],
      "id": "searching-surrey",
      "execution_count": null,
      "outputs": [
        {
          "output_type": "stream",
          "text": [
            "Ravi\n"
          ],
          "name": "stdout"
        }
      ]
    },
    {
      "cell_type": "code",
      "metadata": {
        "id": "annual-principle",
        "colab": {
          "base_uri": "https://localhost:8080/"
        },
        "outputId": "6ef1c908-6f64-4a45-8570-3e5f91eae464"
      },
      "source": [
        "# YOUR CODE HERE\r\n",
        "# Access get_lastname method from  the Employee class\r\n",
        "print(new_Employee.getLastName())"
      ],
      "id": "annual-principle",
      "execution_count": null,
      "outputs": [
        {
          "output_type": "stream",
          "text": [
            "Kumar\n"
          ],
          "name": "stdout"
        }
      ]
    },
    {
      "cell_type": "code",
      "metadata": {
        "id": "distinguished-carrier",
        "colab": {
          "base_uri": "https://localhost:8080/"
        },
        "outputId": "3ce1d0fc-8f04-44d9-e201-1dcf7da41ced"
      },
      "source": [
        "# YOUR CODE HERE\r\n",
        "# Access get_email method from  the Employee class\r\n",
        "print(new_Employee.getEmailId())"
      ],
      "id": "distinguished-carrier",
      "execution_count": null,
      "outputs": [
        {
          "output_type": "stream",
          "text": [
            "Ravi.Kumar@company.com\n"
          ],
          "name": "stdout"
        }
      ]
    },
    {
      "cell_type": "markdown",
      "metadata": {
        "id": "public-router"
      },
      "source": [
        "#### Inheritance\n",
        "\n",
        "- Inheritance is a way for a class to inherit attributes from another class\n",
        "- This is a form of code reuse\n",
        "- The original class is called a base class, or a superclass, or a parent class\n",
        "- The new class is called a derived class, or a subclass, or a child class\n",
        "- The new class will typically redefine or add new attributes\n",
        "\n"
      ],
      "id": "public-router"
    },
    {
      "cell_type": "markdown",
      "metadata": {
        "id": "roman-distributor"
      },
      "source": [
        "Let us define  another class named \"Developer\" which inherits its properties from the parent class named Employee "
      ],
      "id": "roman-distributor"
    },
    {
      "cell_type": "code",
      "metadata": {
        "id": "determined-procedure"
      },
      "source": [
        "class Developer(Employee): # Child Class for Employee class defined above\n",
        "    def __init__(self,id, firstname, lastname, lang ):\n",
        "        # Call the parent class initialization\n",
        "        super().__init__(id, firstname, lastname)\n",
        "        # Developer class specific initialization \n",
        "        self.lang=lang # storing the language"
      ],
      "id": "determined-procedure",
      "execution_count": null,
      "outputs": []
    },
    {
      "cell_type": "code",
      "metadata": {
        "id": "maritime-wrist",
        "colab": {
          "base_uri": "https://localhost:8080/"
        },
        "outputId": "00e05c8d-2c02-4406-bf57-d71e84345488"
      },
      "source": [
        "help(Developer) # returns the description of the  Developer class"
      ],
      "id": "maritime-wrist",
      "execution_count": null,
      "outputs": [
        {
          "output_type": "stream",
          "text": [
            "Help on class Developer in module __main__:\n",
            "\n",
            "class Developer(Employee)\n",
            " |  Developer(id, firstname, lastname, lang)\n",
            " |  \n",
            " |  Method resolution order:\n",
            " |      Developer\n",
            " |      Employee\n",
            " |      builtins.object\n",
            " |  \n",
            " |  Methods defined here:\n",
            " |  \n",
            " |  __init__(self, id, firstname, lastname, lang)\n",
            " |      Initialize self.  See help(type(self)) for accurate signature.\n",
            " |  \n",
            " |  ----------------------------------------------------------------------\n",
            " |  Methods inherited from Employee:\n",
            " |  \n",
            " |  getEmailId(self)\n",
            " |      # method to access email id of an Employee\n",
            " |      # YOUR CODE HERE\n",
            " |  \n",
            " |  getFirstName(self)\n",
            " |      # method to access firstname of an Employee\n",
            " |      # YOUR CODE HERE\n",
            " |  \n",
            " |  getID(self)\n",
            " |      # self is a reference to the specific instance that is calling this method  \n",
            " |      # method to access id of an Employee    \n",
            " |      # YOUR CODE HERE\n",
            " |  \n",
            " |  getLastName(self)\n",
            " |      # method to access lastname of an Employee\n",
            " |      # YOUR CODE HERE\n",
            " |  \n",
            " |  ----------------------------------------------------------------------\n",
            " |  Data descriptors inherited from Employee:\n",
            " |  \n",
            " |  __dict__\n",
            " |      dictionary for instance variables (if defined)\n",
            " |  \n",
            " |  __weakref__\n",
            " |      list of weak references to the object (if defined)\n",
            "\n"
          ],
          "name": "stdout"
        }
      ]
    },
    {
      "cell_type": "code",
      "metadata": {
        "id": "electric-rating",
        "colab": {
          "base_uri": "https://localhost:8080/"
        },
        "outputId": "bd901847-0e6d-438f-eeaa-094e3b4eda77"
      },
      "source": [
        "newDeveloper = Developer(10927, \"Laxmi\", \"Kumari\", \"Python\") # Creating  a instance of a Developer class which is a child class \n",
        "newDeveloper"
      ],
      "id": "electric-rating",
      "execution_count": null,
      "outputs": [
        {
          "output_type": "execute_result",
          "data": {
            "text/plain": [
              "<__main__.Developer at 0x7f555f85e550>"
            ]
          },
          "metadata": {
            "tags": []
          },
          "execution_count": 36
        }
      ]
    },
    {
      "cell_type": "markdown",
      "metadata": {
        "id": "medieval-filename"
      },
      "source": [
        "Accessing attributes and methods from Employee class"
      ],
      "id": "medieval-filename"
    },
    {
      "cell_type": "code",
      "metadata": {
        "id": "oA710X4lkST-",
        "colab": {
          "base_uri": "https://localhost:8080/"
        },
        "outputId": "c281d864-5e9a-40eb-e2c9-7fcd2088e669"
      },
      "source": [
        "# YOUR CODE HERE for accessing the attributes and methods of Employee class\n",
        "print(\"Printing the Attributes\\n\")\n",
        "print(\" Developer ID:\", newDeveloper.id,\"\\n\",\"Developer FirstName:\",newDeveloper.firstname,\"\\n\",\"Developer LastName:\",newDeveloper.lastname,\"\\n\",\"Developer Language\",newDeveloper.lang,\"\\n\",\"Developer EmailID\",newDeveloper.email,\"\\n\")\n",
        "print(\"Accessing the attributes using Method\\n\")\n",
        "print(\" Developer ID:\", newDeveloper.getID(),\"\\n\",\"Developer FirstName:\",newDeveloper.getFirstName(),\"\\n\",\"Developer LastName:\",newDeveloper.getLastName(),\"\\n\",\"Developer EmailID\",newDeveloper.getEmailId(),\"\\n\")"
      ],
      "id": "oA710X4lkST-",
      "execution_count": null,
      "outputs": [
        {
          "output_type": "stream",
          "text": [
            "Printing the Attributes\n",
            "\n",
            " Developer ID: 10927 \n",
            " Developer FirstName: Laxmi \n",
            " Developer LastName: Kumari \n",
            " Developer Language Python \n",
            " Developer EmailID Laxmi.Kumari@company.com \n",
            "\n",
            "Accessing the attributes using Method\n",
            "\n",
            " Developer ID: 10927 \n",
            " Developer FirstName: Laxmi \n",
            " Developer LastName: Kumari \n",
            " Developer EmailID Laxmi.Kumari@company.com \n",
            "\n"
          ],
          "name": "stdout"
        }
      ]
    },
    {
      "cell_type": "markdown",
      "metadata": {
        "id": "diagnostic-repeat"
      },
      "source": [
        "Multiple classes can inherit from a base(parent) class. Let us create another child class for Employee class named as analyst "
      ],
      "id": "diagnostic-repeat"
    },
    {
      "cell_type": "code",
      "metadata": {
        "id": "pursuant-legislation"
      },
      "source": [
        "class Analyst(Employee): # Child class of Employee class defined above\n",
        "    def __init__(self,id, firstname, lastname, salary):\n",
        "        # Call the parent class initialization\n",
        "        # YOUR CODE HERE\n",
        "        super().__init__(id, firstname, lastname)\n",
        "        self.salary=salary"
      ],
      "id": "pursuant-legislation",
      "execution_count": null,
      "outputs": []
    },
    {
      "cell_type": "code",
      "metadata": {
        "id": "fluid-wilson",
        "colab": {
          "base_uri": "https://localhost:8080/"
        },
        "outputId": "a54f211c-1139-42f9-aac2-6d9d239dd483"
      },
      "source": [
        "# Description of Analyst class using help function\n",
        "help(Analyst)"
      ],
      "id": "fluid-wilson",
      "execution_count": null,
      "outputs": [
        {
          "output_type": "stream",
          "text": [
            "Help on class Analyst in module __main__:\n",
            "\n",
            "class Analyst(Employee)\n",
            " |  Analyst(id, firstname, lastname, salary)\n",
            " |  \n",
            " |  Method resolution order:\n",
            " |      Analyst\n",
            " |      Employee\n",
            " |      builtins.object\n",
            " |  \n",
            " |  Methods defined here:\n",
            " |  \n",
            " |  __init__(self, id, firstname, lastname, salary)\n",
            " |      Initialize self.  See help(type(self)) for accurate signature.\n",
            " |  \n",
            " |  ----------------------------------------------------------------------\n",
            " |  Methods inherited from Employee:\n",
            " |  \n",
            " |  getEmailId(self)\n",
            " |      # method to access email id of an Employee\n",
            " |      # YOUR CODE HERE\n",
            " |  \n",
            " |  getFirstName(self)\n",
            " |      # method to access firstname of an Employee\n",
            " |      # YOUR CODE HERE\n",
            " |  \n",
            " |  getID(self)\n",
            " |      # self is a reference to the specific instance that is calling this method  \n",
            " |      # method to access id of an Employee    \n",
            " |      # YOUR CODE HERE\n",
            " |  \n",
            " |  getLastName(self)\n",
            " |      # method to access lastname of an Employee\n",
            " |      # YOUR CODE HERE\n",
            " |  \n",
            " |  ----------------------------------------------------------------------\n",
            " |  Data descriptors inherited from Employee:\n",
            " |  \n",
            " |  __dict__\n",
            " |      dictionary for instance variables (if defined)\n",
            " |  \n",
            " |  __weakref__\n",
            " |      list of weak references to the object (if defined)\n",
            "\n"
          ],
          "name": "stdout"
        }
      ]
    },
    {
      "cell_type": "code",
      "metadata": {
        "id": "floating-budapest",
        "colab": {
          "base_uri": "https://localhost:8080/"
        },
        "outputId": "4c5ab21a-7eaa-4f20-9ebb-9dab4c28da5a"
      },
      "source": [
        "newAnalyst = Analyst(10927, \"Laxmi\", \"Kumari\", 2000000) # Creating an instance of a Analyst class which is a child class \n",
        "newAnalyst"
      ],
      "id": "floating-budapest",
      "execution_count": null,
      "outputs": [
        {
          "output_type": "execute_result",
          "data": {
            "text/plain": [
              "<__main__.Analyst at 0x7f555f85ea50>"
            ]
          },
          "metadata": {
            "tags": []
          },
          "execution_count": 48
        }
      ]
    },
    {
      "cell_type": "code",
      "metadata": {
        "id": "vanilla-database",
        "colab": {
          "base_uri": "https://localhost:8080/"
        },
        "outputId": "f8c46089-ad61-4695-e922-b522b6621902"
      },
      "source": [
        "newAnalyst.id, newAnalyst.getID()"
      ],
      "id": "vanilla-database",
      "execution_count": null,
      "outputs": [
        {
          "output_type": "execute_result",
          "data": {
            "text/plain": [
              "(10927, 10927)"
            ]
          },
          "metadata": {
            "tags": []
          },
          "execution_count": 50
        }
      ]
    },
    {
      "cell_type": "code",
      "metadata": {
        "id": "connected-transcript",
        "colab": {
          "base_uri": "https://localhost:8080/"
        },
        "outputId": "153972e0-9ebe-47fd-b54d-0b9fc24466f2"
      },
      "source": [
        "newAnalyst.firstname, newAnalyst.getFirstName()"
      ],
      "id": "connected-transcript",
      "execution_count": null,
      "outputs": [
        {
          "output_type": "execute_result",
          "data": {
            "text/plain": [
              "('Laxmi', 'Laxmi')"
            ]
          },
          "metadata": {
            "tags": []
          },
          "execution_count": 51
        }
      ]
    },
    {
      "cell_type": "code",
      "metadata": {
        "id": "received-archive",
        "colab": {
          "base_uri": "https://localhost:8080/"
        },
        "outputId": "7943be4b-3ab8-4474-ca6e-3f70c58c4365"
      },
      "source": [
        "newAnalyst.lastname, newAnalyst.getLastName()"
      ],
      "id": "received-archive",
      "execution_count": null,
      "outputs": [
        {
          "output_type": "execute_result",
          "data": {
            "text/plain": [
              "('Kumari', 'Kumari')"
            ]
          },
          "metadata": {
            "tags": []
          },
          "execution_count": 52
        }
      ]
    },
    {
      "cell_type": "code",
      "metadata": {
        "id": "greater-workplace",
        "colab": {
          "base_uri": "https://localhost:8080/"
        },
        "outputId": "df515bde-2999-4394-db5a-61893edb20e2"
      },
      "source": [
        "newAnalyst.salary"
      ],
      "id": "greater-workplace",
      "execution_count": null,
      "outputs": [
        {
          "output_type": "execute_result",
          "data": {
            "text/plain": [
              "2000000"
            ]
          },
          "metadata": {
            "tags": []
          },
          "execution_count": 53
        }
      ]
    },
    {
      "cell_type": "markdown",
      "metadata": {
        "id": "upset-drill"
      },
      "source": [
        "#### Polymorphism\n",
        "\n",
        "- Different types of objects have methods with the same name that take the same arguments\n",
        "- Programmer does not need to know the exact type of an object for common operations\n",
        "- Typically the objects inherit from the same parent class\n",
        "\n"
      ],
      "id": "upset-drill"
    },
    {
      "cell_type": "markdown",
      "metadata": {
        "id": "lesbian-station"
      },
      "source": [
        "In order to understand the Polymorphism concept let us add one more attribute(salary) and method(get_bonus) to the employee class"
      ],
      "id": "lesbian-station"
    },
    {
      "cell_type": "code",
      "metadata": {
        "id": "innocent-geography"
      },
      "source": [
        "class Employee: # Class named Employee\n",
        "    def __init__(self, id, firstname, lastname, salary): # Initializing a object\n",
        "        self.id = id # Identity of an object\n",
        "        self.firstname = firstname # Firstname of the employee\n",
        "        self.lastname = lastname # Lastname of the employee\n",
        "        self.salary = salary # salary of the employee\n",
        "        self.email = firstname + '.' + lastname + '@company.com' # email Id of an Employee\n",
        "\n",
        "    # method to access id of an Employee    \n",
        "    # YOUR CODE HERE\n",
        "    def get_Id(self):\n",
        "      return self.id\n",
        "\n",
        "    # method to access firstname of an Employee\n",
        "    # YOUR CODE HERE\n",
        "    def get_firstname(self):\n",
        "      return self.firstname\n",
        "    # method to access lastname of an Employee\n",
        "    # YOUR CODE HERE\n",
        "    def get_lastname(self):\n",
        "      return self.lastname\n",
        "    # method to access email id of an Employee\n",
        "    # YOUR CODE HERE\n",
        "    def get_emailid(self):\n",
        "      return self.email\n",
        "\n",
        "    # method to calculate the bonus. The function takes \"amount\" to be given to a employee as a argument     \n",
        "    # YOUR CODE HERE\n",
        "    def get_bonus(self,amount):\n",
        "      return amount\n"
      ],
      "id": "innocent-geography",
      "execution_count": null,
      "outputs": []
    },
    {
      "cell_type": "code",
      "metadata": {
        "id": "adverse-techno",
        "colab": {
          "base_uri": "https://localhost:8080/"
        },
        "outputId": "6067ef2b-f692-4540-ce9c-bf448bec2520"
      },
      "source": [
        "Employee_2 = Employee(10927, \"Laxmi\", \"Kumari\", 2000000) # Instance of an Employee class\n",
        "Employee_2"
      ],
      "id": "adverse-techno",
      "execution_count": null,
      "outputs": [
        {
          "output_type": "execute_result",
          "data": {
            "text/plain": [
              "<__main__.Employee at 0x7f555f83f610>"
            ]
          },
          "metadata": {
            "tags": []
          },
          "execution_count": 72
        }
      ]
    },
    {
      "cell_type": "code",
      "metadata": {
        "id": "concerned-twist",
        "colab": {
          "base_uri": "https://localhost:8080/"
        },
        "outputId": "7280122d-cd76-4230-c5d9-f0c53b7ef14e"
      },
      "source": [
        "Employee_2.salary # Accessing salary attribute of a Employee class"
      ],
      "id": "concerned-twist",
      "execution_count": null,
      "outputs": [
        {
          "output_type": "execute_result",
          "data": {
            "text/plain": [
              "2000000"
            ]
          },
          "metadata": {
            "tags": []
          },
          "execution_count": 73
        }
      ]
    },
    {
      "cell_type": "code",
      "metadata": {
        "id": "terminal-viewer",
        "colab": {
          "base_uri": "https://localhost:8080/"
        },
        "outputId": "80887e32-602c-4980-95ab-9921122c14f5"
      },
      "source": [
        "Employee_2.get_bonus(1000) # Accessing get_bonus method of a Employee class"
      ],
      "id": "terminal-viewer",
      "execution_count": null,
      "outputs": [
        {
          "output_type": "execute_result",
          "data": {
            "text/plain": [
              "1000"
            ]
          },
          "metadata": {
            "tags": []
          },
          "execution_count": 74
        }
      ]
    },
    {
      "cell_type": "markdown",
      "metadata": {
        "id": "organic-swift"
      },
      "source": [
        "Now let us create another class named as Manager which inherits all the properties of an Employee class"
      ],
      "id": "organic-swift"
    },
    {
      "cell_type": "code",
      "metadata": {
        "id": "incorporated-colombia"
      },
      "source": [
        "class Manager(Employee):\n",
        "    def __init__(self,id, firstname, lastname, salary):\n",
        "        # Call the parent class initialization\n",
        "        super().__init__(id, firstname, lastname, salary)\n",
        "    # Modifying the get_bonus function inherited from the Employee class\n",
        "    # Polymorphism\n",
        "    def get_bonus(self, amount):\n",
        "        amount = amount * 1.5\n",
        "        return Employee.get_bonus(self, amount)"
      ],
      "id": "incorporated-colombia",
      "execution_count": null,
      "outputs": []
    },
    {
      "cell_type": "code",
      "metadata": {
        "id": "involved-windows",
        "colab": {
          "base_uri": "https://localhost:8080/"
        },
        "outputId": "4a8bd086-af2a-46ae-f3c8-6cac0a4eaca2"
      },
      "source": [
        "help(Manager) # Description of Manager function"
      ],
      "id": "involved-windows",
      "execution_count": null,
      "outputs": [
        {
          "output_type": "stream",
          "text": [
            "Help on class Manager in module __main__:\n",
            "\n",
            "class Manager(Employee)\n",
            " |  Manager(id, firstname, lastname, salary)\n",
            " |  \n",
            " |  Method resolution order:\n",
            " |      Manager\n",
            " |      Employee\n",
            " |      builtins.object\n",
            " |  \n",
            " |  Methods defined here:\n",
            " |  \n",
            " |  __init__(self, id, firstname, lastname, salary)\n",
            " |      Initialize self.  See help(type(self)) for accurate signature.\n",
            " |  \n",
            " |  get_bonus(self, amount)\n",
            " |      # Modifying the get_bonus function inherited from the Employee class\n",
            " |      # Polymorphism\n",
            " |  \n",
            " |  ----------------------------------------------------------------------\n",
            " |  Methods inherited from Employee:\n",
            " |  \n",
            " |  get_Id(self)\n",
            " |      # method to access id of an Employee    \n",
            " |      # YOUR CODE HERE\n",
            " |  \n",
            " |  get_emailid(self)\n",
            " |      # method to access email id of an Employee\n",
            " |      # YOUR CODE HERE\n",
            " |  \n",
            " |  get_firstname(self)\n",
            " |      # method to access firstname of an Employee\n",
            " |      # YOUR CODE HERE\n",
            " |  \n",
            " |  get_lastname(self)\n",
            " |      # method to access lastname of an Employee\n",
            " |      # YOUR CODE HERE\n",
            " |  \n",
            " |  ----------------------------------------------------------------------\n",
            " |  Data descriptors inherited from Employee:\n",
            " |  \n",
            " |  __dict__\n",
            " |      dictionary for instance variables (if defined)\n",
            " |  \n",
            " |  __weakref__\n",
            " |      list of weak references to the object (if defined)\n",
            "\n"
          ],
          "name": "stdout"
        }
      ]
    },
    {
      "cell_type": "code",
      "metadata": {
        "id": "marked-macintosh"
      },
      "source": [
        "# YOUR CODE HERE \n",
        "# Create an instance of a Manager class\n",
        "newManager=Manager(\"110079\",\"Jack\",\"Sparrow\",\"400000\")"
      ],
      "id": "marked-macintosh",
      "execution_count": null,
      "outputs": []
    },
    {
      "cell_type": "code",
      "metadata": {
        "id": "linear-moldova",
        "colab": {
          "base_uri": "https://localhost:8080/"
        },
        "outputId": "4338d1c5-dfd6-4340-9029-084ea36fca41"
      },
      "source": [
        "# YOUR CODE HERE \r\n",
        "# Accessing Salary attribute from Employee class\r\n",
        "print(\"Salary of the Manager:\", newManager.salary)"
      ],
      "id": "linear-moldova",
      "execution_count": null,
      "outputs": [
        {
          "output_type": "stream",
          "text": [
            "Salary of the Manager: 400000\n"
          ],
          "name": "stdout"
        }
      ]
    },
    {
      "cell_type": "code",
      "metadata": {
        "id": "peripheral-attribute",
        "colab": {
          "base_uri": "https://localhost:8080/"
        },
        "outputId": "a106b857-19e9-4e5c-dcfa-83b46ae981cb"
      },
      "source": [
        "# YOUR CODE HERE \r\n",
        "# Accessing get_bonus method from Employee class\r\n",
        "print(\"Bonus Recieved by an Employee:\", newManager.get_bonus(1000))"
      ],
      "id": "peripheral-attribute",
      "execution_count": null,
      "outputs": [
        {
          "output_type": "stream",
          "text": [
            "Bonus Recieved by an Employee: 1500.0\n"
          ],
          "name": "stdout"
        }
      ]
    },
    {
      "cell_type": "markdown",
      "metadata": {
        "id": "essential-funeral"
      },
      "source": [
        "#### Research Questions\n",
        "\n",
        "1. Create a class that takes the following four arguments for a particular cricket player:\n",
        "\n",
        "- Name\n",
        "- Age \n",
        "- Height (in cms)\n",
        "- Country\n",
        "\n",
        "Also, create four functions for the class that returns the following strings\n",
        "\n",
        "- getName() returns \"Name of the cricketer is: Name\"\n",
        "- getAge() returns \"Age of the cricketer is: Age\"\n",
        "- getHeight() returns \"Height of the cricketer is: Height\"\n",
        "- getCountry() returns \"Cricketer plays for: Country\"\n",
        "\n",
        "**Example**\n",
        "\n",
        "cricketer_1 = Player(\"Sachin Tendulkar\", 47, 165, \"India\")\n",
        "\n",
        "cricketer_1.getName() -> Name of the cricketer is: Sachin Tendulkar\n",
        "\n",
        "cricketer_1.getAge()  -> Age of the cricketer is 47\n",
        "\n",
        "cricketer_1.getHeight() -> Height of the cricketer is 165\n",
        "\n",
        "cricketer_1.getCountry() -> Cricketer plays for: India\n"
      ],
      "id": "essential-funeral"
    },
    {
      "cell_type": "code",
      "metadata": {
        "id": "yGipJ2jJMZ-U"
      },
      "source": [
        "#Create a class that takes the following four arguments for a particular cricket player:\n",
        "class Player:\n",
        "  def __init__(self,name,age,height,country):\n",
        "    self.name=name\n",
        "    self.age=age\n",
        "    self.height=height\n",
        "    self.country=country\n",
        "  def getName(self):\n",
        "    return \"Name of the cricketer is: \"+self.name\n",
        "  def getAge(self):\n",
        "    return \"Age of the crickter is: \"+self.age\n",
        "  def getHeight(self):\n",
        "    return \"Height of the cricketer is: \"+self.height\n",
        "  def getCountry(self):\n",
        "    return \"Cricketer plays for: \" self.country\n"
      ],
      "id": "yGipJ2jJMZ-U",
      "execution_count": null,
      "outputs": []
    },
    {
      "cell_type": "code",
      "metadata": {
        "id": "7u8qgIf3OGlJ",
        "colab": {
          "base_uri": "https://localhost:8080/"
        },
        "outputId": "c18ef95e-8ab6-4d1c-f0a4-6e2e325e6186"
      },
      "source": [
        "# Access Methods and Attributes\n",
        "\n",
        "newPlayer=Player(\"Sachin Tendulkar\", 47, 165, \"India\")\n",
        "\n",
        "print(newPlayer.getName(),\"\\n\",newPlayer.getAge(),\"\\n\",newPlayer.getHeight(),\"\\n\",newPlayer.getCountry())\n"
      ],
      "id": "7u8qgIf3OGlJ",
      "execution_count": null,
      "outputs": [
        {
          "output_type": "stream",
          "text": [
            " Player Name: Name of the cricketer isSachin Tendulkar \n",
            " Player Age: 47 \n",
            " Player Height 165 \n",
            " Players Cou India\n"
          ],
          "name": "stdout"
        }
      ]
    },
    {
      "cell_type": "markdown",
      "metadata": {
        "id": "VHfHdGCP_n6Y"
      },
      "source": [
        "### Please answer the questions below to complete the experiment:\n",
        "\n",
        "\n"
      ],
      "id": "VHfHdGCP_n6Y"
    },
    {
      "cell_type": "code",
      "metadata": {
        "id": "ExAnJd09VKSb"
      },
      "source": [
        "# @title Which statement best describes the method of inheritance in OOP { run: \"auto\", form-width: \"500px\", display-mode: \"form\" }\n",
        "Answer = \"\" #@param [\"\",\"Inheritance describes the capability of creating new classes based on an existing class\",\"Inheritance refers to a group of properties, methods and other related members being treated as a single unit or object\",\"Inheritance allows only single-level inheritance, not multiple-level inheritance\"]"
      ],
      "id": "ExAnJd09VKSb",
      "execution_count": null,
      "outputs": []
    },
    {
      "cell_type": "code",
      "metadata": {
        "id": "NMzKSbLIgFzQ"
      },
      "source": [
        "#@title How was the experiment? { run: \"auto\", form-width: \"500px\", display-mode: \"form\" }\n",
        "Complexity = \"\" #@param [\"\",\"Too Simple, I am wasting time\", \"Good, But Not Challenging for me\", \"Good and Challenging for me\", \"Was Tough, but I did it\", \"Too Difficult for me\"]\n"
      ],
      "id": "NMzKSbLIgFzQ",
      "execution_count": null,
      "outputs": []
    },
    {
      "cell_type": "code",
      "metadata": {
        "id": "DjcH1VWSFI2l"
      },
      "source": [
        "#@title If it was too easy, what more would you have liked to be added? If it was very difficult, what would you have liked to have been removed? { run: \"auto\", display-mode: \"form\" }\n",
        "Additional = \"\" #@param {type:\"string\"}\n"
      ],
      "id": "DjcH1VWSFI2l",
      "execution_count": null,
      "outputs": []
    },
    {
      "cell_type": "code",
      "metadata": {
        "id": "4VBk_4VTAxCM"
      },
      "source": [
        "#@title Can you identify the concepts from the lecture which this experiment covered? { run: \"auto\", vertical-output: true, display-mode: \"form\" }\n",
        "Concepts = \"\" #@param [\"\",\"Yes\", \"No\"]\n"
      ],
      "id": "4VBk_4VTAxCM",
      "execution_count": null,
      "outputs": []
    },
    {
      "cell_type": "code",
      "metadata": {
        "id": "XH91cL1JWH7m"
      },
      "source": [
        "#@title  Text and image description/explanation and code comments within the experiment: { run: \"auto\", vertical-output: true, display-mode: \"form\" }\n",
        "Comments = \"\" #@param [\"\",\"Very Useful\", \"Somewhat Useful\", \"Not Useful\", \"Didn't use\"]\n"
      ],
      "id": "XH91cL1JWH7m",
      "execution_count": null,
      "outputs": []
    },
    {
      "cell_type": "code",
      "metadata": {
        "id": "z8xLqj7VWIKW"
      },
      "source": [
        "#@title Mentor Support: { run: \"auto\", vertical-output: true, display-mode: \"form\" }\n",
        "Mentor_support = \"\" #@param [\"\",\"Very Useful\", \"Somewhat Useful\", \"Not Useful\", \"Didn't use\"]\n"
      ],
      "id": "z8xLqj7VWIKW",
      "execution_count": null,
      "outputs": []
    },
    {
      "cell_type": "code",
      "metadata": {
        "id": "FzAZHt1zw-Y-",
        "cellView": "form"
      },
      "source": [
        "#@title Run this cell to submit your notebook for grading { vertical-output: true }\n",
        "try:\n",
        "  if submission_id:\n",
        "      return_id = submit_notebook()\n",
        "      if return_id : submission_id = return_id\n",
        "  else:\n",
        "      print(\"Please complete the setup first.\")\n",
        "except NameError:\n",
        "  print (\"Please complete the setup first.\")"
      ],
      "id": "FzAZHt1zw-Y-",
      "execution_count": null,
      "outputs": []
    }
  ]
}
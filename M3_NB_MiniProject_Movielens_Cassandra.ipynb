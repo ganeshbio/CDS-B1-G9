{
  "nbformat": 4,
  "nbformat_minor": 5,
  "metadata": {
    "kernelspec": {
      "display_name": "Python 3",
      "language": "python",
      "name": "python3"
    },
    "language_info": {
      "codemirror_mode": {
        "name": "ipython",
        "version": 3
      },
      "file_extension": ".py",
      "mimetype": "text/x-python",
      "name": "python",
      "nbconvert_exporter": "python",
      "pygments_lexer": "ipython3",
      "version": "3.9.2"
    },
    "colab": {
      "name": "M3_NB_MiniProject_Movielens_Cassandra.ipynb",
      "provenance": [],
      "collapsed_sections": [],
      "include_colab_link": true
    }
  },
  "cells": [
    {
      "cell_type": "markdown",
      "metadata": {
        "id": "view-in-github",
        "colab_type": "text"
      },
      "source": [
        "<a href=\"https://colab.research.google.com/github/ganeshbio/CDS-B1-G9/blob/main/M3_NB_MiniProject_Movielens_Cassandra.ipynb\" target=\"_parent\"><img src=\"https://colab.research.google.com/assets/colab-badge.svg\" alt=\"Open In Colab\"/></a>"
      ]
    },
    {
      "cell_type": "markdown",
      "metadata": {
        "id": "UGX-JCC0Kfj_"
      },
      "source": [
        "# Advanced Certification Program in Computational Data Science\n",
        "## A program by IISc and TalentSprint\n",
        "### Mini-Project: Data querying and analysis using NoSQL Database"
      ],
      "id": "UGX-JCC0Kfj_"
    },
    {
      "cell_type": "markdown",
      "metadata": {
        "id": "nKwRLuRawuMm"
      },
      "source": [
        "## Problem Statement"
      ],
      "id": "nKwRLuRawuMm"
    },
    {
      "cell_type": "markdown",
      "metadata": {
        "id": "GcfsHAkQKicm"
      },
      "source": [
        "Using the Cassandra NoSQL database, explore the **Movielens** dataset and build a movie recommendation engine"
      ],
      "id": "GcfsHAkQKicm"
    },
    {
      "cell_type": "markdown",
      "metadata": {
        "id": "solid-northeast"
      },
      "source": [
        "## Learning Objectives"
      ],
      "id": "solid-northeast"
    },
    {
      "cell_type": "markdown",
      "metadata": {
        "id": "automated-grass"
      },
      "source": [
        "At the end of the mini-project, you will be able to :\n",
        "\n",
        "* understand the concepts of NoSQL platforms\n",
        "* implement the database connectivity using Cassandra\n",
        "* create and insert data to the database \n",
        "* perform querying, retrieving and analyzing the data from database"
      ],
      "id": "automated-grass"
    },
    {
      "cell_type": "markdown",
      "metadata": {
        "id": "danish-guard"
      },
      "source": [
        "### Dataset"
      ],
      "id": "danish-guard"
    },
    {
      "cell_type": "markdown",
      "metadata": {
        "id": "ei4RdaJXKrsQ"
      },
      "source": [
        "The dataset chosen for this mini-project is [Movielens Dataset](https://movielens.org/). The dataset describes movies and ratings from Movielens. It contains movies from year 1919 to 2000 of total 3883 movies. There are 6040 users who have rated one or more than one movie of total 1000209 ratings collected. Movielens is maintained by members of GroupLens Research at the University of Minnesota. There are 3 datasets given, and they are:\n",
        "\n",
        "1. `data_movie.csv` that contains movies information:\n",
        "\n",
        "* MovieId\n",
        "* Title\n",
        "* Genres\n",
        "\n",
        "2. `data_rating.csv` that contains ratings of movies by users:\n",
        "\n",
        "* UserId\n",
        "* MovieId\n",
        "* Rating\n",
        "\n",
        "3. `data_users.csv` that contains users information:\n",
        "\n",
        "* UserId\n",
        "* Age\n",
        "* Gender"
      ],
      "id": "ei4RdaJXKrsQ"
    },
    {
      "cell_type": "markdown",
      "metadata": {
        "id": "color-conference"
      },
      "source": [
        "## Information"
      ],
      "id": "color-conference"
    },
    {
      "cell_type": "markdown",
      "metadata": {
        "id": "included-advocate"
      },
      "source": [
        "#### NoSQL platforms\n",
        "\n",
        "A NoSQL database provides a mechanism for storage and retrieval of data that is modeled in a form other than the tabular relations used in relational databases.\n",
        "\n",
        "**Cassandra** \n",
        "\n",
        "Apache Cassandra is a free and open-source, distributed, wide-column store, NoSQL database management system designed to handle large amounts of data across many commodity servers, providing high availability with no single point of failure. It is a NOSQL database developed by Facebook. It is a great database that allows you to effectively run queries on large amount of structured and semi structured data.\n",
        "\n",
        "To know when you have to choose Cassandra as your database of choice, you need to have an understanding of CAP Theorem.\n",
        "\n",
        "CAP theorem states that it is impossible for a distributed system to satisfy all three of these guarantees together, you need to leave one out.\n",
        "\n",
        "- C is Consistency, means all nodes have the same data at the same time\n",
        "- P is partition tolerance, means that in case of failure the system continues to operate\n",
        "- A is availability , make sure every request receives a response\n",
        "\n",
        "![img](https://developer.ibm.com/developer/default/tutorials/ba-set-up-apache-cassandra-architecture/images/figure1.png)"
      ],
      "id": "included-advocate"
    },
    {
      "cell_type": "markdown",
      "metadata": {
        "id": "circular-ireland"
      },
      "source": [
        "### Components of Cassandra\n",
        "\n",
        "There are following components in the Cassandra\n",
        "\n",
        "![img](https://www.guru99.com/images/cassandra/021116_0524_CassandraAr1.png)\n",
        "\n",
        "**Node**\n",
        "Node is the place where data is stored. It is the basic component of Cassandra.\n",
        "\n",
        "**Data Center**\n",
        "A collection of nodes are called data center. Many nodes are categorized as a data center.\n",
        "\n",
        "**Cluster**\n",
        "The cluster is the collection of many data centers.\n",
        "\n",
        "**Commit Log**\n",
        "Every write operation is written to Commit Log. Commit log is used for crash recovery.\n",
        "\n",
        "**Mem-table**\n",
        "After data written in Commit log, data is written in Mem-table. Data is written in Mem-table temporarily.\n",
        "\n",
        "**SSTable**\n",
        "When Mem-table reaches a certain threshold, data is flushed to an SSTable disk file."
      ],
      "id": "circular-ireland"
    },
    {
      "cell_type": "markdown",
      "metadata": {
        "id": "emotional-michael"
      },
      "source": [
        "### Data Replication\n",
        "\n",
        "As hardware problem can occur or link can be down at any time during data process, a solution is required to provide a backup when the problem has occurred. So data is replicated for assuring no single point of failure.\n",
        "\n",
        "Cassandra places replicas of data on different nodes based on these two factors.\n",
        "- Where to place next replica is determined by the Replication Strategy.\n",
        "- While the total number of replicas placed on different nodes is determined by the Replication Factor.\n",
        "\n",
        "One Replication factor means that there is only a single copy of data while three replication factor means that there are three copies of the data on three different nodes."
      ],
      "id": "emotional-michael"
    },
    {
      "cell_type": "markdown",
      "metadata": {
        "id": "ndQNKsjS7c04"
      },
      "source": [
        "## Grading = 10 Points"
      ],
      "id": "ndQNKsjS7c04"
    },
    {
      "cell_type": "markdown",
      "metadata": {
        "id": "developed-value"
      },
      "source": [
        "**Install the cassandra-driver**"
      ],
      "id": "developed-value"
    },
    {
      "cell_type": "code",
      "metadata": {
        "id": "contrary-saturday",
        "outputId": "0d0cae44-e87b-4fd1-cafa-867d79cb34d0",
        "colab": {
          "base_uri": "https://localhost:8080/"
        }
      },
      "source": [
        "!pip install cassandra-driver"
      ],
      "id": "contrary-saturday",
      "execution_count": 1,
      "outputs": [
        {
          "output_type": "stream",
          "text": [
            "Collecting cassandra-driver\n",
            "\u001b[?25l  Downloading https://files.pythonhosted.org/packages/5c/85/2b87a18870e6c457a762cea58920a42c5d357b3e9ef3a6f94b978429ec15/cassandra_driver-3.25.0-cp37-cp37m-manylinux1_x86_64.whl (3.8MB)\n",
            "\u001b[K     |████████████████████████████████| 3.8MB 5.5MB/s \n",
            "\u001b[?25hRequirement already satisfied: six>=1.9 in /usr/local/lib/python3.7/dist-packages (from cassandra-driver) (1.15.0)\n",
            "Collecting geomet<0.3,>=0.1\n",
            "  Downloading https://files.pythonhosted.org/packages/c9/81/156ca48f950f833ddc392f8e3677ca50a18cb9d5db38ccb4ecea55a9303f/geomet-0.2.1.post1-py3-none-any.whl\n",
            "Requirement already satisfied: click in /usr/local/lib/python3.7/dist-packages (from geomet<0.3,>=0.1->cassandra-driver) (7.1.2)\n",
            "Installing collected packages: geomet, cassandra-driver\n",
            "Successfully installed cassandra-driver-3.25.0 geomet-0.2.1.post1\n"
          ],
          "name": "stdout"
        }
      ]
    },
    {
      "cell_type": "markdown",
      "metadata": {
        "id": "recorded-feelings"
      },
      "source": [
        "#### Importing Necessary Packages"
      ],
      "id": "recorded-feelings"
    },
    {
      "cell_type": "code",
      "metadata": {
        "id": "million-maintenance"
      },
      "source": [
        "import pandas as pd\n",
        "import cassandra\n",
        "from cassandra.cluster import Cluster\n",
        "from cassandra.auth import PlainTextAuthProvider\n",
        "from matplotlib import pyplot as plt"
      ],
      "id": "million-maintenance",
      "execution_count": 2,
      "outputs": []
    },
    {
      "cell_type": "code",
      "metadata": {
        "id": "further-cowboy",
        "outputId": "0953c80f-b008-4df5-c4ad-c88270b3d57a",
        "colab": {
          "base_uri": "https://localhost:8080/"
        }
      },
      "source": [
        "print(cassandra.__version__)"
      ],
      "id": "further-cowboy",
      "execution_count": 3,
      "outputs": [
        {
          "output_type": "stream",
          "text": [
            "3.25.0\n"
          ],
          "name": "stdout"
        }
      ]
    },
    {
      "cell_type": "markdown",
      "metadata": {
        "id": "governmental-front"
      },
      "source": [
        "### Database connection (2 points)\n",
        "\n",
        "**Astra Datastax login:** Login to [Datastax](https://www.datastax.com/) and create a database\n",
        "\n",
        "For detailed instructions of account creation, please refer this [document](https://cdn.iisc.talentsprint.com/CDS/MiniProjects/DataStax_Connect.pdf)\n",
        "\n",
        "**Connect the database and create keyspace:**\n",
        "\n",
        "* Download Secure Connect Bundle zip file from Datastax [connect](https://docs.datastax.com/en/astra/docs/obtaining-database-credentials.html) section. Follow the instructions on the page\n",
        "* Upload the `Secure-connect-XXXX.zip` file, which is downloaded from datastax.\n",
        "* Generate the token and save the credentials from settings section.\n",
        "    - Hint: Select role as `admin-user` and generate token\n",
        "* Using the credentials generated in settings, specify the `client Id` and `Client Secret` to the variables below."
      ],
      "id": "governmental-front"
    },
    {
      "cell_type": "code",
      "metadata": {
        "id": "accompanied-husband",
        "outputId": "13fe80b9-d716-40e4-bfc4-82d47d79312c",
        "colab": {
          "resources": {
            "http://localhost:8080/nbextensions/google.colab/files.js": {
              "data": "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",
              "ok": true,
              "headers": [
                [
                  "content-type",
                  "application/javascript"
                ]
              ],
              "status": 200,
              "status_text": ""
            }
          },
          "base_uri": "https://localhost:8080/",
          "height": 109
        }
      },
      "source": [
        "from google.colab import files\n",
        "files.upload()"
      ],
      "id": "accompanied-husband",
      "execution_count": 4,
      "outputs": [
        {
          "output_type": "display_data",
          "data": {
            "text/html": [
              "\n",
              "     <input type=\"file\" id=\"files-8f1748d7-a73f-4aee-9702-fdc4aff7b968\" name=\"files[]\" multiple disabled\n",
              "        style=\"border:none\" />\n",
              "     <output id=\"result-8f1748d7-a73f-4aee-9702-fdc4aff7b968\">\n",
              "      Upload widget is only available when the cell has been executed in the\n",
              "      current browser session. Please rerun this cell to enable.\n",
              "      </output>\n",
              "      <script src=\"/nbextensions/google.colab/files.js\"></script> "
            ],
            "text/plain": [
              "<IPython.core.display.HTML object>"
            ]
          },
          "metadata": {
            "tags": []
          }
        },
        {
          "output_type": "stream",
          "text": [
            "Saving secure-connect-gainer.zip to secure-connect-gainer.zip\n"
          ],
          "name": "stdout"
        },
        {
          "output_type": "execute_result",
          "data": {
            "text/plain": [
              "{'secure-connect-gainer.zip': b'PK\\x03\\x04\\x14\\x00\\x08\\x00\\x08\\x00+\\x19\\x88R\\x00\\x00\\x00\\x00\\x00\\x00\\x00\\x00\\x00\\x00\\x00\\x00\\x06\\x00\\t\\x00ca.crtUT\\x05\\x00\\x01\\xe2sn`d\\x94\\xcd\\x92\\xba8\\x14\\xc5\\xf7<\\xc5\\xec\\xad)\\x01?\\x90\\xc5\\x7fq\\x03!\\x80\\x06\\r\\xf2\\x15w\\x82\\x1a\\xc4\\x06\\x15i\\x02>\\xfdT\\xdb\\x9b\\xa9\\x99,O\\xa5~\\xf7\\x9c\\xba\\xb7\\xce\\xdf?\\x0fa\\xe2\\x05\\x7fY8\\x8c<\\xc7\\xb3 \\xc2\\x1fU\\xa1\\x9egw\\xb6e\\xc1c\\x14 =\\x04\\xc2\\xb3P\\x13K\\x9bq\\x7f}?xe_\\x04\\xc0\\xf0\\x061\\x90\\xe77\\xdeP\\xb8\\x11\\xd0b\\x8cJj%\\t\\x1d\\x14\\xeb\\r>\\x12A\\x82@Dp\\x0b\\x10\\r\\x99\\xc4\\x82\\xdb\\tc.\\x96]\\xc4\\xd3\\x85\\xca\\xf7\\xc8\\xce\\x893\\xf2\\x08\\x87\\x14V\\x1f\\x80UR/$\\x8e\\xaa\\xf0$Py&\\x06\\xbb\\x02\\xfa\\x0bzE(\\x0e^\\xf9,\\xb9\\xd1=\\x97>|`6\\x1e\\xb4\\x8a\\xef\\x177~]\\x94\\xc5,\\x1c\\xf9^\\x93Em\\xde\\x94M\\x1d\\x96\\'\\xe2\\xbcO\\xc4\\x99o\\xea\\xa0\\xcf#8;R\\x1di\\x04\\x03\\xad`\\xa46\\xd6\\xa9\\xed\\x1f\\x1d\\xa9\\xbe\\xff\\xabQ\\xf7\\xf5\\xef\\x08<\\x82\\xaf$\\xa2\\xec%-\\xf6\\x99\\xeaa\\xe9\\xdb,\\xc21E\\xdeo\\xee\\x81nb\\xdd\\xf9>\\x11,\\x98>\\x94E\\x8d\\x07\\x05G\\xb0\\xfb\\x05\\xdc#\\x0b\\x7f\\xdcD?n(\\x9bK\\xfb\\xd7\\xfe\\x06\\xcb\\xc4\\xce\\x89\\xa9\\x1dl\\\\S\\x8b}`0\\xd0\\x13\\xd7\\xf1\\xb7r \\xde7\\xcf\\x02\\xb5\\xa8qW\\xb8~\\x7f\\xb0\\x167\\x9e\\x85?9\\xcb\\xb3\\xb5\\xa8r]\\x95B\\xe0+\\x05\\x95X\\xfb\\'\\xd9{\\xf9\\xccf\\x18\\x01\\x8b\\x01\\xe6\\x1eRl\\t?\\x1f\\xd6p\\xf7\\x100{\\xbdm\\x1e\\xb2\\xa0\\x86\\x0b\\xc7t\\xdb7\\x17t+0\\xdf\\x18R\\xa2\\xee\\xd1\\x9d\\x83b~,2\\xaa\\xd5Q{\\x17\\xfa\\xca\\\\\\x0fBy\\xc5\\x0c\\x8b\\xd36\\xd2\\xf1%\\xbc\\xeeg\\xcf\\xb2\\xdd\\xe5\\x87\\xc6\\x98\\x9c3\\x1e\\x81\\xd1Df\\x9c\\xcd\\x86\\xa6\\xd9\\xc9\\xab\\x88\\xa0\\xc6\\xec\\xc4\\xfa\\xcb\\x14\\xb2\\xa3\\xd1NH\\xf9@w\\xe5y\\x9fZ;\\xd5\\xcf\\xf0\\xa9k;X\\xad\\x13\\xfb\\x99\\x92A4\\xcd#\\n\\xd2\\xdc\\xa9\\x11\\xae\\xac\\x9a\\xe8\\xa69\\xcd\\x1d\\x91\\x92Z\\xf4\\xb0\\xa9J\\x99\\xba\\x10\\x8f\\xd1\\xec\\xe5*e\\xa8\\xa9\\x93\\xb8\\xed8YZ\\xa0\\xc2[[\\xb5r2\\xaa\\xdd\\xa5\\xf0J\\xb2v\\xfbj\\xdb\\x15\\xddE4\\x95\\xfdX\\\\\\xae\\xdf\\xee\\xb2\\xf7\\xf1\\xd9}m\\xd7\\xab^l\\xfd\\xf5R\\x19P\\x94\\x1f\\xd3\\xea\\x02\\xbb\\xa7\\x07\\xed\\xc3J\\x9do\\x81\\xdb\\xf8\\x1d55\\xaf\\r\\xa3\\x0eg\\xb4\\xaa.;\\x87Ndk\\xd1G\\xb6\\xdf\\x06Mm\\xe8z\\xff\\xb0\\xc6\\xea\\xad\\xe5\\x8a4\\xf3\\xe4\\xe4q\\x95\\xe0\\xae?\\xf9\\xef\\xb5\\xcb\\x19\\x9f\\xc2\\xe4\\xd5\\x05IM\\x0f\\x1a\\xd5\\x82w\\x08\\x82\"\\x00R\\xb1\\n\\x01\\x85\\xf9\\xcf\\x1aO\\xb6\\xc4h*\\x19V@zVi\\xc3\\xe9\\xe7\\x16\\xdc}\\x8c\\x9d\\nb$D\\x8b\\x04v\\x10+l\\x10\\xdc[K\\x8e\\x10\\x8b]\\x90X\\xda\\x92\\xdbI\\xa8F\\xc0\\xdc)\\x82X*\\xf0CzC\\x80\\xc4\\xedY\\xde\\xae\\xc4\\x94*\\x02\\xf6r\\x00\\xb6\\x160\\x0c\\x89/\\x97\\xa7$\\xf2c\\x97,\\xc74>\\xecdz\\xbaizx\\xfcv\\x06\\xd7\\x9cL\\x94\\x18i\\xcbK\\xaf\\xcaM0\\x1a+\\x14\\xf0\"\\x99&y\\xf0\\x9c\\xb2r\\xac\\xdff2=\\xeciW\\xb7\\xbe\\xd4\\xa7_\\xc9\\xfcjt\"\\xa1\\x89s;\\x06;|v:w\\xbbQ\\xd4\"\\xf5\\xebd9~;_iJ\\xaa\\xe3avw-\\xd8\\x98 \\xc5|X\\xa6\\xac\\xee\\xe8\\xbd=\\x9f\\x8aG\\xb8\\x87-i\\xcc2\\x9bx\\xf4\\xdc\\x84\\xce|\\x8b\\xbd\\xd5W\\xa7\\x10\\xcdx\\'\\xe4H\\xa3\\xf2`L\\xb7\\xee\\xdb\\xf1z\\x91-\\xc6\\xe6\\xf9e\\xbeB\\x94\\x11\\x15\\xaa\\xe0\\x85\\x88\\xce\\xae\\xbb\\x89\\x9a]\\x8f&\"}_\\xdd\\x9ep\\x19\\xe4c>\\xb7\\x94\\xf4X$\\xaf<O\\x9d\\xb6\\x98\\xb4g^o/\\xf5}\\\\\\xe5\\x9a\\xf3UOE\\x96\\xect;\\xaf(\\x97n\\xb6\\x08\\xd7\\xfd\\xae\\xd3\\xf7\\xcc\\xd8\\xe8\\xd7L\\x1c\\x8f\\xdaq>\\x11\\xa6r\\xf0\\x87i<\\x0b\\x1dw}vr\\xf9\\x087\\x8ek\\xa83\\x07\\xb4TW\\xb5\\x99I\\xafu\\xbb\\xbf\\\\\\x1b\\xf7\\xca\\xf6\\xe3$\\xc5\\xf6\\xcb\\xd8\\xcd5\\xf9\\xe7\\x8f\\xf2iD\\x1c\\xd8\\xffk\\xc9\\x7f\\x02\\x00\\x00\\xff\\xffPK\\x07\\x08\\xd2\\x87\\x16\\xe6\\xe8\\x03\\x00\\x00A\\x05\\x00\\x00PK\\x03\\x04\\x14\\x00\\x08\\x00\\x08\\x00+\\x19\\x88R\\x00\\x00\\x00\\x00\\x00\\x00\\x00\\x00\\x00\\x00\\x00\\x00\\x03\\x00\\t\\x00keyUT\\x05\\x00\\x01\\xe2sn`l\\xd57\\x12\\xabZ\\x02\\x04\\xd0\\x9cU\\xbc\\x9c\\x9a\\xc2\\nA0\\x01\\xe6\\x02\\x17\\xe1A\\xc2d\\x08\\xef\\x8d\\xf0\\xab\\x9f\\xfao\\xd2\\xdfi\\']\\x9d\\x9c\\xff\\xfc\\x13\\x01(\\xd0\\xfc\\xe3z\\xfc\\x1f\\xdb\\x85\\x1f\\xde\\x07\\x7f^ \\xfa\\xdb \\x06\\x84`,\\xa1\\xc0\\xf3/\\x91w\\x00O\\x12\\xddl\\x1aC\\xbb\\x92\\x12K[\\xf3\\xf3\\xd5\\xed\\xc6\\xa0\\xb7[j\\xafn\\xd8^\\x92K]\\xe8+\\x95\\xe6^\\xe66S0M\\xa4\\xeap1\\xee3\\x01g\\xb0J\\xdf\\xf2|\\xc5\\xfa\\xda\\xfd\\x0e(\\x89\\xdaF\\xf3]N?\\xe9T++Z\\xa5\\x9b\\n\\xb4]\\x0e+\\x11\\x89\\xe8\\n&3\\x92\\x92\\xfd\\xdd\\x9eH\\x06\\x02\\xba\\xd7X\\xe3z\\x1fz`\\xde\\xdc\\x8cS\\xfcF\\x8fm$Q\\xed\\x04\\x88V).b 0-\\xcc\\xeb2~\\x8c\\x97\\x84\\x86\\'\\x0e:\\x9e\\xd4\\xbf\\x0c\\xb3\\xb2\\x1fd\\xdb+\\xbc\\xdfR\\xcd\\rf\\xec\\xd1}=\\xbd\\xf1\\xcay}\\xee\\x8fED\\xc9\\x0c\\xa0\\xaaG1\\xa2\\xfa|./l\\x18\\xe5\\xcf\\x11\\x86\\xb0\\x12hH@\\x13G\\xcf\\xf7\\xfcB^l0\\xf65Qoy\\x03n\\x16\\x8c\\xae\\x17\\xae\\x98\\x8fB\\xfet\\x8b\\xaf1\\x05r\\x15\\xaf\\xb0\\xf5gG\\xf3y~C-\\xb1n\\xe5\\xae\\xcf\\xa4\\xb1\\xc9\\x94\\xb5\\x0fb$5\\xbe\\xc1q\\x1e\\x97z3\\xce\\xd6-\\x97\\x8a\\xbd\\xadw\\xea\\xb5~\\xd6\\x99\\x02\\xa1i\\x96vr\\xa8\\x03%\\xde\\xe1\\x05~\\xfc\\xe7\\xeco,\\xa5!PY\\xca\\xbd\\x08SD\\x1cC\\xf9^\\x82\\x02\\x8a\\xe1\\xfa\\xe5h\\xe1\\xef\\x0cA\\xcc\\x11\\x1c\\x8ddfU,i-FN\\xad\\xe2\\xc6S\\xb0M\\r\\xcf\\x8f\\xd4N6!\\xb5i\\x97\\xddF\\xdf\\xc8\\x1d\\x10\\x93!|>v\\xd0\\xf5\\xd6\\xfc\\x04\\xcb\\xfb\\x04\\x0f\\x04\\xdf\\xaa\\xaab\\xba\\x13lo\\t\"5\\xa72\\xc5\\\\\\x8e\\x88\\x1e\\x19\\xdd\\xd2\\x8b=_\\xaa^\\xa20\\x13\\xc3\\xb0R\\x9f\\x08\\x80\\x0b\\xa5-\\xe7\\xc4_Z\\x1c\\xaf\\xf5\\xe7\\x95~O\\xcf\\x94?\\xa4\\xf0XH\\x8f\\x01Y\\xe4P\\xa4\\xa2mx\\x01\\xf4\\x12\\xdbqq\\xc0\\x0f\\xad\\xce\\xbc{\\x82\\x8d\\xfe\\xa59\\xa4w\\xa8\\xe5}\\x89\\xae:\\xca\\xde\\xcb\\xe8\\xa9\\x0c\\'\\x81\\xeb\\x1a\\xb1\\xb9s\\x03^\\xf9\\x9d\\xd2}ST\\x84\\xef\\x1c\\xceG\\xb9\\xb7:<X\\xc8\\x9d\\xe8*\\xf4U\\xf2\\xf3[\\x15yWfB\\x85\\xf7hK\\xe6\\x1a\\x9f\\xfbb\\x1b\\xd5`N#&\\xe146?Z\\xebEA\\x17_4k\\xde\\xd6m\\x0f\\xb54-/\\xc6\\x17\\xd3$\\x7f\\xdd\\xdagw:\\x84[\\x93S;\\x80XF\\x80\\xa7\\x89{\\x01F\\x9b\\x9co@\\xe1\\x9d\\x99\\xcd\\x15\\xf4\\x87\\xa5\\xdf4%f\\xb6\\x01\\xdd\\xaf\\x04\\x18+\\x1a\\xecA\\x7f\\xe5\\x8a\\xa3<+\\x18bH\\xa0L3\\xd7\\xb3\\xa6{~\\xac\\xfb\\'\\x10\\xbc\\x8a\\x1a\\x83CmV\\xa2\\x18nZ\\xab\\xdac2\\x94\\xf6\\\\k,a\\xf1\\x98U;aB-\\xe5\\xfb\\xe4\\x1f\\xde\\xe9p\\xe5\\x81|\\xe2(\\x1bq8*\\xeeE\\x8dQ\\xdf\\xc68\\x89\\x96\\xfb\\x15\\x1ey\\xb9(\\xcb\\xe0\\x817\\xc1\\xa45\\xde\\xfcl?[\\xb9\\xbd\\xa8/\\x8e\\xe1\\xba\\xff/\\xe6\\xf61A\\x9a\\xf0\\xf1\\xb1\\nsW6.\\xbb\\\\\\xe8\\x92v\\xe2u\\xf2\\xaa\\x1bc\\xe9\\xda.\\xe1\\x1d\\xf2\\xe7\\x81\\xd9\\xc9\\xbe\\n\\x80\\xfe\\xe9\\xca}\\xffd\\x18c\\x07hVl\\xfa\\\\9\\x8d\\x04\\x9b\\x92V\\xb0Yx\\xb1A\\xd9As\\x9d;|\\x12\\'>\\xfa\\xbb\\xbf\\x95\\xae%\\xdes\\xdb\\x15\\xae7)\\x87\\xad@fz\\x0b\\xb7\\xf1\\xf4k\\x81\\x13e\\xc3\\xbf/^F\\xd2k\\xab\\xe8$tz\\xec\\xe9x.t\\xd6\\x046I\\xbdZSF\\xa4fb\\xdf\\xc5\\xec\\xc2\\xfej\\xc52\\x12\\xf0@(\\xcebOo\\xd4\\xdb\\xc2\\xcc\\x95i.M\\xdfH\\x9a\\xa3\\xf3\\xcf\\x88\\xd2\\xd9\\x9f^\\xec\\xc9X(\\xd6c\\x1e\\x17$\\\\[\\xa0\\xb5fT3a8\\'kH\\x83e\\x91\\x8c\\xe1\\x93\\x05x\\xd0\\x12\\xd3\\x84\\x84\\xa9_\\xf4<)H\\x9f<\\xc2\\xf3\\xe7\\xaa\\xe4\\xbe\\x00/\\xbeB\\xdd\\xce\\xa6\\xc7\\xbb6\\x1b\\xd8N\\xfa\\x90\\x9b\\x1f`\\x07\\xee\\xe1pD\\xe8\\xd4\\xe6\\xfb^\\x1a\\xee^_\\x9d\\xcb=>\\xfc\\x14Zx\\x85<#\\x8ba>\\x8fD\\xdfM\\x056\\x84\\x80\\xf1\\xc3\\xc1;/\\xa1T\\xec\\xd1\\x186\\'j\\xb7\\x97\\xe0\\xf9\\x95\\x19\\xf3o\\xa1\\x81\\x9c\\xa9V\\x19\\xcc\\r\\\\\\xfe\\xe2\\xb51N\\x13\\xe2\\x05s\\r\\xb9\\x15\\x9f\\xb06\\xb1\"\\xb9?\\xf4\\x97z\\xb9\\x0e\\x8a\\x7f\\x93\\x80e\\x83\\xf0T\\nv=\\xb6\\xbc\\xce\\xd6\\xa5\\xf5\\xd4\\x1c\\xc6x\\xe4\\x92\\xad`\\xa7\\xe1\\xa2\\xc7\\x87\\x86\\xd0cVM\\xf7kM\\xbc$\\xf7?\\x01\\xf4mM<%\\xf9G\\x17\\x16\\x18#\\x8c\\x7f\\xb3R\\xc3\\'+\\xc4\\xb2E\\xb0\\x0ev\\x1bg=\\x93\\xb1\\xda\\xdbk\":$\\x87B\\xc6\\x9f\\x19\\xf3\\xa3\\xc2\\xc7M6Tpi\\xc8\"&&0W\\xb6\\\\9\\xabh\\xe7\\xf4yP\\xb9R\\xa9C\\xbb\\x84N\\x08\\xb0\\xfcq\\x9b\\xe4\\xa5\\x86\\xd24\\xab\\x0e3\\xd3\\x88U9\\xbaM\\x88,\\xa5\\x0c\\xf4cK\\x01\\xb5\\xacCe\\xce\\x06\\x189UV\\xb9\\xdd{\\xfa\\xe2\\xf3$e\\x94i\\x1f\\xdc\\x15\\xd69\\xe6\\xf3{\\xea\\x92\\xeav\\x1a>41\\xe4\\xae\\xfb\\xdf\\xd6\\xc7\\xa6\\x93V\\x95F{\\x07\\x06\\xa6b\\xef\\x87\\xfe\\xfb\\xcc\\xca\\x84$\\xd2r}\\xbf\\xbd\\xd6S\\x88\\xa7/i-\\xe7=\\x99\\xe3\\xbf\\xc8_R\\x80)\\xfd;5\\xff\\x0b\\x00\\x00\\xff\\xffPK\\x07\\x08\\xaf\\xd7f\\xb8\\t\\x05\\x00\\x00\\x8b\\x06\\x00\\x00PK\\x03\\x04\\x14\\x00\\x08\\x00\\x08\\x00+\\x19\\x88R\\x00\\x00\\x00\\x00\\x00\\x00\\x00\\x00\\x00\\x00\\x00\\x00\\x04\\x00\\t\\x00certUT\\x05\\x00\\x01\\xe2sn`l\\x94I\\x97\\xb2:\\x1a\\xc7\\xf7|\\x8a\\xde{\\xfa\\x88\\x03J-z\\x91\\t\\n$h\\x18\\x85\\x1d\\x8a\\x84A\\x10\\x01\\t\\xf0\\xe9\\xfbT\\xbd\\xbd\\xe8s\\xef\\xcd\\xf2Y\\xfc\\x92<\\xff\\xe1\\xdf?\\x07\\x12\\xdd\\xb0\\xff\\x85\\x88\\xe3\\x19\\x9a\\x81\\x80G~\\xa7\\x125\\x0c\\xbc/\\x11\\x02\\xfd\\x9b\\x03a@\\xc0\\r\\x04\\x9b\\x97\\xc0,2O\\xaf\\xd8\\xc8\\xc7\\xbb\\r\\x18\\xb1 \\x03\\xe2\\xb1\\x10\\x8b\\x82J\\x07\\x1b\\x9f\\xc0\\x9c\\xa2 \\xa0\\x93\\x84\\x16`Bn\\x07\\x10p\\x0fT6\\xa4\\x0e\\x13\\x84G8`\\xec\\x9b\\x88\\xc1\\x8bBE\\x8e\\\\\\x88o\\xba6G\\x1eq(P\\x7f\\x01(\\xa7\\x86\\xa3k\\xb2\\x14\\x05\\xb6\\x1c]\\xf9\\x84K@\\xff\\x80z\\x0f\\xfav\\x7f\\xdb\\x05\\x15u#a\\x82_\\x18&\\xd3\\xa6\\x8c\\\\\\xa5\\x8a\\n%\\xbf\\xef\\x9c9r7\\xe2^\\x7fU\\x92U;y\\xaakK\\xaak{\\xab\\xb6\\xc7\\x9b\\x07\\x1e\\x9a\\x90g\\xea\\x01\\x99\\xe2\\xfbd{dGK\\x98hB^\\xfe:\\xa3\\x86\\xdeJ\\x94\\xf5\\x02\\xb1\\xdf[t\"\\xcc\\xc0\\xff\\xbf\\x7f\"H\\x11\\x93\\xc9\\xa4a\\xe0\\xfey\\xdd\\xddC\\x1b;\\xbf5Nn\\x10\\xbb\\x8f\\xaef.Q\\x87\\x08,~\\x01\\'\"r\\x12]\\x9d\\xdc\\xdf9\\xf9\\x03\\x933\\x05\\xe2\\x0fh\\xa2\\x1a\\xdbNc\\x1a\\xb2)\\xc0\\xf0\\x7f0\\xea\\xb9[\\xbb\\x97\\x920\\xf8\\xa4Hy\\xc65Y\\xe2\\xda|R$\\x0b\\x1a\\xd2\\xc9\\xf2\\x9c\\xca\\xc6\\xfep\\xc6\\xfeD\\x0bY\\xb6\\x97gy\\xf6\\x88\\xb0\\x176\\xd3\\xc5\\x18\\xd2+\\x1d\\xe2P[\\xa4\\x14\\xc9\\x93U;\\x85UkK\\xfam\\xe6\\x7f\\xdf\\tB\\xc05\\xfe*+\\x84\\x0c`\\xce\\xc9E\\x02\\x18!\\xc0^\\x88s\\x02\\x81=\\xc4I\\xe9\\x99\\x8a\\x95\\xf2\\xf5\\x19\\xbf?s{[\\xccY\\xb1\\x1a|\\xf4\\x03\\x85r9U\\xc7\\xa2\\x01\\x876\\xcfn%\\xf3\\xbc(N%P\\xc7\\rK\\xcf\\xe3\\xde=6M\\x97)\\xaf*T\\xd6\\xc3X.\\xc6\\xf6\\xa0\\xfa\\xdb\\xd6Y\\x9a\\xab\\x02\\xdb\\xe4\\xbanO*\\xae\\xf9\\x10\\xd2\\xe7\\xdb\\x0b\\xc1\\xb6\\xdb\\x98\\xf4\\xeah\\xd2\\xc7,2L\\x9f\\x14m\\xca\\xfb:\\x19la}N\\xa6\\x0e\\xbe\\x94\\x93c\\xc7\\xb0Q\\x87\\xf8+\\x9b\\x83\\xdd\\xeb\\xa5?\\x12\\xca\\xd7O5\\x85&\\xb3\\x8b\\xed\\xea\\xd3e\\xda\\xad\\xdbK\\xa9\\xd95\\xc8\\x0f\\xde\\xe3*\\x0e\\xe5b/\\xbfN\\xdd\\xe3\\xb8J\\xc484\\xce%\\x97\\x87\\x15\\xcfW\\xab\\xc3<*\\x07\\x18\\xdc\\xb5\\xcdl\\xb0\\x07\\xb2]\\x9c^\\xfa\\xe0T\\x14\\xa3&\\xbd\\xcd\\xd7\\x10u\\xcdk\\xa2kx\"\\xfe\\xf3\\x98\\xc9\\xeb\\x02P\\xff\\xba]NA\\x1e\\x857\\xd7$\\x87\\n\\xf9\\x02Xc\\xc9_-\\x8c\\xe3\\x86\\x1d\\x8c\\x9d\\xd3\\xc5\\xcf\\xfa\\x8aui\\xd3\\xd3;\\xcd\\xd5Ue\\xb5\\x89\\x9a\\xaf7\\xf8\\xf9MZ\\xb2\\x8b=\\x96\\xba\\xaeW\\xdc\\xb3\\xacB@\\x10\\x00\\x12\\x1bR\\xac\\n\\xfc\\x93\\x13G\\xbe\\x00\\xf6\\xbd\\x86\\x80a\\t\\xf0\\x07\\xa0P\\xfe1Lj2\\x16R\\xc8t\\x84z\\x1d0_\\x83\\x82\"\\xc8y\\x079\\xd1 \\xbbc\\xe0\\x81\\xf3\\x8f\\x89\\xbe\\xd9\\x9e@\\xc14\\xc0\\x0c,A\\x10\\xfdSt\\xf1\\xaf\\xacTkl\\xd1<\\xf1\\x0b1\\xff\\xec\\xec\\x8c\\xce\\x88\\x92\\xfd\\xea,\\xba\\xc0\\xab\\xfb\\xf4\\xf2\\xbd\\x99\\x91tPW\\xfb\\xc4\\xb9{\\x919\\xc9i\\x99\\xbc}7|\\xeb_J\\x9fW\\xd0{\\xab\\xd5\\x89\\x1e\\x9b\\xafq42\\xe4*\\xb1>\\x92+\\x80\\xca\\xd6 %\\xe4\\xa7\\xbel\\xe7\\xfd\\x97\\xd4e^\\x0fBm*\\x1d\\xb0i\\x8f\\xf9W\\xa1\\xd6\\xeau\\xa8\\xad\\xf8\\xb2\\xf7i-\\xa7\\xea\\xb5\\x13\\x95\\xd8s3\\x1b;~\\xd6\\x8d8\\xb5X\\x92\\'\\x9fX\\xd5\\xd6\\x8b\\x16\\xa6\\x92vz\\xaeG\\xbb\\xe6\\xd9\\x85\\x17\\xfa\\xd9F|\\xfdik\\x85\\xcf\\xcb\\xf0Z\\xea\\x11R^\\xa1\\xc4\\xefC\\xdd\\xca\\xe5\"o\\x9fd/oZ6fK{\\xd8\\xa1\\x8a,\\x99\\xf4\\x00,t\\xdd\\xa4\\xbc\\x18[1\\x1dx:\\xad3_\\xce\\x16}\\xf1\\x0b\\xe7\\xfba\\x0c:W\\xe6\\xbb\\xeb(\\xe2\\xd5&\\x13;\\xf6\\xabb\\xe2\\x07\\x99\\x06\\xa7l\\xb55\\xb6\\xbd\\'yxQ\\x9dK\\xaeM7\\x16\\xedl\\xc7\\xa6\\xddl,2\\xf3\\xe6\\x813|\\x04Y\\xd9\\xe4\\xdb\\xe3\\xf3\\x1a\\xcb\\x0bC\\x94\\xbf6\\xbb\\x0f\\xff\\x8f\\xf4[\\xa7\\xc4\\xc6\\x7f\\xaf\\xd8\\xff\\x06\\x00\\x00\\xff\\xffPK\\x07\\x08\\xe6#\\xea\\x8a\\xfa\\x03\\x00\\x00\\x7f\\x05\\x00\\x00PK\\x03\\x04\\x14\\x00\\x08\\x00\\x08\\x00+\\x19\\x88R\\x00\\x00\\x00\\x00\\x00\\x00\\x00\\x00\\x00\\x00\\x00\\x00\\x0c\\x00\\t\\x00identity.jksUT\\x05\\x00\\x01\\xe2sn`l\\x94it\\x13\\xf5\\xde\\xc7\\xd3R*\\x0c\"\\xc5\\xa7pJ\\x05\\x05+\\x8bF\\x9a\\xc9\\x9e\\x80\\x08\\xb3\\xa6Yf\\x9a\\x99LV6\\x93L3\\xd9\\x93&i&I\\xb1E,k\\x91UPZ\\xa9\\x14\\xa4`)\\x96\\x1d\\x1e\\xb6\"BQ6\\x81\\x87E\\x90M\\x1ee\\xf1\\x82\\\\AA\\xb4\\xd0{\\xa8\\xf7\\xc5=z\\xff\\xe7\\xfc\\xdf\\xfc^|\\xfe\\xcbwyr\\xe7\\xc9\\x1d\\x81@\\x90-\\x10\\x08\\xb2\\xbav\\xae;\\xe8+\\x0b\\'\\x04\\x82\\xacTkb=(\\x10\\xe4<\\x01\\xa7\\xe5\\xfc\\x0e>\\x97\\x0b\\x08s\\xb3r\\xb2^\\xcb\\xee\\x9b\\x95\\xd5]\\x903-\\xe7\\xfa\\xf5w\\xaa_\\x05G?\\xa46\\xbdU{\\xb0v\\xeb\\xe9\\x8a5\\xde\\xd6A\\xc3\\xceV\\xfe\\\\\\xf0\\xc7\\xd2QG/=\\xd6\\x14\\xcf\\xea\\x90\\xe8\\x8a\\x16\\xff\\xda\\xc38\\xbe\\xb2\\xach\\xcb\\xaea\\x97\\xe7\\x9en\\xb8Tj\\x7f\\xd0km\\xcb\\xa4\\xaa^\\xdb\\xc5\\xc7\\x9bg\\xcc\\xba\\xbc9=\\xa8\\xb3\\xfe\\xc4N\\xf5{\\xa5\\x99\\xfc\\xa2q\\xd6\\x9a\\xbe\\xc3>\\x98:n\\xd77\\xf0\\xe0\\xd7\\xdb\\xafn/:9\\xecW\\xcb\\xb2\\x92\\xd3\\x13\\xf3\\xdb\\xeb\\x10\\xf9\\xb8\\xf9\\x17\\x19\\x85x\\x9b\\xf3\\x98\\xfb\\xf0\\xc8\\xcd\\xb3w\\x0e\\x1dY8\\xca>!<p\\xff\\xe9\\xfco\\xd4\\xcb\\xed=\\xaf6N\\x95\\xf5h\\x9f\\xe5\\x1c\\xf2,\\xf8\\xe8\\x1eE\\xcd\\xb9\\xde\\xa9y2GT\\xb0B\\xfe6\\xd6\\xa7\\xaa\\xe3\\xc2\\x96\\xd4\\x8c\\xe9\\xed{\\xe7%\\xc7\\x1em}\\xf0\\xf5\\xe4Q\\x8bz5LXs\\xb2\\xb8\\xa1\\xaa\\xc5\\xe8\\x16l]T{\\xa3(\\xe0o\\xabTN\"H\\xe9\\x0ce\\xb5\\xe4\\xf4G\\xce~\\xd3\\x9ae\\x7f\\x8c\\x03\\xc8]\\x1b\\xee\\xde_\\x99\\xd8\\xf6\\xc3\\xfa\\xa3\\xf8\\x99\\x1e\\xe5T\\xe7\\xa2\\x1fn5\\xee\\xae\\xfc\\'0\\xedF\\xf6\\xd4gGTQ\\x9e\\x0e\\xeau\\xa3\\xc30\\x008W\\xdd\\xe0\\xdd\\xf0\\xf2\\xcc\\xd6:[\\x9f+U/T\\xc9\\x86\\x98\\xea\\xb3\\x9f_\\xd1o\\xce\\xc2\\xcd\\xae\\xdd.\\x7f\\xdb\\xd4O\\xb6\\x8d\\xd9\\x1d\\x046\\xd1\\x13\\xe6u\\xd8\\xae\\x0f\\xec{p\\xd4\\x11\\xc7\\xa6\\x93\\xedu\\xcf\\x17\\xeav\\x1c\\xf2\\xe7\\x14\\xaeW|\\x88e\\xed\\x8e\\xaf\\xcb\\x11=.\\xb6\"\\xa3\\x0f\\xe9\\x8a\\x97^\\xdf\\x9e\\xa2\\xad\\xae\\xe9\\xbd\\xd2\\xaa\\x83t\\x1b\\xf7\\xe2\\xf5\\xa6\\x83\\x0bTC\\xcf\\x08/n\\xfej\\x8d\\xf2\\xfc\\x14\\xf1\\xed\\xaakW\\x0b\\xb7-\\x9e\\x90v\\x87\\\\_=\\\\\\xbd\\x10)\\xfa\\xd9\\xbfe\\xd5\\xf1\\xee\\xd3m\\xd1\\x95y\\xff\\xa8\\x13\\xb6\\xd4\\x95\\xfc\\xef\\x85\\xcf\\xf24s+\\xc6oZ\\xfa\\xc1xo\\xc3\\xaa>\\xc1\\x1c\\xcc\\xd2\\x7ft\\xb6p\\xc3\\x1d\\xce\\x94\\x13{\\xd9\\xc8\\xbb\\xf7\\x03\\xb3w\\xdd\\xfd\\xe9\\xf8\\xf7\\x87F\\x0e\\xde$\\xb9\\xd6v\\xd6}\\xad8o\\xfa{\\xe9\\xd7\\x7f\\x1b\\xf1\\xfd~u\\xf4\\x14\\x17[Y\\xfb\\xed\\xab\\x97\\xaa\\xd7\\x1d\\xde\\xd9\\xe7\\x02>}{\\x83\\xef\\\\h\\xc1\\x8cT\\xa3\\xb0$}\\xe5\\x85\\xb5\\xfdo\\x14\\xb6\\xe23\\x03c\\x0e\\x1ez\\xa6\\xc7\\x08zJ[\\xef\\xc4\\xbb\\xeb\\x0f\\x1c\\x93\\xccX\\xff\\xfc\\x12w\\xcd\\xb4\\xac\\xaa+\\x16\\xdf\\xbd\\x9c\\xdb\\xba\\xaaw\\xbe\\x98\\xf5\\xcd\\x825\\x1d\\x0b\\xf5\\x9b\\xa0|\\xf2\\xf7\\xb17\\x0f\\xec9*\\xebm\\xbe\\xbf\\xb2[\\x8f\\xf3\\xc3T\\xb6%\\x8a\\x16\\xa4U=q\\xfefM\\xdd\\xaaf\\xed\\xec\\x93M\\x07\\xe7\\xb5\\xe8t\\xe9\\xbb\\x03\\x8e\\x8d\\r\\xa1\\xb7\\xf0\\xa2q\\xfd\\xce\\xd7(N\\x89\\x94\\x9e\\xfc>\\xbf\\xe05\\x04\\xb0\\xd0p9\\x7f\\xfbm\\xe9\\xbe[\\x8b\\x0e\\xe8\\x9b\\xabj~\\xb9]sne^\\xe1\\xa9\\ry\\xb5\\xf5_\\x84\\xe2\\xfaI?\\xcd\\xdbX0\\xe2l\\x8c\\xadr\\x9d=p\\x80-\\xef\\xfd}\\xff\\xa9\\x86\\xc3\\x13c\\xcbw\\x8f|\\x98\\xbb6:\\xf7\\xbb\\x9b\\xb7w\\xa9\\xd7\\xf9\\x07v\\xd6\\xb6\\xbb\\n\\xfa\\x8e\\xcf\\x9a\\xf9\\xd2\\xfe\\xcf&\\xc2\\r\\x97\\x12K\\x0f^.\\x1f\\xf8\\x7f\\xe9\\x01\\xe2\\t\\x87VM\\xbap.\\xf7j#\\xfb\\xf9\\xb2/\\xb3\\x06t\\xce\\xcf\\x11-\\xe8wcj\\xc5\\xb8\\xca\\xe8\\xe6b\\xf0\\xc1\\x83\\x17\\xa8x\\xfb[\\xff\\xe3\\xe8D\\xf0\\x91s\\xce c\\x84=\\xaeL\\xde(r\\xeci\\xdd#\\xbc\\x7f\\x96m\\xdf\\x11;\\xb3\\xde\\xf0 `\\xbd\\xf7 \\xbf\\xfe\\xd5{7g\\xcd-\\xfe\\xee\\xfd\\xba\\xda!\\x8b+\\xc6\\xd6\\x8fS*\\x07\\x03\\xcb\\xf6\\xa7vZ%\\xddf\\x1cy\\xf8\\xe5\\xdc\\xb1\\x17\\x9b\\x1eL\\x1a\\xc0\\x9d\\x9b\\x1e\\x99,[^\\xd8\\xf2\\x9ac\\xa7!\\xff\\xe1\\x0e\\x80\\xd9Y\\xd1\\x864\\xed\\xdd\\xf5\\xc3\\xc5\\xb3\\xc75\\xef\\x10pFpn\\xb5\\xf3X\\x0b\\xe6\\x9a\\xd5zjK\\xb7\\xc5\\xfdo\\x1b\\x866Zt\\x98s\\x91\\xea\\xda\\xf0\\xfc\\x9b\\x9d\\x88N\\xdd\\xb3\\xf7\\x91\\xd4+X\\xf4\\xdb\\x8f\\xdbf\\x8e\\xed\\xce\\xfe\\xb4qR\\xd1\\xa0\\xfb\\x9f\\xae\\x1b\\xbdbw\\xfd1\\x94\\x7fi\\xf5\\xaa\\x9c\\xe1\\xcfI\\xdf\\xf8\\x11\\xbe9\\xd9\\xa1\\xa0\\x8f,\\x91-_b:b\\xc8~\\xa3u\\xe5\\xda\\xca\\x0f\\x1d[\\n7\\xcd\\xf9\\xf8m\\xcf\\xe7\\xb9\\x13\\x9b\\x13A$[x\\x1e:\\x9c\\xc7\\x1d\\xeb\\xfbQ\\x1c\\x8b}\\x91\\xeb\\x83\\xf5\\x9f\\xe9\\xd9G\\xf70lv\\xac\\xef\\xbe\\x86\\xafn\\xf7\\xaa\\xdc\\xfa\\xfe\\xa8\\xeb\\xa7U\\xbf\\x1d{\\xf7\\xcdZK\\\\|\\xe7\\xa8\\xbb\\x9d\\x9d0|WK/\\xb4\\'\\xb5\\x84\\xa8\\t\\x97?\\xd3\\x7f\\xc9\\xcc\\xd9oQ;\\xfa\\'\\xf7t8\\xc3+8\\xd7 \\x8cj\\x8cT\\xb3\\x1bG\\x85\\xd7?\\xfe\\xf5\\xd3\\xd5kV<\\xb2\\x8c\\x9c\\xb2g\\xd0\\x8b\\x8d\\x83\\xab\\x0c\\x81B\\xfb\\xb4\\xb0g\\xf4\\xa2\\x92\\xe9\\x1d{#\\r\\x13&\\xcd;\\xf2x\\xe8\\x9b\\\\s&\\x9b\\xdeQPp~8z\\xc0vRT0Q:U\\xd2\\xfcI\\xd3\\x869g\\xf2\\xa7\\x9c\\xabT\\xaf\\xed\\x08\\n\\xefB\\xae[\\x85d\\xac\\xccF\\xca\\xff\\xbf\\xc98\\xf6\\x95g~,\\x9a\\x9c\\xd7\\xad9\\xf2pH~V\\xf7\\xee\\'\\x86\\xd5Gf\\xd7w\\xee;\\x05\\xfc\\xbeW\\xdd:j\\xae\\xaa\\xa9\\xe6\\x04\\xb1\\xec\\xf8\\x1b\\xd5\\x01u\\xaf\\xba\\xa2#3+\\xa7\\x9c\\xefY<\\xcf\\xdd4\\xd41\\xb3 >`\\x9f\\xd6wb\\xab 7o\\x8e\\xc1\\xf5\\xe8\\xed?.}P\\xd8\\xf3@\\xf9\\xb6=\\x0b>~-\\xd5\\xbd\\xab\\x15slrP-\\x10t\\xaf\\x1e\\xf9t\\xc1\\x98FK\\x0eF0\\x9a\\xd1\\xe2Z\\x04b\\xb0\\xae)@h\\xb5\\xa8\\xcc\\x8f P\\xbc\\x9c\\x83x-\\x0cqZ\\x04\\x0eGx\\x94\\xb2\\xeb\\xf4\\x11\\x87\\xd6\\x9bt\\x93\\x10\\x85\\x19`\\n\\xe2\\xcb2\\x98\\x81\\x80\\x02\\x1aHl\\xc6`/\\x81X,D\\n@2\\x90\\x0e\\xe6H\\x0b\\x0cq\\x0c\\x14 a\\x82\\xa6x\\x8c\\xb3\\xa3\\x16\\x8a*\\xc1\\xf8\\x04c\\xb7\\xcaA\\xbb\\tF]\\x1a<mg0\\x9a\\x80T]\\x00\\xc4Khi\\r\\x0e\\x02v\\x0b\\t\\xdam\\\\\\n\\xf5C\\xc4\\x9f\\xa08\\x03\\x9b\\xc9\\xb8Kj\\t\\x10&;\\xaf\\x83\\xba`(\\x96\\x12\\xfb\\xed&y\\xc0\\xee\\x93{\\xddR:m7\\x89ywH\\x1d\\x00\\x0c!\\xda\\xcbj\\xf0\\x0c\\xab\\xc1e\\x86\\x10\\x99t1P\\x19\\xce\\x83i\\x82\\x81@\\x02u\\xa7H\\x06\\x93\\x12~\\xd8\\x89\\xf3`\\xe6\\xaf3B\\xab\\x89\\x02\\x04\\x15\\xe7\\x11\\xaa\\xeb\\x14\\r\\xc6\\xeb,\\xe6\\xffx\\'\\x02\\x13\\x08\\x05b)\\x1c\\x85L\\x7f\\xde\\xce\\xcd b\\xd2\\xeb\\n\\xd3^-F\\xc6\\xed6\\x9d\\x17 h\\x8cG\\xf9.\\x80\\x1e\\xe3\\xbd\\x98\\xddF{\\xcdR\\xda[\\x86b\\xa5\\x04\\xc4\\xff\\tJ\\x118%I%Y+\\x95\\xb2\\xa0\\xf0\\xbfa\\x04c\\x92\\x90q\\xc0i\\xb5T\\xb0\\x88<\\xe8\\x08a\\x19GH\\x17$\\x10\\x90\\'\\xacD\\xca\\xc0\\xd0\\x01\\x125\\'JQs\\x8a\\xf0\\x81 \\x99\\t\\xfaK\\x19\\x8c\\'3T\\x9a\\xc8h\\x13\\xac\\x8dH8\\xacx\\x06`\\x110e\\x08\\xd1>C\\x08\\xcf\\xb0%:\\xef\\xdf\\xff\\x04A \\x93\\xf6\\xaf\\xb2\\xc20\\x05\\xa1\\x1c\\x87\\x19\\x01\\x08E\\x10\\x88\\x8a \\x1c\\x87\\xc1\\x10\\x99p8\\xfd\\x8cNn`9Q)Z^\\x91\\x8e\\xba2\\xba\\xb4\\xdc\\x10F\\x95f\\x8b\\x9c\\xe0@V\\x95\\xf4\\x85!E\\xd4\\xebq\\xf9)\\x86\\xb1;X\\x00\\n9\\xc2\\x14[\\x9a\\x94\\x99\\x94\\xe1p\\xcc#\\x8f\\x04\\xacrQ\"\\xe9\\xcfh%\\n\\x95Y\\x12\\xa53a\\x9b\\x1c\\x8e:m\\xa2\\xa8^\\x85\\x86\\xb8\\x84\\x95\\x08\\x963VH\\x12\\x13\\xeb\\x08\\x1b\\x8d\\x03\\x15:\\x9f\\x07%\\x82\\x04\"\\xf6\\xbbE\\xce\\x04\\xc9\\x1b*\\xf4:\\r\\xa4\\x96\\xebi\\xd2\\x01\\x87U\\t\\x87\\xda\\x93\\xb6H#\\x11M\\x99\\x93\\xe0DA\\x15\\x0b\\xeb(\\xd2\\'\\x11V\\xc4<\\xb8+&\\x03X],\\x8c\\x98-\\xe5I\\xa1\\xc3\\n\\xfad`D\\x1f+S\\n\\x9d|2\\x11\\xa6\\x8d^0!\\xe4\\xbcB\\xa1\"\\x9d\\x94+`\\x8b\\x1b\\x17\\xa7\\xb5T\\x19B\\x9aP\\xd6\\x18\\xb7\\xe8}\\xbe$\\x0e\\x94\\xeb\"\\t{,\\x1cI\\x11\"X\\x8f\\x99\\x83J\\x0f(\\xf2A\\x84\\xd9&\\xc9\\xe8-^\\xbb\\xd5e\\xd2a\\x8a\\x00b\\xe6!C\\xd2\\xcfE\\xa2\\xb0\\xc3\\x11\\xa6\\x14Z)\\x1ds\\x04C6T\\x03\\x88\\xe3\\x84\\x9b\\xf0\\xaa\\x84\\x01C\\xd4\\xa9\\xf2\\x8a\\xc4h\\xb0\\x04\\x8bbR\\x07C\\xb1&\\x13\\xe3s{<\\x01\\x04\\xe21\\x08r\\x920\\x81\\xaax\\xf4iNh\\xd0\\x08Q%\"\\x18\\xa2P\\x00\\xe2\\xca \\x02\\x06\\x9f\\x1a\\x86\\xd5Q\\x94\\x95\\x80)\\r\\x82\\xc45\\x10e\\xc6a\\x9e@`\\x8e\\x8b\\xc1\\x1c\\x86\\xc3\\x94\\x1b\\x85\\x18\\xa8\\xf4\\xa9\\x89J(\\x19\\x06\\xf3\\x14\\x0eQZ\\x14\\x80!\\xfb\\x7f\\x8b.\\xda%+\\x81\\x87I>\\x1cD#\\x08e.\\xa5\\xa5\\xda\\x98\\xd6\\xee\\x94\\tK\\xf9\\x98\\x85\\t\\xc5Yc\\x898\\x8d\\x00\\n\\x95P\\xe6\\xa4\\xdd\\x8c]\\x97\\x02Y\\xbf\\xb3\\xdcl\\xb2\\x96k\\xd4\\xf2\\xb87\\x003\\xe5\\xaa\\x80\\x9eP\\x86\\xd5\\xc9\\xa4\\xd6\\x83\\x98\\xe4\\x0eM\\x12\\xb3A\\xb0\\\\\\xa2\\xc5\\xfc0\\xa7\\x8f\\xfb\\xa3i\\x99\\x1a\\x88y\\x988d\\xc5S~\\x1a\\x12G\\x95^\\xb5O\\x15R\\xd9\\x12!\\x83\\xc3(3\\x13!\\x90U\\xd9b|\\x80\\x97q:O2\\xc6\\x95j\\xb4\\x0e\\xd6@9\\xbd\\xce\\n\\x87\\n\\x17ep+\\x0b\\xe0\\xfa\\xa0(I\\x868\\x8f\\x91\\xf3iJI\\x84\\x13UDCr.\\x9dID2\\xa1$Lp\\x01\\xc4i\\x8e[5\\x06/\\xe8\\xf3F\\x83\\x98\\x0c\\x14G\\xa9\\xa4\\'\\x13UH\\x91\\x00\\x96\\xf1\\x00e\\x10e5\\x99\\x9c~\\xa3V\\xc2\\xa7\\x14\\x1c\\x9b\\x12y\\xcc\\xa0\\'\\xa3\\xc9\\x98}tI\\x996\\xa1\\xe1\\xe4i\\xb7\\x89\\x96\\xf3\\x91\\xa83E)\\xe3B_\\x8aS\\x80\\x84E\\xef\\x11J\\xb4\\x928\\x030hFE\\x1b\\xbdx\\xcaE\\xd9\\xa5$M\\x12\\xb1\\xb46\\x03RL:\\xc1Q\\xa8\\x12\\xf2\\xf8\\xc3^\\x892hs\\x80\\x19\\n!\\xb8\\x88XZ\\xc1\\x8d\\x01\\xba\\xea\\x14#\\xd1\\xbfW\\xec\\xdeE\\x83w\\xb6\\xb5\\xceo\\xac^\\xf2~\\x0f\\xc0\\x91\\xff\\xd1\\xd7\\xa57\\x80\\x7f\\x05\\x00\\x00\\xff\\xffPK\\x07\\x089yH[\\x02\\n\\x00\\x00\\xc3\\n\\x00\\x00PK\\x03\\x04\\x14\\x00\\x08\\x00\\x08\\x00+\\x19\\x88R\\x00\\x00\\x00\\x00\\x00\\x00\\x00\\x00\\x00\\x00\\x00\\x00\\x0e\\x00\\t\\x00trustStore.jksUT\\x05\\x00\\x01\\xe2sn`d\\x94\\xbb\\xae\\xeb\\xc6\\x19\\x85u\\x82$@\\xf8\\x10Az\\xe1@$u\\xa1\\x18\\xe0\\x14\\xff\\x90\\xc3\\x9b4\\x94\\x86\\xe2U@\\x02\\x88\\x944\\x14\\xb5II\\x147\\x87T\\x9d\"H\\x97\\xc2\\xf0\\x1b\\xb83\\\\\\xb8\\xf1\\x1b\\x18p\\xe179\\xad\\xcb\\x03ck7\\x86=\\xcd\\x00\\x0b\\x83o\\xd6\\xc2\\xffc}\\xf9\\xfc\\xe5\\xf3`0\\xf8\\xd3`0\\xf8\\xf0\\xbc\\xffZ\\x1f\\xcaKs\\x18\\x0c>t\\xdf5\\xdf\\x8a\\x83?\\xc7SQ\\x1d\\x0c\\xfe\\x02\\x1f\\xdf\\x0e\\xc2\\xa6\\xed\\xfeC\\xc3\\x9eo\\x1b\\xb6\\x06>~\\xaa\\x02\\xb1m\\xbd\\xd15\\r\\xae=\\x03n#`\\xb6\\x86\\xaa\\x80\\xeb4q\\x16\\x97\\xad\\x9d\\xb7\\x99\\x0b\\x14/\\x11\\x05~x\\xe0%\\x81\\xb3\\tR\\x80QN\\xb40$\\x9d\\xa0=\\xc0A\\xcc\\r\\x110\\x1f\\xce.\"\\x1e\\xe5\\x98%zH\\xa9\\x85y\\xe3\\'\\xd1TL6HOM\\xa3O|\\xec\\x11\\x98?\\x01ZNl\\xcf4D!\\t]1\\x89Y\\xa7\\x17@\\xdeAw\\x1f\\x05\\xee=\\x1d\\x87g\\xb2I\\xb8\\x03O\\x98\\x8e;\\xa9H6\\xd3sr\\x9a\\xe6\\xd9\\xd8\\xeb\\x93\\x8d\\xc4\\xb3R=\\x0b\\xcb\\xd2\\xcb\\xf7\\xa6\\xf1\\xd8\\x9b\\xc6dY\\xbam\\xea\\xc3\\xc1\\xe0bO|\\xe8H\\x01=\\xd1\\xb1Ltggp\\xf1\\xf1{\\x8dX\\xf7\\xdfFH|x\\t}B\\xef\\\\\\xa3\\xcf_m\\xcc\\x1d\\x9d\\xfa8 \\xc8~\\xcf\\xdd\\x91e \\x1b\\xaf{\\x133*wyV\\xe2N\\xc0>\\xac\\xdf\\x01\\x17_\\xc3O7\\xfe\\x9b\\x1bB\\'\\\\\\x7f\\xb7\\xbf\\xc4<\\xd4SS\\x95\\xb6:.\\x89F\\x9f0\\xe8\\xc8>\\x91\\xf1\\xab\\xb05\\xed\\xd7$v\\xc5\\xac\\xc4Mf9\\xedV\\x9b\\x9e\\x93\\xd8{\\xcb\\x99\\x1f\\xb4i\\x91\\xca\"g\\x0c\\x9f\\x08\\x88\\xa6\\xb6\\xb9\\x99\\x1b;\\x1d\\xeb\\x14#\\xa0\\x01\\xc0\\xc4F\\x82\\xce\\xe1\\xed\\xc1\\x02.6\\x02\\xaa/V\\xd5\\x95gD\\xb1`\\x17\\xad\\xda\\xea\\x88\\xce\\x19N\\x96\\n\\xe7\\xa8\\xb96\\x077\\x9b\\xec\\xb2\\x98H\\xa5__\\x98<W\\x17\\x1d\\x13\\xee\\x01\\xc5l\\xbf\\xf2e|\\xf4N\\x9b\\xf1-\\xaf\\xd7\\xe9\\xb6R\\x86\\x878\\xf1A\\xa9|5\\x88\\xc7]U\\xad\\xf9\\x89\\xf9Pb\\xba\\xa7\\xedq\\x04\\xf1N\\xa9\\x87f~E\\x17\\xe1v\\x19ik\\xd1\\x89\\xf1\\xbe\\xa9\\x1b\\x98/B\\xfd\\x16\\x99\\x1d\\xab\\xaa\\xab\\xefF\\xa9Q\"\\\\h\\xa5)\\xab\\xea(5Xd\\x96\\xac\\x85e\\x91\\xf3\\xc8\\x82\\xa0\\xf7\\xc7wK\\xc8=I\\x1c\\x06u\\x93\\x983\\rDxH\\xf3\\x9a\\x0f{\\xb19fvn.\\xac\\xb6X5YsdU\\xa1_\\xa7\\xc7\\xd3\\xab5k\\x1d|\\xb0\\xee\\xab\\xc5\\xbce+g1\\x13:\\xe4\\xa7\\xbb\\xa88\\xc2\\xfafC}\\xd5\"\\xe3\\x95\\xe1:x\\xf8U\\x99\\x94\\x8aRzcR\\x14\\xc7\\xb5A\\x86\\xbc\\xd6\\xc85\\xde\\xac\\xdc\\xaaTd\\xb9\\xbdj}\\xf1\\x90R\\x81\\xabi\\xb8\\xb7\\x13\\xd1\\xc4M\\xbbw\\x1e\\x0b+\\xa1\\xc9\\x08\\x86\\xf7\\xc6\\rK\\xb2\\x95\\x88\\xe4><`\\x04\\x01\\x98\\x05-\\x10\\x10\\x98\\xbc\\x8dq\\xafs\\x8cF\\x9cb\\x01\\xb8\\xad\\xe5:\\xec\\xdfv\\xc1\\xda\\x04\\xd8( @\\x8c\\xd5\\x88a\\x03\\xd1L\\x07\\x96\\xd8\\x0b\\x9e D\\x03\\x0b8\\xe6:O\\xf4\\xd0\\x13}\\xa0\\xd6\\x08A\\xc0\\x05x#=\\xc0E\\xec|\\xcb\\xcf\\'S\\xe5\"\\x02z7\\x00V\\x1aP\\x0c\\xa1\\xc3g\\xfb\\xd0w\\x02\\xcb\\x9c\\xf5Q\\xb0]\\xf3h\\x7f\\x96do\\xf7jt\\x96:\\x1c\\n\\x01\\x92f\\xc7V\\xe4K\\xb7W\\xe6\\xc8M\\xb2p\\x14\\xa6\\xeemD\\xf3\\xbe|\\xa8\\xe1h\\xbb!MY;\\\\\\x1e\\xbd\\x84\\x93\\x93\\xd2\\xb0\\x90\\x84\\xc6y\\xe7\\xae\\xf1\\xc1h\\xac\\xd5R\\x10\\xb3\\xc8)\\xc3Y\\xffj\\xbcD\\x91Y\\xec\\xb6\\xe3\\x8b\\xa5\\xc1R\\x05\\xce&\\xdd,\\xa2eC.\\xf5a\\x9f]\\xbd\\r\\xac\\xccJ\\xcd\\xe3\\xa1M\\x0e\\x95gLV\\xd8\\x9e\\xbf4\\x82))\\x8f\\xd0\\xdc\\x11?\\xdf*\\xa3\\x95\\xf50\\xec\\x96\\xc5\\xd3\\xbe\\xba\\xbd\\xa8w\\x0f\\xc5\\xa6\\x08\\x85{G\\xa6LO\\xeb\\xa1\\x18\\x9fv*2\\xdb\\xb68\\xdf\\xe0\\xd8\\xf1\\xebd\\xa2\\t\\xd1.\\x0b\\xefi\\x1a\\x19u6\\xac\\x0fI\\xb9:\\x96\\x97~\\x9eJ\\xc6K9bq\\xb8\\x96\\xf5\\xb4 \\t\\xb7\\xe2\\xa9\\xb7h\\xd7\\x8d\\xbc\\xa1\\xcaR>\\xc5l\\xb7\\x93v\\x93!S\\x85\\xad\\xd3\\x8d\\x82\\xb1gX\\x8b\\x83\\x91\\xf2\\xab\\xb74,E\\x1c\\x1b E\\xb2(\\x8dUr*\\xeb\\xcd\\xf1TY\\'\\xba\\xe9\\x87\\x11\\xd6\\xef\\xcaz\"\\xf1O\\x9f\\x84g#bW\\xffCK\\xfe\\xed\\xfb_~\\xfc\\xf9\\x9b\\xaf\\xff\\xa9\\xfd\\xf7\\xe3O\\xff\\xf9\\xf7W\\xff\\xfb\\xd7\\x0f\\x7f\\xff\\xff\\xaf\\x01\\x00\\x00\\xff\\xffPK\\x07\\x08\\x7f\\x10\\xa89L\\x04\\x00\\x00\\x7f\\x05\\x00\\x00PK\\x03\\x04\\x14\\x00\\x08\\x00\\x08\\x00+\\x19\\x88R\\x00\\x00\\x00\\x00\\x00\\x00\\x00\\x00\\x00\\x00\\x00\\x00\\x0b\\x00\\t\\x00config.jsonUT\\x05\\x00\\x01\\xe2sn`l\\x90Mk21\\x14\\x85\\xf7\\xfe\\n\\xc9\\xfaM\\xde$ft\\xec\\xb2\\x16\\xa9 E\\xb0U\\xe8\\xa6\\\\3\\x91\\x8e\\xa3f\\x9a{\\x1d\\x95\\xd2\\xff^\\xe2G\\xc7\\xa1\\xdd>\\xf7\\x9c\\xe7\\xc2\\xf9l\\xb5\\xdb\\xec\\xdd#\\xb1\\xbb6sK\\xe8,\\x17Nr\\xa9\\xac\\xe2&3\\tO\\x13\\xa5\\xb9\\xe9\\xf5m_\\xc9\\x9e\\xd1\\x1d\\xcdw\\xc8\\x1d q%\\xb2\\x85\\x00\\xa4\\x00\"\\x03\\x02$8\\x08\\xeb7\\xec_4\\x96>D\\xa3\\xee\\xcbT\\x9e\\x80\\xfdX\\xbf\\xd5\\xd0\\xe8\\x13,\\xdc\\x11K\\xb0.\\xfe\\xde\\xf8\\xea\\\\]{\\x0b\\xeb\\x87Ad?\\xaf\\xce\\x17\\x0b\\x03\\x17h\\xec-P\\xee\\xb71 \\xfe[\\x106\\x10\\xbb\\xea\\x9a\\xc7\\xc2\\x1d/\\xcd\\xdf=w\\xd3\\x9a\\x92\\x0f\\xaey\\xcf3\\xb7\\xa5\\x9c\\x8ebU`37\\x01\\xc4\\xbd\\x0fY\\xcc\\x8d\\xa6i>\\xac\\x1e\\xb7\\xaf\\xf7\\xba\\xdb;\\xaclr\\x8eR\\xd8!\\xfd!\\xady\\xad\\xad\\xd9\\xadx\\xf2\\x9c\\x98}w\\xb6\\x98\\x0f\\xaa\\xf2EC\\xb8.\\x80U\\xd3\\x18\\x97\\xbf,\\xbe<\\xc4un%r\\\\\\x94\\xc3Q\\xfa\\xa4\\xe6\\xd0M\\xf2\\x99C\\xd6\\xfaj}\\x07\\x00\\x00\\xff\\xffPK\\x07\\x08\\x1c\\xa5\\x12\\xb8\\x12\\x01\\x00\\x00\\xf1\\x01\\x00\\x00PK\\x03\\x04\\x14\\x00\\x08\\x00\\x08\\x00+\\x19\\x88R\\x00\\x00\\x00\\x00\\x00\\x00\\x00\\x00\\x00\\x00\\x00\\x00\\x07\\x00\\t\\x00cqlshrcUT\\x05\\x00\\x01\\xe2sn`4\\xcaAn\\xc3 \\x10@\\xd1\\xfd\\x9c\\x82\\x0b@\\x81\\x10\\xa5^\\xf8$Q\\x16\\xe3a\\xacZ\\xc6P1\\xe3\\xaa\\xbe}eWY\\xfe\\xaf\\xf7\\xa4V+\\x93.\\xad\\xbe\\xe0\\xab\\x89V\\xdc\\xd8\\x8c\\x86g\\xbc\\xcd\\x13{\\xeb\\x03\\x05\\x9br\\xba\\xdb\\xcf{\\x886=\\x06\\x1a\\x82\\x7f\\xa4x\\x8bv\\x17\\xcb(j\\x83\\xcb\\x93C\\xd1\\x8e.\\xa3\\xa2(\\xfe:j\\x1b|\\xb7\\xaef4q\\xf0)\\x82H1\\xa3\\xd1\\xbe3\\xc0S\\xa4\\xbc\\xe0\\x07\\xcb\\x92Q\\xf9\\xbd\\x89\\xbb\\xceK9\\xdb}\\x10:\\xea\\n\\xbbp_\\xf9\\xb8\\xd6\\xca\\xc7\\xd5\\xa7\\xfb7\\xdc\\x15\\xfe\\x02\\x00\\x00\\xff\\xffPK\\x07\\x08\\xd5\\xc5\\x17\\x85\\x9a\\x00\\x00\\x00\\xc2\\x00\\x00\\x00PK\\x03\\x04\\x14\\x00\\x08\\x00\\x08\\x00+\\x19\\x88R\\x00\\x00\\x00\\x00\\x00\\x00\\x00\\x00\\x00\\x00\\x00\\x00\\x08\\x00\\t\\x00cert.pfxUT\\x05\\x00\\x01\\xe2sn`T\\xd6eT\\xd3\\x8f\\xc3\\x05p\\x18\\x9dR\\x82\\x92\")!_\\x90Q\\xd2(\\x12J\\xd7Ort\\x88\\xb48@b#GI\\x87\\xe0P\\x1a\\x07H\\x87#\\x05a\\x84\\x84\\x84\\xd4\\xe8Fd\\xa3\\x19\\xf1\\x9c\\xff9O\\xfd^\\xdes\\xcf}{\\xcf\\x07\\x80\\xd1\\x93\\x80\\x88I\\x00\\x18\\xdd\\x089\\x95H\\xb4V\\xf4)\\x1d1\\x05q\\x01\\x8c\\xae\\x93\\x14F\\x87\\x06`t\\xcd\\x00\\x8c\\xd2\\xeb\\xff*\\xf2\\x02\\x18\\xa5\\x1d\\x00\\xa3\\xb4\\x02\\x11\\x13\\x010J\\xd3\\xff7\\x028\\xc9\\xa9\\xff;\\xd0\\x12\\x93\\x03\\xf4\\xa4\\x94\\xb1\\x9a\\xb8L\\xf1\\xc6\\x08K\\x10\\x88\\x92(\\x1cF)\\\\\\x11\\xeeF\\xa8\\x0eX,\\nC\\n\\x8bc\\xd2\\x1a\\x1d\\xee\\xe7\\xf0G\\xec\\xdc\\x91\\x98\\xbf\\xc9\\xf65\\xcf\\x93\\xbc\\xf3\\x1bc+l\\xab\\xc4\\xe0\\xf1\\xd8\\xf7D%\\xbct\\xf2R\\xda\\xd1\\xc1\\xf4\\xa1\\xe6\\x9d\\x19j\\xd0\\x1b\\x1b<\\x94\\xbc=\\x8bJ\\xcc~D\\xa3w\\xb8S<\\xa5BE\\x0b\\xbc\\x1e~\\x96\\x0f\\xe9r\\xca\\x99\\n\\xb1\\x996\\xc1\\xda\\x88\\x91\\xe8\\xf4\\xfc\\xackS\\xbe\\x95\\x87\\x9f\\xcb\\xba\\x17?\\xf3\\x19\\xb2\\xf77at\\xfd\\xfe\\x82f\\xe9i\\x8e\\x9cm\\\\v\\x95\\xb0}\\x93>>\\xcba\\x99\\xa4,\\xe6\\xf7\\xaf9\\x8d3\\x15A\\xf7\\x99eo\\xb7\\x85\\xf9\"S\\xd3!qd\\x96\\x81\\xce\\x1c\\xc5^\\rUOY\\x0b\\x94\\r\\x87$<%\\x1a\\x8f\\xc1\\xe4\\xec\\x08\\xfdi\\xe6~\\x9b\\xcd\\xbf{\\xaa\" \\xa6\\x16:<\\xc7\\xee\\xba\\x1b\\xbd\\xeeV\\x12]\\xc6\\x1d\\xf16\\x99\\x8a\\x0bUM\\xae-\\xcb\\xa4+\\x1d`\\x9d\\xf8^N\\x04~W\\xe5\\xea`\\x1aZ\\xb2/\\xcd\\xebF9 \\xc2>\\xe0Q\\x9cw\\x1f<|W\\x83Iw\\xb9\\xe1=X\\x7f&\\xb1Y\\xd4\\xe4sT\\xe7\\xd6>\\x98,\\xf0f\\\\\\x1f\\xa1\\xfe\\x1bu!B\\x005\\xc0\\x8c/%\\xb4\\xed\\xfc\\xc1\\x1eu\\xd7=O\\xc7{p66\\x8f\\xdc\\x94\\xdfg=\\xb8]\\xf9\\x01\\xd3]\\xd62\\xa1\\xd4++\\x99\\xf7\\xed{m9\\r\\t\\xb5.\\xe7\\x9a:$\\xd0Z\\xfcI\\xe3\\xaa~\\x88\\x95\\xe3\\x06_M\\xbci\\xb6\\xb5I\\x9b\\xe6\\x05\\xedN\\x1e2nfp\\xd8Q\\xc1\\xe7\\xad\\xc4\\xf6)\\xdf\\x8b\\xde\\xb8?\\xc9\\xe6!\\x87M\\r\\xc7\\x0f\\x9c\\xdc\\x9a~_\\xccyK\\xb7\\x8f*\\xc7\\x1e\\x84\\xef\\xc50f\\xdfu\\xc2\\x9e\\xa3S\\xe4\\x03\\xfd\\x9c\"<\\x9d\\xb3\\x9c(\\x03k\\\\S3\\x8e\\xd9\\xd9\\xdc\"\\xe5\\xdc\\xad~\\xf9\\x0b\\xc4\\x1a\\xdaS\\xb8\\\\MF\\xd2l\\x9b\\x06\\xf4g}\\xad\\x9cL\\x89\\xec\\xc9)!\\xa4\\xb2\\xa0\\x8f\\xa2\\xe7\\xd2~\\xea\\xa3\\xeeh\\xb1\\xc2\\xb8\\xd3\\xdb\\xf5\\xfbu\\xe8{$\\x91\\x9a-^\\xabW\\xd3\\xc2\\xdaz+\\xc6\\xc1-\\xd2G\\x92:\\xbcA\\x17H\\xcf\\xec\\xd0W\\xb5\\x93\\x1a%/\\x1e\"\\xc3r\\x03\\xa1I\\xc4\\xb0/\\xb8U\\x85\\x1a\\xe0\\xa3\\xfc\\x84\\x9b^G\\xb1`\\xfe\\xd9\\xfa,\\xff\\xd9\\xc9\\xa9g\\xd7\\xf4\\xba\\xf6\\xf5\\xbc\\x15\\xa0\\x1b\\x19\\xbf\\xc0\\xa1W,\\x9c\\x13\\xfb\\xfa\\xb4r\\xb5Hw\\xfas\\xecx\\xe9m\\xb0}\\t\\x83\\xbe\\xa7X+v\\xad\\xc4\\xd0\\x7f5\\x9f\\x9f\\xc6\\x8fG/\\xba\\xa8\\x99\\x1folh\\xa6\\xfd\\xc1D\\x15\\xbb\\xb0\\x9bc\\x8f\\x16\\xb4\\x94Z\\xea\\x8al\\xb6\\xfcD\\xed8\\x87\\xc88\\xfe\\xban#\\n\\xfeU.\\xddro\\x89\\xa6\\xf1\\x06\\xf2i.\\xd5\\xe3\\xac\\x82\\xf2\\x1fj.P\\x99P_\\x80\\xa6:\\x97\\xe8\\x86\\xc6v\\x12mg\\xeb\\xa4\\xfaW7/5\\xa2\\xeb\\'\\xaeo\\x92\\xcd8\\x05\\xfdR\\x0cSz\\xee\\xd3i\\xbb\\xd87\\xd4\\xae?\\xb7\\xa1D\\xea\\xe9o=\\xb5\\xe8\\x8b\\xda\\x12\\xac\\x97\\xaa\\xbc\\xe0f@\\xe6?\\xf0\\xa1\\xa7\\xb3\\xc9p\\xf8{8k\\x10\\xef\\x83\\xd2\\xc5\\x14\\x1bq\\xdc6\\x1d\\xedC\\xb5lOi\\xbeQ\\xb2\\x13\\xb0c\\xe4#\\xdbP\\xdb+\\xe2\\xe2w\\x82\\xc3\\xe5\\x04\\xe4C\\xc1\\xd3\\x10\\xc5\\x0e\\xf8\\xd2G\\xd6\":\\xdc\\xfd\\xf1\\xb81\\x02_1\\x11\\x1b~\\xa6\\xc3M\\xf1\\xee+\\xa9\\x08\\x81\\x16>\\xe8^Y\\xa5\\xd5P\\xd6\\xf1\\xd9\\xae?\\x8c\\xee\\xa0Z\\x07V8Qc\\xcax>q\\x99\\xd5j\\xb4X\\xac|\\x91\\x15\\xcf\\xf12L\\x1c/\\xe1!\\xfb\\xb1\\x80?Wi.Z\\xe4\\xc9k\\xd9\\xe7\\x93\\xa0\\xd9;\\x11\\xf3\\xc8z\\x02\\r\\xcf\\x96\\xca\\x14hh\\x05n1\\x94x\\xdf\\xd5aL~a\\x19\\x90++\\xb2\\xdf\\xe9\\x8e\\x02nnx\\x99\\x1e1\\xde\\x94\\xb4\\xb9\\x16\\t\\xe8\\x8ea\\x08\\xad\\xddH\\xad\\xd5\\x03\\xdb\\x0cQ\\xbf\\x04t\\xdd\\x1f\\x00t\\xe0\\xd5\\xf3\\xe7\\\\py\\x1f\\xaaPR\\xa6\\xa39Lu\\xab\\xc58\\x85h=lw\\x16\\xce\\x84M\\xc7\\x0f\\nY\\xdc\\x9e\\xc5\\x07\\xdd\\x92\\xf5\\x89\\x0c=\\xfc\\xa1r\\xc8Fe\\x1eU\\x11j\\xaf\\xbc\\xa3)\\\\q\\x13\\xc0^\\xfb\\x12n\\xfe0\\xaf\\x15\\x99\\xab\\xc8\\xeb\\x05\\x86sn\\x1b9\\x83o\\x9e\\x86\\xd7i\\xe8\\xc4\\x1a>\\xabxrn\\xa5\\xa2 o\\x8fY\\xfc\\x81\\xcd\\xb3\\xbcX0:8\"\\xf7O\\xa2\\xe7\\x8d\\xb5\\xddoVt\\xe9\\xd0Y\\xca\\xed7\\xdb^\\xddu\\x88\\xe1\\xa9\\xe98\\xfcJ\\xef\\x1c\\xe2\\x96\"\\xe1+S\\xfa\\xc7\\xa4#dCYU\\xee\\x99#P\\x19V\\x1b\\xa5k\\xf1\\x85\\x9cK\\x8bA%\\x1f\\x80\\xa8O\\xc4\\xdd\\xb2\\r8\")\\xc5\\xdcQ$(\\x8c\\xb0v\\xfa5H)G4\\xd4%E\\xd0\\xe1+\\xbcW9\\x15\\x9cx\\xb6\\x08\\r\\xec\\x8d\\xc4<\\xa6\\xbc\\xeeMM\\x1f\\x9a\\xd8md\\xce1\\x0c\\'\\x06\"\\x12\\xfdo\\xbb\\x19\\xc9\\x03\\xcd>y\\x81\\xf3m\\xc4r+\\xd3j\\xc9\\x07\\xb4(K\\x07\\x1fgf\\x96\\x80\\xc5\\x80\\xb4z\\x97\\xae\\x82.i\\x977\\x12w\\xaf\\xda\\x949g,\\xc1U\\xd1F\\xafR\\xb3\\xa9\\xd5\\x92\\n\\x0e\\xd1lO\\xaa:\\xbd\\x02\\x83\\xfb\\xe5\\xf9\\x17\\x9e\\xa4\\xe3\\xb9\\xe8+A\\x9aiQ:n\\x1d\\xf9?\\'\\x05\\xbb\\xfb\\x02\\xf5\\x04}/\\xd8\\xdb\\x90\\xfc\\x12\\xdd\\xd4b\\xb6p\\xd6\\xbf\\x80\\x0f\\x87S\\xdb\\xdcB=\\xb6}\\x149\\x89J{\\xd0O\\xb2v\\x1c?\\xd8|ydP\\xcfx\\xae\\xc6.\\x9a\\xf9Z-Z\\xc7\\xe3N\\x8d&\\xe1[\\xd0\\xaa\\x19\\x08\\x0c\\xc8\\x80\\x04\\xc5\\x0e\\xb1\\xc3\\x9bK.V,}\\x9c\\x1a\\xab\\x06\"\\xd3\\xfbd\\xfd\\xcav\\xdd\\x06\\xbc\\xc4\\xee\\xa1\\x8c\\xa2/\\xae\\x12kV\\xd7=\\xdb~zPqT\\xa5q)\\xa5&\\xae\\xd1\\x16\\xb3E\\xd4\\xd5\\xfd\\x9d\\\\\\xfe\\x99\\xdc#\\xd2\\x9dU\\xd3g\"#g\\xb8;\\xba\\x1e\\x02\\xdb8\\x9a8\\xd7\\x9e\\x1e\\xe1\\x8b\\x0f\\xa0\\xbe\\x14\\xfa\\xb4\\x938Pn\\x84Z>\\x05%Y[\\xbbM\\xf1t\\xe6\\xa3rq/1\\xb5aUf\\xc4\\xcd\\x1c=p\\x12\\xbd\\xa4\\x8f\\xf9z\\x9fY\\xd0?b\\x1c\\x96\\xf3N\\xae\\x98\\x9e!h\\x16\\x8d\"\\xb9\\x1e3883\\x04\":\\xe0n\\xfbb\\xa4C\\x1a\\x8c\\xe6\\'z\\x96\\xb8-\\xd3\\x92\\nYz\\x96BI\\x9cK\\xf3;T\\xaa\\x07\\xc5\\xd4\\x05e\\xbbV\\x1es\\x87X\\xb2\\xf6\\xb1n\\x12]\\xa0`po\\x15R\\x0fXr\\xcc\\xc3\\x8f\\x0bm\\xa5\\x11\\xfct~\\x041\\x9f\\rk=\\x13\\xb0\\x86|\\xbf\\xe6\\x15{\\x10cg\\xdf\\x11\\xcf\\xf5`\\x06I\\xf6q\\xfd\\x95\\xc6\\xdf\\xf4\\xde\\xe30\\x8fQ\\xdb\\x16\\x85\\xdd]\\x9e\\xa8\\xe0\\xa6?\\xde\\'\\xae\\xd1\\x08\\x17\\x96\\xf6w\\x81sU\\xab?2j\\x8c\\xae\\xd9\\x94\\x99\\x99\\xbd\\x03Z\\x86}~\\x80\\xe3\\x16\\xb7\\x0c\\x1f~\\x9f`\\xf0\\x92o<\\xab,\\xe0\\xb6\\xb1\\x0b\\x96\\xbd\\xa5GO\\x9d*\\xdaR\\xb2\"\\xb5\\xf5%\\xa3\\xc5\\x1dm.r\\xe1\\xd0\\xf8\\x8aU\\xf8\\xf6\\xd7\\xb8N\\xb7\\x92[\\xb6\\x004\\xef\\x82\\xf3\\xebS\\x9fn\\'\\xee*\\xcf\\xc7\\x8dak\\xe5\\x13\\xa5X1}\\xf0Z\\xe0eg\\xc8\\x18\\xc5\\xc2i\\xa4\\x84\\x97b\\xee\\xf3\\xe0b\\xdchY\\xe5\\xa7\\x82\\xe4W\\x9e\\xf7\\r\\xefb\\xc6\\xd7\\x98) K#\\x08Ce\\xd31\\xd5gh\\xaaM\\xd7\\xf8p\\xae\\xbc\\xf75\\x97\\xa4\\xc7\\xc0\\xe6\\x07p\\x15\\xbbb\\xb5\\xb7\\x89\\xaesA\\xd0\\xe0\\xd5\\xf5\\x0bK7\\xde\\xd0\\xc7\\xbah\\x92\\xcf\\xac\\xf5o\\xe96bq68\\xd1\\xc2\\xdd 3SG\\x13c\\xf5\\xf6R\\x88s\\xa5\\xcc\\xde\\xc6\\xb6\\x04\\xfe\\xa2\\xd9L\\xc26O\\xe8\\xe5\\xe0\\x82\\x97\\x96u\\x0e\\\\\\xd1\\x0f]\\x05j\\r\\xd6^\\x7f\\xdf\\xfd}\\x93\\xc2\\xc2\\xc4d\\x022\\x84H\\xff\\x0eS\\x10\\xa7\\xa7\\x8fX\\x13\\xb0\\x8c\\x93\\xea\\xb0u*/f\\xb5\\x10M\\x9a\\x1b\\x04j\\x8b\\xb6\\xa1\\n\\xf2\\xdb\\xd0\\xa40h\\xf5\\x00\\xf3\\xcc\\xa5Pi\\xb2\\xba\\x9d\\x1d\\x17R\\x11\\xee\\xd3\\x1b\\n7\\xd9\\xd2\\xf0r\\x90(\\x16_l\\xf9\\xee\\x14,\\xb6F\\x0eO\\xf7\\xee:\\xb4h_\\xb1Hn\\t_\\xa0\\xe3\\xf4\\xe4\\xa1\\xe1q\\x1e.\\x95O\\xa5\\xf9\\xd1\\x06]V\\xafA\\x89\\xf9s\\xfb\\xa3\\xc952\\x9b\\xa2\\xde\\x80\\xc7N/\\xc0\\x8d\\xbe\\xcfo\\xf3\\x127D$\\xb2\\x10\\x06\\xd7\\xb3\\xb5\\xe2\\xbc\\r6\\xee\\xbdc\\x84\\xc6 \\xdd\\xd3\\xf9\\x8b\\'\\x1b1\\xa6\\x16\\x15`9\\xef\\x9a\\t2\\xef\\x1d\\x81\\xca?\\xba%>\\x837!Hx{\\xd5\\\\\\xf5k\\xa3m\\x82z\\xb6G\\x96\\xf8&\\xc7\\x81\\xe5\\xab\\xdfD\\x11\\xf8\\x99\\xda7\\x89\\x0f\\xc5\\x15\\x1d\\xe7\\x1dH\\xa6\\xbf\\xf1\\x93^a\\x9c\\xc7@B\\xd3\\xabhH\\xcc\\x18\\x8f\\xa9\\r\\x9f\\x1d:\\xca\\x17\\xcb\\x13\\xd9\\xb99\\xb4\\xb6\\xa8|*\\xe2\\xffGx\\x9c*\\xa4 \\x9cdqD\\x97\\xb0\\xdc,-M4\\xcbZ\\x18Dv\\x8b \\x0b\\xc0\\xc8\\xd4\\xfe\\xa5\\x112)R\\x18\\xd9C\\x00F&\\x02\\xc0\\xc8\\x04\\xc9i\\xfe\\x87\\x19\\xd4\\xc4\\xa0\\x02\\x18\\xe9>\\x00#\\xdd\\xf9\\x97>H\\xfe\\xa3\\x0f\\xeaY\\xc4;#\\rT\\xfd\\x7f\\xf4A\\n#\\xed\\xf7s\\xb90j\\x08\\xe8\\xb7V\\x07\\xc5.\\xfe\\x8c\\xb3C\\xa8\\x0c\\xbf\\x89\\x19\\xea\\xe5g\\x91\\xdb\\xb9]\\x18\\xf2|4%\\x81\\xc8#}6\\xfd!\\xcc\\xb2\\x92\\x91>O:\\x18\\xf7\\xb8~\\\\\\x12\\xa8\\xce\\x13/\\x9b\\xa8\\xdd\\xe8<\\x11\\xe9\\xabnU\\xd0\\x1a\\x04\\x01\\x9b1\\xd0\\x82=\\xc4)t)\\x80\\xa4\\x07k\\x98G\\x17z\\xf9\\xf4\\x06\\xa3\\xbf\\x8eh\\x86\\x1b\\x10\\xc7+\\xc5\\xb7\\xbaR>\\xca}<K\\nv\\x96f\\xb5\\xf5\\xe8n\\xe7g\\x82t~L\\\\\\xa9\\xcd\\xe1\\xf6\\x88\\x93_\\xe5\\xfbTvO\\x88%\\xb7\\x95\\xdf\\xdc\\t\\x9azd\\xeb\\xc0\\xb8\\xb1m-\\xb3\\xaa0\\xa3j?\\xd3\\x8a\\xfa6\\xf97S\\x19\\x8f\\x19\\xa8Y\\xe5\\x1c\\x00I\\xd4PK\\xc9\\xa8\\x92\\x11\\xc9\\xea\\x89`N\\x15\\x1e\\xc5\\xa1\\x83\\xab/\\x1b\\x82ST\\xe9\\x92\\x1e\\x9c\\xec\\x9d\\xf2\\xeb\\xb1\\xc9\\xd2-\\x0b\\xc5M\\xce\\x8eQM0\\xdaJZ\\x869n\\xa9\\x920\\xe2\\x8b6\\xe3D\\xb3\\x17\\x98i\\xd3\\xcc\\xdbCs\\xdc\\xed\\xfb*~\\xd6\\xc7\\xeduw%\\xd2\\xbf\\xa8Sg+3\\xaf\\xadny\\xb1;=\\xbd\\x12\\x85G\\xe8=f\\xdf\\xb0fq\\xa3\\x17\\x80\\x90\\xf0\\x0f\\xb5\\xf1<\\x87*\\xa0Q\\xfa\\xf2\\xa1\\xce\\xac\\xaaFKj\\xa9X\\x7fU\\x87AT\\xf5\\xcd\\xd9U*\\xe9\\'\\xfa\\xb5\\xc3\\x89\\x82\\xe0\\xa4\\x02\\xc7\\xeb\\xebl]s\\xe1\\x7f\\xdc\\x90\\xcd\\x80\\x9b\\xa0q\\x80-\\x86\\x8e\\xf9\\x17k\\x93\\xf1\\x8c\\xf0\\xbe\\xaa\\xa4\\xab\\xc9\\x87\\xe2\\xc4\\x84]VA\\xa3N\\xc7\\xfd\\x99\\x05[)\\x8d/P\\x9c\\x84\\xd0\\x94\\x9f!\\xd9\\n\\x97\\x92\\xa2\\x8a\\x143\\xb3\\xfc9V\\xd8P\\n\\xc2\\xde\\x90\\x1d\\xe2\\x03qU\\xb9\\xc1\\xa5k\\xc7\\xeb\\x8f\\x04\\x8c@\\x10\\xac\\x0f\\xdc\\xb5>\\xfd\\x8d\\xb3\\xc1\\xfd\\xbd\\x96K\\xcdR\\x0b\\x92\\x99\\xd4\\xb2+\\x0b\\xd8k\\x04\\xbb\\xcf\\xe1\\'\\x88\\xc4?b/\\x0b)\\xe2t\\xeeq*9\\x03*{\\xaf2>\\x07\\xad}\\x01\\xcf\\xf8V\\x7f\\x98D\\x8c\\xcf+\\x0c\\xb6\\x98\\xa0F/\\x1d\\xf5\\xef}H\\\\\\x1a>z\\x97\\xa1j2\\xc6b\\xa0\\xf5\\xc5`\\x99\\x9f\\xe7\\xdb\\xee\\x80\\xabw\\x8d\\xeb\\xe2\\xed\\xed\\x15ZA\\x1f=\\xf5fNb\\xf1-\\xb4}z\\xae\\xcc\\x81\\xdf\\xbdGgQ\\t\\xc6\\xa3vZ\\x99\\x03\\xfd:};\\xce\\t\\x17\\xac\\xee\\xfd\\xbbS\\x9d\\xe0a\\xd8^At\\xdb1\\x15;\\xd8\\x8cp\\x1fy\\xeb>\\xe1\\xf4K \\x9b\\x7f\\x95=d\\xfc\\xd6o\\xf6\\x05\\xda\\xee\\xa3\\x81\\xef\\x96\\x86X\\xdb\\x9a]\\x0e\\xff\\xc2ulR\\x19N\\xffu\\xcf\\xb3}\\xff\\x08\\xf9y\\xe0\\xe2\\x8aeB\\xbd\\xef\\x89\\x82\\x00pi\\xf3\\xa4cj\\x0b\\xc2Y\\xad\\xd3\\xc6mj\\xac\\xe2\\xd2\\xe0O{L\\xbd\\x17\\xfc4T\\x14\\x10o\\x7f\\x1f\\xf9\\x81\\xf6.\\xa3\\xa1\\xdc\\xd0\\x8d?\\xc1}\\x9eLA/\\xcf|>d2f\\x95\\x9c\\x95\\xc7\\xa2\\x82\\x85\\xfa\\xf9\\xceD\\xe5\\x1d-i\\x8d\\n?\\xae,|\\xf4\\xa3\\xcf\\xc7\\xb8Q\\xf1HZ\\x83(W\\xc4\\xe7\\xc1\\x13a\\x8fek\\x90\\xcf\\xde\\x18\\xe9\\x88\\x1d3Y$\\xfem>-\\xd3\\xca\\xa4JW$\\r\\x93y\\xee\\xc0su\\xbb\\xaa\\x8f\\xc4\\xa3\\x8b\\x8e\\xbf\\xdcs\\x0f\\xa9\\xd4\\x01F$\\xbf\\xef\\xe6\\x13:\\x06\\xa9.YN\\x0b\\t\\xe9r%R\\x02\\xcf\\x89\\xa1hSw\\xee?;\\x9cq\\x06]\\xc2\\xf1\\x91\\x0b\\xf7\\x94\\x86\\xe5\\x12H\\x04_\\x08\\xf5h\\xd6\\x9bE&r\\xceJF\\xac\\x97\\xdb\\xa1\\xc4\\\\(Xa\\xef\\xca\\xc5\\xb0?C\\xd2\\x14~\\x8c%\\xb0e]\\x05`yu8ae,\\x01\\x9b6#<\\xd7%6\\xf0\\xb0\\xd4Y|\\xec\\x9bL\\xe6+j\\x9eX\\xddm\\xeb\\x8a(\\xc60\\x8e\\xd3d{\\xba^f\\x17O\\xad<\\xce\\xcc\\xce\\xcf\\x97\\xad\\xdc\\xff\\\\\\xc3\\x1f6\\x7f\\xb3Nj%\\xbe{\\xa4f\\xf3\\xabtOk\\xd8\\xbb\\xc8\\xa0)2\\xf8\\x9b\\x0b\\xd3\\x03D\\xba\\xb1\\xd2\\xd3&\\xaaH\\x9f,5Iiu+d2E\\xbco\\x0c\\x99\\x1d\\xf1\\x94\\xfc\\x16Y\\xc9A$\\x19\\xa67a\\xe1t6\\xc6\\xf2-\\xafC\\xaeg\\x03c\\xf1]\\xbe\\xa5\\xc4J\\xd2N*\\xad^=\\xd7\\x9c\\x0f\\xcb\\xdc\\x1c|\\xbd\\xfe?h\\x17\\xf4\\xc3\\x1f\\xbb\\xee]\\x9bY5\\xf7l7\\x16\\xddI\\xca\\xdc\\xe7\\xa8\\x03\\x95\\xb2\\x90\\x1cn\\x04\\xccB\\xfd\\xeb\\x82[u\\x91\\xb9\\x14E\\x99\\xb6(\\x15\\x1c\\n\\xdf\\xe8\\xfc\\x0f\\xd0Dtr\\xf5B\\x8fcLYu\\xf1\\xa9\\xc9W*\\x0e\\x84~Y\\x8fc\\x9d\\xcc[\\x13\\xf7\\x0c\\x06\\xf5\\x96G\\xf9\\xb9\\xc9}\\xacV\\x9bP\\xb8zJ>\\x13\\xf7\\xbe\\x95\\'\\x8e\\rkN\\xd4F\\xfc\\xad\\xac#!Ej\\xe9K\\x94\\xca\\x8b\\xe1(\\x8a\\xb9A\\xbcSH\\xc7ytv\\xe1\\xa6\\xcf\\x9e\\xeeTy`\\xee\\xb7\\x8f\\x19\\xe1\\xa6\\x04g%\\xe2\\x8c?\\xe2\\xd6\\xfa\\xcf\\xb3\\xd0\\x85\\xe4AE\\xdb\\\\\\x17R^)\\xd7Ge_\\xd4\\xaf\\x94}5\\xda\\xebpq\\xd9\\xc5%}[\\x81\\'\\xaf\\xc6?\\xb5\\x1f\\xac\\xcf\\n@\\xaa\\x01xO9f\\xb7r\\xdb\\x92\\x03\\x81\\xa0\\xda\"Q\\x18+\\\\\\xa69\\x86\\x86\\xbd\\xd7\\x90\\x8c\\xf5U\\x12\\x7f\\xa4vC#\\x8d\\xae[\\x8c]\\xa9\\x92\\xcau\\xbe\\x92\\x14\\x00\\xf8\\xfe\\xf7\\x1d\\xa9nK\\xb2\\x92\\xb2`B\\xf0\\x08!\\x0e\\xda\\x1a\\xc9\\xf9\\xe0\\xc6m\\xa5K\\x00U]\\xdc\\n\\x88\\x02<\\x00\\x059\\x99(=\\t\\x88\\x9d\\x94\\xa5\\xec%AlQ\\xdc\\xff\\x9c\\xba\\xcaPs\\x91\\'}\\x01f\\xf5\\x8c\\x85\\x94R\\xa0*\\r\\xc2\\xb4o\\x7f\\xfa_\\x01\\x00\\x00\\xff\\xffPK\\x07\\x08\\xffR\\x85\\xcc\\x0e\\x0e\\x00\\x00\\x07\\x0e\\x00\\x00PK\\x01\\x02\\x14\\x03\\x14\\x00\\x08\\x00\\x08\\x00+\\x19\\x88R\\xd2\\x87\\x16\\xe6\\xe8\\x03\\x00\\x00A\\x05\\x00\\x00\\x06\\x00\\t\\x00\\x00\\x00\\x00\\x00\\x00\\x00\\x00\\x00\\x80\\x81\\x00\\x00\\x00\\x00ca.crtUT\\x05\\x00\\x01\\xe2sn`PK\\x01\\x02\\x14\\x03\\x14\\x00\\x08\\x00\\x08\\x00+\\x19\\x88R\\xaf\\xd7f\\xb8\\t\\x05\\x00\\x00\\x8b\\x06\\x00\\x00\\x03\\x00\\t\\x00\\x00\\x00\\x00\\x00\\x00\\x00\\x00\\x00\\x80\\x81%\\x04\\x00\\x00keyUT\\x05\\x00\\x01\\xe2sn`PK\\x01\\x02\\x14\\x03\\x14\\x00\\x08\\x00\\x08\\x00+\\x19\\x88R\\xe6#\\xea\\x8a\\xfa\\x03\\x00\\x00\\x7f\\x05\\x00\\x00\\x04\\x00\\t\\x00\\x00\\x00\\x00\\x00\\x00\\x00\\x00\\x00\\x80\\x81h\\t\\x00\\x00certUT\\x05\\x00\\x01\\xe2sn`PK\\x01\\x02\\x14\\x03\\x14\\x00\\x08\\x00\\x08\\x00+\\x19\\x88R9yH[\\x02\\n\\x00\\x00\\xc3\\n\\x00\\x00\\x0c\\x00\\t\\x00\\x00\\x00\\x00\\x00\\x00\\x00\\x00\\x00\\xa4\\x81\\x9d\\r\\x00\\x00identity.jksUT\\x05\\x00\\x01\\xe2sn`PK\\x01\\x02\\x14\\x03\\x14\\x00\\x08\\x00\\x08\\x00+\\x19\\x88R\\x7f\\x10\\xa89L\\x04\\x00\\x00\\x7f\\x05\\x00\\x00\\x0e\\x00\\t\\x00\\x00\\x00\\x00\\x00\\x00\\x00\\x00\\x00\\xa4\\x81\\xe2\\x17\\x00\\x00trustStore.jksUT\\x05\\x00\\x01\\xe2sn`PK\\x01\\x02\\x14\\x03\\x14\\x00\\x08\\x00\\x08\\x00+\\x19\\x88R\\x1c\\xa5\\x12\\xb8\\x12\\x01\\x00\\x00\\xf1\\x01\\x00\\x00\\x0b\\x00\\t\\x00\\x00\\x00\\x00\\x00\\x00\\x00\\x00\\x00\\xa4\\x81s\\x1c\\x00\\x00config.jsonUT\\x05\\x00\\x01\\xe2sn`PK\\x01\\x02\\x14\\x03\\x14\\x00\\x08\\x00\\x08\\x00+\\x19\\x88R\\xd5\\xc5\\x17\\x85\\x9a\\x00\\x00\\x00\\xc2\\x00\\x00\\x00\\x07\\x00\\t\\x00\\x00\\x00\\x00\\x00\\x00\\x00\\x00\\x00\\xa4\\x81\\xc7\\x1d\\x00\\x00cqlshrcUT\\x05\\x00\\x01\\xe2sn`PK\\x01\\x02\\x14\\x03\\x14\\x00\\x08\\x00\\x08\\x00+\\x19\\x88R\\xffR\\x85\\xcc\\x0e\\x0e\\x00\\x00\\x07\\x0e\\x00\\x00\\x08\\x00\\t\\x00\\x00\\x00\\x00\\x00\\x00\\x00\\x00\\x00\\xa4\\x81\\x9f\\x1e\\x00\\x00cert.pfxUT\\x05\\x00\\x01\\xe2sn`PK\\x05\\x06\\x00\\x00\\x00\\x00\\x08\\x00\\x08\\x00\\xf9\\x01\\x00\\x00\\xec,\\x00\\x00\\x00\\x00'}"
            ]
          },
          "metadata": {
            "tags": []
          },
          "execution_count": 4
        }
      ]
    },
    {
      "cell_type": "markdown",
      "metadata": {
        "id": "bulgarian-michael"
      },
      "source": [
        "set the `Secure connect bundle zip file` path and specify the `clientID` and `Client_Secret`"
      ],
      "id": "bulgarian-michael"
    },
    {
      "cell_type": "code",
      "metadata": {
        "id": "bearing-roads"
      },
      "source": [
        "# Enter the credentials below\n",
        "zip_path = '/content/secure-connect-gainer.zip'\n",
        "Client_ID = 'JnJGsnoCxCBbXoktnYGtPYqp'\n",
        "Client_Secret = ',yeR46LcCU,nolyNxk2DFygRpsdAGsGDXRCvdGmdiwbrz+GTtBPP41v_6+15qi3jkZMNyfh-to-BM_cF,EBeXZUsn--y9DrW-lMqZlAb5BCYdXW2fgLj8iQERoKZgpi1'"
      ],
      "id": "bearing-roads",
      "execution_count": 5,
      "outputs": []
    },
    {
      "cell_type": "markdown",
      "metadata": {
        "id": "u0GXrsCHK0H6"
      },
      "source": [
        "#### Create a Cluster instance to connect to your Astra database.\n",
        "\n",
        "You will typically have one instance of Cluster for each Cassandra cluster you want to interact with. Create a session object using the cluster.\n",
        "\n",
        "**Hint:** Refer Python documentation under Connect."
      ],
      "id": "u0GXrsCHK0H6"
    },
    {
      "cell_type": "code",
      "metadata": {
        "id": "personal-string",
        "outputId": "8f2c7617-54c4-44e0-94ec-de833e2db13a",
        "colab": {
          "base_uri": "https://localhost:8080/"
        }
      },
      "source": [
        "cloud_config= {\n",
        "        'secure_connect_bundle': zip_path\n",
        "}\n",
        "auth_provider = PlainTextAuthProvider(Client_ID, \n",
        "                                      Client_Secret)\n",
        "cluster = Cluster(cloud=cloud_config, auth_provider=auth_provider)\n",
        "session = cluster.connect()\n",
        "print(session.hosts)"
      ],
      "id": "personal-string",
      "execution_count": 8,
      "outputs": [
        {
          "output_type": "stream",
          "text": [
            "[<Host: efa3fbe0-01c1-4d45-8512-479c91074232-us-east-1.db.astra.datastax.com:29042:e1f21cce-5e38-4871-be73-21fad1efaa1d us-east-1>, <Host: efa3fbe0-01c1-4d45-8512-479c91074232-us-east-1.db.astra.datastax.com:29042:d2483b30-9fc3-47e0-be0c-7ff1430e5f58 us-east-1>, <Host: efa3fbe0-01c1-4d45-8512-479c91074232-us-east-1.db.astra.datastax.com:29042:c3ef9395-aea4-4c49-b046-a0aad26f6c50 us-east-1>]\n"
          ],
          "name": "stdout"
        }
      ]
    },
    {
      "cell_type": "markdown",
      "metadata": {
        "id": "sorted-modern"
      },
      "source": [
        "#### Verifying the database connection\n",
        "\n",
        "execute a simple query and verify the database connection"
      ],
      "id": "sorted-modern"
    },
    {
      "cell_type": "code",
      "metadata": {
        "id": "alike-alcohol",
        "colab": {
          "base_uri": "https://localhost:8080/"
        },
        "outputId": "118ce685-0484-4820-8605-8196d233eb34"
      },
      "source": [
        "# YOUR CODE HERE\n",
        "row = session.execute(\"select release_version from system.local\").one()\n",
        "if row:\n",
        "    print(row[0])\n",
        "else:\n",
        "    print(\"An error occurred.\")"
      ],
      "id": "alike-alcohol",
      "execution_count": 10,
      "outputs": [
        {
          "output_type": "stream",
          "text": [
            "4.0.0.6811\n"
          ],
          "name": "stdout"
        }
      ]
    },
    {
      "cell_type": "code",
      "metadata": {
        "colab": {
          "base_uri": "https://localhost:8080/"
        },
        "id": "sbofPT3pHV3c",
        "outputId": "e6f11f2a-acc3-422c-906d-88a1d8fe0e61"
      },
      "source": [
        "row = session.execute(\"select rating from mov.data_ratings where \\\"movieId\\\"=2137 ALLOW FILTERING;\")\n",
        "if row:\n",
        "    print(row[0])\n",
        "else:\n",
        "    print(\"An error occurred.\")\n"
      ],
      "id": "sbofPT3pHV3c",
      "execution_count": 16,
      "outputs": [
        {
          "output_type": "stream",
          "text": [
            "Row(rating=5)\n"
          ],
          "name": "stdout"
        },
        {
          "output_type": "stream",
          "text": [
            "/usr/local/lib/python3.7/dist-packages/ipykernel_launcher.py:3: DeprecationWarning: ResultSet indexing support will be removed in 4.0. Consider using ResultSet.one() to get a single row.\n",
            "  This is separate from the ipykernel package so we can avoid doing imports until\n"
          ],
          "name": "stderr"
        }
      ]
    },
    {
      "cell_type": "markdown",
      "metadata": {
        "id": "earlier-cedar"
      },
      "source": [
        "#### Setting the Key Space\n",
        "\n",
        "A keyspace is the top-level database object that controls the replication for the object it contains at each datacenter in the cluster. Keyspaces contain tables, materialized views and user-defined types, functions and aggregates. Typically, a cluster has one keyspace per application. Since replication is controlled on a per-keyspace basis, store data with different replication requirements (at the same datacenter) in different keyspaces.\n",
        "\n",
        "Before creating tables and inserting data let's create and set the keyspace\n",
        "\n",
        "* we can create keyspace manually on Datastax dashboard or also using the CQL command. (use lowercase to avoid errors)\n",
        "\n",
        "    * [Hint](https://docs.datastax.com/en/cql-oss/3.x/cql/cql_reference/cqlCreateKeyspace.html)\n",
        "\n",
        "* once the keyspace is created successfully, set the keyspace using the command `set_keyspace()`"
      ],
      "id": "earlier-cedar"
    },
    {
      "cell_type": "code",
      "metadata": {
        "id": "complicated-decision",
        "outputId": "34a2a24b-59be-44db-fae7-ce66ae5dc438",
        "colab": {
          "base_uri": "https://localhost:8080/"
        }
      },
      "source": [
        "# YOUR CODE HERE\n",
        "def create_namespace():\n",
        "  print(\"creating keyspace...\")\n",
        "  KEYSPACE = \"testkeyspace\"\n",
        "  session.execute(\"\"\"\n",
        "        CREATE KEYSPACE IF NOT EXISTS %s\n",
        "        WITH replication = { 'class': 'SimpleStrategy', 'replication_factor': '2','gainer':1 }\n",
        "        \"\"\" %KEYSPACE)\n",
        "\n",
        "  print(\"setting keyspace...\")\n",
        "  session.set_keyspace(KEYSPACE)\n",
        "\n",
        "create_namespace()\n"
      ],
      "id": "complicated-decision",
      "execution_count": 24,
      "outputs": [
        {
          "output_type": "stream",
          "text": [
            "creating keyspace...\n",
            "setting keyspace...\n"
          ],
          "name": "stdout"
        }
      ]
    },
    {
      "cell_type": "markdown",
      "metadata": {
        "id": "MwAu-oEU3KWP"
      },
      "source": [
        "### Insert the data into Database (1 point)\n",
        "\n",
        "To insert the data into database, we can create a table in keyspace and insert the data by using CQL command or we can directly upload the data on the datstax dashboard using [Astra Dataloader](https://docs.datastax.com/en/astra/docs/astra-data-loader.html)\n",
        "\n",
        "As there is huge amount of data, insertion of data using CQL commands may take time, preferable method is Astra Dataloader.\n",
        "\n",
        "* Download the below mentioned 3 datasets and upload to Datastax Astra dashboard using Astra Dataloader\n",
        "    * [data_movies](https://cdn.iisc.talentsprint.com/CDS/MiniProjects/data_movies.csv)\n",
        "    * [data_ratings](https://cdn.iisc.talentsprint.com/CDS/MiniProjects/data_ratings.csv)\n",
        "    * [data_users](https://cdn.iisc.talentsprint.com/CDS/MiniProjects/data_users.csv)\n",
        "    \n",
        "while uploading data using Datastax Astra dataloader you may encounter the below error message due to formatting issues or bulk data. In that case, click on upload button for second time for data upload. \n",
        "![img](https://cdn.iisc.talentsprint.com/CDS/MiniProjects/data_upload_error.JPG)\n",
        "\n",
        "Note: Cassandra also handles non-SQL data formats such as JSON (see [insert JSON data](https://docs.datastax.com/en/cql-oss/3.3/cql/cql_using/useInsertJSON.html)). However for the purpose of this Mini-project, we are using a tabular data format (.csv)."
      ],
      "id": "MwAu-oEU3KWP"
    },
    {
      "cell_type": "markdown",
      "metadata": {
        "id": "relevant-vacuum"
      },
      "source": [
        "### Querying the database (2 points)"
      ],
      "id": "relevant-vacuum"
    },
    {
      "cell_type": "markdown",
      "metadata": {
        "id": "OHtkA5P8gHku"
      },
      "source": [
        "* Select First 10 rows of the data_movies table\n",
        "* How many Users have watched the movie  `'Contact (1997)'` with MovieId = 1584\n",
        "* Select the count of teenage male users\n",
        "\n",
        "**Note:** For syntax related issues, try the **CQLConsole** on Datastax dashboard\n",
        "\n",
        "**Hint:** [CQL command for select](https://docs.datastax.com/en/cql-oss/3.3/cql/cql_using/useQueryColumnsSort.html)"
      ],
      "id": "OHtkA5P8gHku"
    },
    {
      "cell_type": "code",
      "metadata": {
        "id": "familiar-architecture",
        "outputId": "67a18c3c-c467-49c3-ef92-ce4c690283d0",
        "colab": {
          "base_uri": "https://localhost:8080/"
        }
      },
      "source": [
        "# YOUR CODE HERE\n",
        "rows = session.execute(\"select * from mov.data_movies limit 10 ALLOW FILTERING;\")\n",
        "if row:\n",
        "    for user_row in rows:\n",
        "     print (\"Movie-ID\",user_row.movieid,user_row.title,user_row.genres)\n",
        "else:\n",
        "    print(\"An error occurred.\")\n"
      ],
      "id": "familiar-architecture",
      "execution_count": 31,
      "outputs": [
        {
          "output_type": "stream",
          "text": [
            "3372 Bridge at Remagen, The (1969) Action|War\n",
            "1584 Contact (1997) Drama|Sci-Fi\n",
            "2731 400 Blows, The (Les Quatre cents coups) (1959) Drama\n",
            "2713 Lake Placid (1999) Horror|Thriller\n",
            "769 Marlene Dietrich: Shadow and Light (1996) Documentary\n",
            "1863 Major League: Back to the Minors (1998) Comedy\n",
            "2453 Boy Who Could Fly, The (1986) Drama|Fantasy\n",
            "2302 My Cousin Vinny (1992) Comedy\n",
            "3733 Paper Chase, The (1973) Drama\n",
            "1765 Letter From Death Row, A (1998) Crime|Drama\n"
          ],
          "name": "stdout"
        }
      ]
    },
    {
      "cell_type": "code",
      "metadata": {
        "id": "younger-audit"
      },
      "source": [
        "# YOUR CODE HERE "
      ],
      "id": "younger-audit",
      "execution_count": null,
      "outputs": []
    },
    {
      "cell_type": "code",
      "metadata": {
        "id": "charged-demographic"
      },
      "source": [
        "# YOUR CODE HERE"
      ],
      "id": "charged-demographic",
      "execution_count": null,
      "outputs": []
    },
    {
      "cell_type": "markdown",
      "metadata": {
        "id": "sustainable-underwear"
      },
      "source": [
        "* Select the count of movies with Top rating from the entire ratings table"
      ],
      "id": "sustainable-underwear"
    },
    {
      "cell_type": "code",
      "metadata": {
        "id": "better-heath"
      },
      "source": [
        "# YOUR CODE HERE"
      ],
      "id": "better-heath",
      "execution_count": null,
      "outputs": []
    },
    {
      "cell_type": "markdown",
      "metadata": {
        "id": "alleged-notebook"
      },
      "source": [
        "* Select the count of movies, ONLY in Comedy genre from the entire movies table"
      ],
      "id": "alleged-notebook"
    },
    {
      "cell_type": "code",
      "metadata": {
        "id": "enabling-display"
      },
      "source": [
        "# YOUR CODE HERE"
      ],
      "id": "enabling-display",
      "execution_count": null,
      "outputs": []
    },
    {
      "cell_type": "markdown",
      "metadata": {
        "id": "afraid-france"
      },
      "source": [
        "### Visualizing the Data (2 points)\n",
        "\n",
        "Retrieve the data using CQL queries and visualize using matplotlib"
      ],
      "id": "afraid-france"
    },
    {
      "cell_type": "markdown",
      "metadata": {
        "id": "damaged-laugh"
      },
      "source": [
        "* Visualize the frequencies of movie genres from the entire data"
      ],
      "id": "damaged-laugh"
    },
    {
      "cell_type": "code",
      "metadata": {
        "id": "acquired-solid"
      },
      "source": [
        "# YOUR CODE HERE"
      ],
      "id": "acquired-solid",
      "execution_count": null,
      "outputs": []
    },
    {
      "cell_type": "markdown",
      "metadata": {
        "id": "instant-immigration"
      },
      "source": [
        "* Visualize the bar plot showing no.of movies released in a particular year"
      ],
      "id": "instant-immigration"
    },
    {
      "cell_type": "code",
      "metadata": {
        "id": "theoretical-carol"
      },
      "source": [
        "# YOUR CODE HERE"
      ],
      "id": "theoretical-carol",
      "execution_count": null,
      "outputs": []
    },
    {
      "cell_type": "markdown",
      "metadata": {
        "id": "pediatric-clothing"
      },
      "source": [
        "* Depict the plot of Age groups ratio who are active in watching movies"
      ],
      "id": "pediatric-clothing"
    },
    {
      "cell_type": "code",
      "metadata": {
        "id": "desirable-selection"
      },
      "source": [
        "# YOUR CODE HERE"
      ],
      "id": "desirable-selection",
      "execution_count": null,
      "outputs": []
    },
    {
      "cell_type": "markdown",
      "metadata": {
        "id": "extensive-billy"
      },
      "source": [
        "### Analyzing the Data (2 points)\n",
        "\n",
        "Analyzing the correlation between the movies records, implement a function to recommend movies based on search term"
      ],
      "id": "extensive-billy"
    },
    {
      "cell_type": "markdown",
      "metadata": {
        "id": "southeast-buffalo"
      },
      "source": [
        "* Retrieve all the data from ratings table"
      ],
      "id": "southeast-buffalo"
    },
    {
      "cell_type": "code",
      "metadata": {
        "id": "related-google"
      },
      "source": [
        "# YOUR CODE HERE"
      ],
      "id": "related-google",
      "execution_count": null,
      "outputs": []
    },
    {
      "cell_type": "markdown",
      "metadata": {
        "id": "continent-travel"
      },
      "source": [
        "* Create a movie matrix by applying pivot table with the above retrieved ratings data\n",
        "\n",
        "* use `pd.pivot_table` with index = `userid`, columns = `movieid` and Values = `rating`\n",
        "\n",
        " **Hint:** create a dataframe with above retrieved ratings data to apply pivot table"
      ],
      "id": "continent-travel"
    },
    {
      "cell_type": "code",
      "metadata": {
        "id": "prospective-polls"
      },
      "source": [
        "# YOUR CODE HERE"
      ],
      "id": "prospective-polls",
      "execution_count": null,
      "outputs": []
    },
    {
      "cell_type": "markdown",
      "metadata": {
        "id": "surgical-level"
      },
      "source": [
        "* Define a function named `recommend_movies()` which will take a movieid as argument and return the top 5 similar movieid's\n",
        "\n",
        "    * Considering the argument (movieid) as search item collect the particular row data\n",
        "    \n",
        "    * Using movie matrix calculate correlation between movie search Item data and all the remaining data\n",
        "    \n",
        "        * Hint: [corr_with()](https://pandas.pydata.org/docs/reference/api/pandas.DataFrame.corrwith.html)\n",
        "        \n",
        "    * Sort the result by ascending order and return the top 5 items"
      ],
      "id": "surgical-level"
    },
    {
      "cell_type": "code",
      "metadata": {
        "id": "excellent-perth"
      },
      "source": [
        "def recommend_movie(movieId):\n",
        "    # YOUR CODE HERE"
      ],
      "id": "excellent-perth",
      "execution_count": null,
      "outputs": []
    },
    {
      "cell_type": "markdown",
      "metadata": {
        "id": "afraid-ivory"
      },
      "source": [
        "* write a query to get MovieId of a Title (your choice) and the result MovieId as a search item by calling the above defined function"
      ],
      "id": "afraid-ivory"
    },
    {
      "cell_type": "code",
      "metadata": {
        "id": "damaged-starter"
      },
      "source": [
        "# YOUR CODE HERE"
      ],
      "id": "damaged-starter",
      "execution_count": null,
      "outputs": []
    },
    {
      "cell_type": "markdown",
      "metadata": {
        "id": "altered-testimony"
      },
      "source": [
        "* Now taking the resulf of top 5 items (MovieId's) write a query to retrieve the Movie title from movies table"
      ],
      "id": "altered-testimony"
    },
    {
      "cell_type": "code",
      "metadata": {
        "id": "knowing-keyboard"
      },
      "source": [
        "# YOUR CODE HERE"
      ],
      "id": "knowing-keyboard",
      "execution_count": null,
      "outputs": []
    }
  ]
}
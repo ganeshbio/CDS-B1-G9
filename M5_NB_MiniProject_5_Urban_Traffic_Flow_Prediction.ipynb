{
  "nbformat": 4,
  "nbformat_minor": 0,
  "metadata": {
    "colab": {
      "name": "M5_NB_MiniProject_5_Urban_Traffic_Flow_Prediction.ipynb",
      "provenance": [],
      "collapsed_sections": [],
      "include_colab_link": true
    },
    "kernelspec": {
      "name": "python3",
      "display_name": "Python 3"
    },
    "language_info": {
      "name": "python"
    },
    "accelerator": "GPU"
  },
  "cells": [
    {
      "cell_type": "markdown",
      "metadata": {
        "id": "view-in-github",
        "colab_type": "text"
      },
      "source": [
        "<a href=\"https://colab.research.google.com/github/ganeshbio/CDS-B1-G9/blob/main/M5_NB_MiniProject_5_Urban_Traffic_Flow_Prediction.ipynb\" target=\"_parent\"><img src=\"https://colab.research.google.com/assets/colab-badge.svg\" alt=\"Open In Colab\"/></a>"
      ]
    },
    {
      "cell_type": "markdown",
      "metadata": {
        "id": "WFBl3DsqB3AE"
      },
      "source": [
        "# Advanced Certification Program in Computational Data Science\n",
        "\n",
        "##  A program by IISc and TalentSprint\n",
        "\n",
        "### Mini Project Notebook: Urban Traffic Flow Prediction using Graph Convolution Network - LSTM"
      ]
    },
    {
      "cell_type": "markdown",
      "metadata": {
        "id": "maritime-miami"
      },
      "source": [
        "## Learning Objectives"
      ]
    },
    {
      "cell_type": "markdown",
      "metadata": {
        "id": "95F1ym6qB8VU"
      },
      "source": [
        "At the end of the experiment, you will be able to :\n",
        "\n",
        "* forecast traffic flow using Graph Convolutional Network and LSTM\n",
        "* understand the graph structured data and implement the forecasting model"
      ]
    },
    {
      "cell_type": "markdown",
      "metadata": {
        "id": "P8aczZmzvXTc"
      },
      "source": [
        "## Information"
      ]
    },
    {
      "cell_type": "markdown",
      "metadata": {
        "id": "zwfmBbofp1O-"
      },
      "source": [
        "Accurate and real-time traffic forecasting plays an important role in the Intelligent Traffic System and is important for \n",
        "\n",
        "- urban traffic planning, \n",
        "- traffic management, and \n",
        "- traffic control. \n",
        "\n",
        "Traffic forecasting is a challenging issue because of the constraints of the urban road network topological structure and the law of dynamic change with time (spatial dependence and temporal dependence). To capture the spatial and temporal dependence simultaneously, a neural network-based traffic forecasting method called the temporal graph convolutional network (T-GCN) model is very useful. It is a combination of the graph convolutional network (GCN) and gated recurrent unit (GRU). \n",
        "\n",
        "- Specifically, the GCN is used to learn complex topological structures to capture spatial dependence and the gated recurrent unit is used to learn dynamic changes of traffic data to capture temporal dependence. Then, the T-GCN model is employed to traffic forecasting based on the urban road network. T-GCN model can obtain the spatio-temporal correlation from traffic data and the predictions outperform state-of-art baselines on real-world traffic datasets.\n",
        "\n",
        "Reference: https://arxiv.org/abs/1811.05320"
      ]
    },
    {
      "cell_type": "markdown",
      "metadata": {
        "id": "kgx1PkHfCDyJ"
      },
      "source": [
        "## Dataset\n",
        "\n"
      ]
    },
    {
      "cell_type": "markdown",
      "metadata": {
        "id": "DP5retSQ-gJe"
      },
      "source": [
        "Urban Traffic Prediction from Spatio-Temporal Data Using Deep Meta Learning.\n",
        "\n",
        "This traffic dataset contains traffic information collected from loop detectors in the highway of Los Angeles County (Jagadish et al., 2014). This dataset contains traffic speeds from Mar-1 to Mar-7, 2012 of 207 sensors, recorded every 5 minutes.  There are 2016 observations (timesteps) of speed records over 207 sensors. Speeds are recorded every 5 minutes. This means that, for a single hour, you will have 12 observations. Similarly, a single day will contain 288 (12x24) observations. Overall, the data consists of speeds recorded every 5 minutes over 207 for 7 days (12X24X7).\n",
        "\n",
        "Data Source:\n",
        "https://github.com/lehaifeng/T-GCN/tree/master/data"
      ]
    },
    {
      "cell_type": "markdown",
      "metadata": {
        "id": "ih-oasWmdZul"
      },
      "source": [
        "## Problem Statement"
      ]
    },
    {
      "cell_type": "markdown",
      "metadata": {
        "id": "VGCdlQfY8jlN"
      },
      "source": [
        "#### Forecasting urban traffic flow using spatio-temporal data with combined Graph Convolution + LSTM model"
      ]
    },
    {
      "cell_type": "markdown",
      "metadata": {
        "id": "operating-latter"
      },
      "source": [
        "## Grading = 10 Points"
      ]
    },
    {
      "cell_type": "code",
      "metadata": {
        "id": "JVCoY4Jjf0xK",
        "cellView": "form"
      },
      "source": [
        "#@title Download dataset\n",
        "!wget -qq https://raw.githubusercontent.com/lehaifeng/T-GCN/master/data/los_adj.csv\n",
        "!wget -qq https://raw.githubusercontent.com/lehaifeng/T-GCN/master/data/los_speed.csv"
      ],
      "execution_count": null,
      "outputs": []
    },
    {
      "cell_type": "markdown",
      "metadata": {
        "id": "abstract-stocks"
      },
      "source": [
        "### Import required packages"
      ]
    },
    {
      "cell_type": "code",
      "metadata": {
        "id": "g8FER60G83X_"
      },
      "source": [
        "!pip -qq install stellargraph"
      ],
      "execution_count": null,
      "outputs": []
    },
    {
      "cell_type": "code",
      "metadata": {
        "id": "xM7iURQG8lYI"
      },
      "source": [
        "import os\n",
        "import sys\n",
        "import numpy as np\n",
        "import pandas as pd\n",
        "import matplotlib.pyplot as plt\n",
        "import tensorflow as tf\n",
        "from tensorflow import keras\n",
        "from tensorflow.keras import Sequential, Model\n",
        "from tensorflow.keras.layers import LSTM, Dense, Dropout, Input, RepeatVector, TimeDistributed\n",
        "import stellargraph as sg\n",
        "from stellargraph.layer import GCN\n",
        "import networkx as nx"
      ],
      "execution_count": null,
      "outputs": []
    },
    {
      "cell_type": "markdown",
      "metadata": {
        "id": "VavwcIp7oV_W"
      },
      "source": [
        "### Data loading and preparation ( 2 points)"
      ]
    },
    {
      "cell_type": "code",
      "metadata": {
        "id": "JJH3nTz5gKVk"
      },
      "source": [
        "adj_path = \"/content/los_adj.csv\"\n",
        "speed_data_path= \"/content/los_speed.csv\""
      ],
      "execution_count": null,
      "outputs": []
    },
    {
      "cell_type": "code",
      "metadata": {
        "id": "KhojlVuvN7CI"
      },
      "source": [
        "# YOUR CODE HERE"
      ],
      "execution_count": null,
      "outputs": []
    },
    {
      "cell_type": "markdown",
      "metadata": {
        "id": "O-FKMF5o1q4S"
      },
      "source": [
        "#### Plotting the time series of 10 sensors data"
      ]
    },
    {
      "cell_type": "code",
      "metadata": {
        "id": "plcr6i8n1Acz"
      },
      "source": [
        "# YOUR CODE HERE"
      ],
      "execution_count": null,
      "outputs": []
    },
    {
      "cell_type": "markdown",
      "metadata": {
        "id": "_cKKceXFDZ5b"
      },
      "source": [
        "#### Create and draw the graph of adjacency of matrix\n",
        "\n",
        "Hint: [link](https://towardsdatascience.com/graph-coloring-with-networkx-88c45f09b8f4)"
      ]
    },
    {
      "cell_type": "code",
      "metadata": {
        "id": "o7-Yolm7BMB7"
      },
      "source": [
        "# YOUR CODE HERE"
      ],
      "execution_count": null,
      "outputs": []
    },
    {
      "cell_type": "markdown",
      "metadata": {
        "id": "po7JgKeZobCd"
      },
      "source": [
        "#### Preprocessing and train test split"
      ]
    },
    {
      "cell_type": "code",
      "metadata": {
        "id": "IezodGpF-oKp"
      },
      "source": [
        "# YOUR CODE HERE"
      ],
      "execution_count": null,
      "outputs": []
    },
    {
      "cell_type": "markdown",
      "metadata": {
        "id": "mqJqtvoGThWR"
      },
      "source": [
        "#### Prepare Time series data\n",
        "\n",
        "\n",
        "Aim is to use 50 minutes of historical speed observations to predict the speed in future (1 hour ahead)\n",
        "\n",
        "* Choose windows of 10 historical observations i.e. 5 * 10 = 50 minutes (`seq_len`) for each segment as the input and use it to predict the speed after 5 * 12 = 60 minutes (target) using the sliding window approach. \n",
        "\n",
        "**Note:**\n",
        "The below parameters\n",
        "-  `seq_len` is the size of the past window of information.\n",
        "- `pre_len` is future prediction ( 1 hour in future = 12 * 5 minutes)\n",
        "\n"
      ]
    },
    {
      "cell_type": "markdown",
      "metadata": {
        "id": "q8fXzUTXeZxg"
      },
      "source": [
        "Steps:\n",
        "\n",
        "* Prepare the data to be fed into an LSTM. The LSTM model learns a function that maps a **sequence of past observations as input to an output observation**, so the sequence of observations must be transformed into multiple examples from which the LSTM can learn.\n",
        "\n",
        "* Choose to use 50 minutes of historical speed observations to predict the speed in future (eg. 1 hour ahead). First reshape the timeseries data into windows of 10 historical observations for each segment as the input and the speed 60 minutes later as the prediction label. This can be performed using a sliding window approach:\n",
        "\n",
        "    - Starting from the beginning of the timeseries, we take the first 10 speed records as the 10 input features and the speed 12 timesteps head (60 minutes) as the speed we want to predict.\n",
        "\n",
        "    - Shift the timeseries by one timestep and take the 10 observations from the current point as the input features and the speed one hour ahead as the output to predict.\n",
        "\n",
        "    - Keep shifting by 1 timestep and picking the 10 timestep window from the current time as input feature and the speed one hour ahead of the 10th timestep as the output to predict, for the entire data.\n",
        "\n",
        "  *Note: The above steps are done for each sensor.*\n",
        "\n",
        "Define a function below to return the above transformed timeseries data for the model to train on. The parameter seq_len is the size of the past window of information. The pre_len is how far in the future does the model need to learn to predict.\n",
        "\n",
        "Each **training observation** is 10 historical speeds **(seq_len).**\n",
        "\n",
        "Each **training prediction** is the speed 60 minutes later **(pre_len).**"
      ]
    },
    {
      "cell_type": "code",
      "metadata": {
        "id": "-IZJ2Ivl-0DZ"
      },
      "source": [
        "seq_len = 10\n",
        "pre_len = 12\n",
        "# YOUR CODE HERE"
      ],
      "execution_count": null,
      "outputs": []
    },
    {
      "cell_type": "markdown",
      "metadata": {
        "id": "OK6eeqi1VMPJ"
      },
      "source": [
        "### Build and Train the LSTM model and plot the loss results (3 points)"
      ]
    },
    {
      "cell_type": "code",
      "metadata": {
        "id": "cZ2ud77OSh1G"
      },
      "source": [
        "# YOUR CODE HERE"
      ],
      "execution_count": null,
      "outputs": []
    },
    {
      "cell_type": "code",
      "metadata": {
        "id": "TyAlQBa-TWPO"
      },
      "source": [
        "# YOUR CODE HERE to plot the loss"
      ],
      "execution_count": null,
      "outputs": []
    },
    {
      "cell_type": "markdown",
      "metadata": {
        "id": "CIrL2m4R--w1"
      },
      "source": [
        "### StellarGraph Graph Convolution and LSTM model ( 3 points)\n",
        "\n",
        "In order to use the model, we need:\n",
        "\n",
        "* An **N by N** adjacency matrix, which describes the distance relationship between the N sensors,\n",
        "\n",
        "* An **N by T** feature matrix, which describes the ($f_1, .., f_T$) speed records over T timesteps for the N sensors.\n",
        "\n",
        "Arguments of GCN_LSTM:\n",
        "  - seq_len: No. of LSTM cells\n",
        "\n",
        "  - adj: unweighted/weighted adjacency matrix\n",
        "\n",
        "  - gc_layer_sizes (list of int): Output sizes of Graph Convolution  layers in the stack.\n",
        "\n",
        "  - lstm_layer_sizes (list of int): Output sizes of LSTM layers in the stack.\n",
        "\n",
        "  - gc_activations (list of str or func): Activations applied to each layer's output.\n",
        "\n",
        "  - lstm_activations (list of str or func): Activations applied to each layer's output; defaults to ``['tanh', ..., 'tanh']``."
      ]
    },
    {
      "cell_type": "code",
      "metadata": {
        "id": "m28PLceIWQ0y"
      },
      "source": [
        "from stellargraph.layer import GCN_LSTM\n",
        "GCN_LSTM?"
      ],
      "execution_count": null,
      "outputs": []
    },
    {
      "cell_type": "code",
      "metadata": {
        "id": "m8owfap2IFzb"
      },
      "source": [
        "# Implement GCN-LSTM\n",
        "# YOUR CODE HERE"
      ],
      "execution_count": null,
      "outputs": []
    },
    {
      "cell_type": "markdown",
      "metadata": {
        "id": "wWZdCIJrH-DT"
      },
      "source": [
        "#### Rescale values\n",
        "Rescale the predicted values to the original value range of the timeseries."
      ]
    },
    {
      "cell_type": "code",
      "metadata": {
        "id": "EHNkCRn8H8bl"
      },
      "source": [
        "# YOUR CODE HERE"
      ],
      "execution_count": null,
      "outputs": []
    },
    {
      "cell_type": "markdown",
      "metadata": {
        "id": "cNBf9tqwLPrf"
      },
      "source": [
        "### Plot the predictions and Loss of each sensor ( 2 points)\n",
        "\n",
        "* Select any one sensor's prediction and plot the graph."
      ]
    },
    {
      "cell_type": "code",
      "metadata": {
        "id": "X-AO8oFWHXAB"
      },
      "source": [
        "# YOUR CODE HERE"
      ],
      "execution_count": null,
      "outputs": []
    },
    {
      "cell_type": "markdown",
      "metadata": {
        "id": "LzZJ6aiA2ggy"
      },
      "source": [
        "#### Plot error (MAE and MSE) for all the sensors"
      ]
    },
    {
      "cell_type": "code",
      "metadata": {
        "id": "plGXq3qhHw8k"
      },
      "source": [
        "# YOUR CODE HERE"
      ],
      "execution_count": null,
      "outputs": []
    },
    {
      "cell_type": "markdown",
      "metadata": {
        "id": "dQcnE2K1l839"
      },
      "source": [
        "#### Report Analysis\n",
        "\n",
        "  * Discuss: Why is this called a spatio-temporal problem?\n",
        "\n",
        "  * Discuss: In what way is GCN-LSTM more useful for the traffic prediction task than LSTM?"
      ]
    }
  ]
}
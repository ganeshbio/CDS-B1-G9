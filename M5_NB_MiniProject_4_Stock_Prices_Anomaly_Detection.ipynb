{
  "nbformat": 4,
  "nbformat_minor": 0,
  "metadata": {
    "colab": {
      "name": "M5_NB_MiniProject_4_Stock_Prices_Anomaly_Detection.ipynb",
      "provenance": [],
      "collapsed_sections": [],
      "include_colab_link": true
    },
    "kernelspec": {
      "display_name": "Python 3",
      "language": "python",
      "name": "python3"
    },
    "language_info": {
      "codemirror_mode": {
        "name": "ipython",
        "version": 3
      },
      "file_extension": ".py",
      "mimetype": "text/x-python",
      "name": "python",
      "nbconvert_exporter": "python",
      "pygments_lexer": "ipython3",
      "version": "3.6.9"
    }
  },
  "cells": [
    {
      "cell_type": "markdown",
      "metadata": {
        "id": "view-in-github",
        "colab_type": "text"
      },
      "source": [
        "<a href=\"https://colab.research.google.com/github/ganeshbio/CDS-B1-G9/blob/main/M5_NB_MiniProject_4_Stock_Prices_Anomaly_Detection.ipynb\" target=\"_parent\"><img src=\"https://colab.research.google.com/assets/colab-badge.svg\" alt=\"Open In Colab\"/></a>"
      ]
    },
    {
      "cell_type": "markdown",
      "metadata": {
        "id": "WFBl3DsqB3AE"
      },
      "source": [
        "# Advanced Certification Program in Computational Data Science\n",
        "\n",
        "##  A program by IISc and TalentSprint\n",
        "\n",
        "### Mini Project Notebook: Stock Prices Anomaly Detection"
      ]
    },
    {
      "cell_type": "markdown",
      "metadata": {
        "id": "maritime-miami"
      },
      "source": [
        "## Learning Objectives"
      ]
    },
    {
      "cell_type": "markdown",
      "metadata": {
        "id": "95F1ym6qB8VU"
      },
      "source": [
        "At the end of the experiment, you will be able to :\n",
        "\n",
        "* apply PCA based analysis on various stocks data\n",
        "* analyze and create time series data\n",
        "* implement LSTM auto-encoders\n",
        "* detect the anomalies based on the loss\n"
      ]
    },
    {
      "cell_type": "markdown",
      "metadata": {
        "id": "P8aczZmzvXTc"
      },
      "source": [
        "## Information"
      ]
    },
    {
      "cell_type": "markdown",
      "metadata": {
        "id": "7N04YT8wkBV8"
      },
      "source": [
        "Autoencoder Neural Networks try to learn data representation of its input. Usually, we want to learn an efficient encoding that uses fewer parameters/memory. The encoding should allow for output similar to the original input. In a sense, we’re forcing the model to learn the most important features of the data using as few parameters as possible.\n",
        "\n",
        "LSTM autoencoder is an encoder that makes use of LSTM encoder-decoder architecture to compress data using an encoder and decode it to retain original structure using a decoder."
      ]
    },
    {
      "cell_type": "markdown",
      "metadata": {
        "id": "1A3CeBTlkclZ"
      },
      "source": [
        "**Anomaly Detection**\n",
        "\n",
        "Anomaly detection refers to the task of finding/identifying rare events/data points. Some applications include - bank fraud detection, tumor detection in medical imaging, and errors in written text.\n",
        "\n",
        "A lot of supervised and unsupervised approaches for anomaly detection have been proposed. Some of the approaches include - One-class SVMs, Bayesian Networks, Cluster analysis, and Neural Networks.\n",
        "\n",
        "We will use an LSTM Autoencoder Neural Network to detect/predict anomalies (sudden price changes) in the S&P 500 index."
      ]
    },
    {
      "cell_type": "markdown",
      "metadata": {
        "id": "kgx1PkHfCDyJ"
      },
      "source": [
        "## Dataset\n",
        "\n"
      ]
    },
    {
      "cell_type": "markdown",
      "metadata": {
        "id": "2JlX9ivNquus"
      },
      "source": [
        "This mini-project consists of two parts and two different stock price datasets:\n",
        "\n",
        "### PART A\n",
        "\n",
        "Using the **S&P 500 stock prices data of different companies**, we will perform a PCA based analysis. \n",
        "\n",
        "### PART B\n",
        "\n",
        "Using the **S&P 500 stock price index time series data**, we will perform anomaly detection in the stock prices across the years. The dataset chosen is is S&P500 Daily Index a .csv format with one column with a daily timestamp and the second column with the raw, un-adjusted closing prices for each day. This long term, granular time series dataset allows researchers to have a good sized publicly available financial dataset to explore time series trends or use as part of a quantitative finance project."
      ]
    },
    {
      "cell_type": "markdown",
      "metadata": {
        "id": "ih-oasWmdZul"
      },
      "source": [
        "## Problem Statement"
      ]
    },
    {
      "cell_type": "markdown",
      "metadata": {
        "id": "4HDD5ANilAFk"
      },
      "source": [
        "Detect the stock price anomalies by implementing an LSTM autoencoder"
      ]
    },
    {
      "cell_type": "markdown",
      "metadata": {
        "id": "operating-latter"
      },
      "source": [
        "## Grading = 10 Points"
      ]
    },
    {
      "cell_type": "code",
      "metadata": {
        "id": "82-MCqP0yFM2",
        "cellView": "form"
      },
      "source": [
        "#@title Download dataset\n",
        "!wget -qq https://cdn.iisc.talentsprint.com/CDS/MiniProjects/SPY.csv\n",
        "!wget -qq https://cdn.iisc.talentsprint.com/CDS/MiniProjects/prices.csv"
      ],
      "execution_count": 1,
      "outputs": []
    },
    {
      "cell_type": "markdown",
      "metadata": {
        "id": "abstract-stocks"
      },
      "source": [
        "### Import required packages"
      ]
    },
    {
      "cell_type": "code",
      "metadata": {
        "id": "HOD5BSv-zts3"
      },
      "source": [
        "import keras\n",
        "from keras.layers import Activation, Dense, Dropout, Flatten\n",
        "from keras.layers import LSTM, RepeatVector, TimeDistributed\n",
        "from keras.layers.normalization import BatchNormalization\n",
        "from sklearn.decomposition import PCA, IncrementalPCA, KernelPCA\n",
        "from keras.models import Sequential, Model\n",
        "import tensorflow as tf\n",
        "import os\n",
        "import numpy as np\n",
        "import pandas as pd\n",
        "import seaborn as sns\n",
        "import matplotlib.pyplot as plt"
      ],
      "execution_count": 67,
      "outputs": []
    },
    {
      "cell_type": "markdown",
      "metadata": {
        "id": "saS-392nl9p0"
      },
      "source": [
        "## PCA Analysis (PART-A)\n",
        "\n",
        "Principal Component Analysis (PCA) decomposes the data into many vectors called principal components. These summaries are linear combinations of the input features that try to explain as much variance in the data as possible. By convention, these principal components are ordered by the amount of variance they can explain, with the first principal component explaining most of the data.\n",
        "\n",
        "Perform PCA based analytics on the stock prices data from different companies.\n",
        "\n",
        "Hint: Refer to the article [here](https://towardsdatascience.com/stock-market-analytics-with-pca-d1c2318e3f0e)."
      ]
    },
    {
      "cell_type": "markdown",
      "metadata": {
        "id": "oAQhjOKMPXSO"
      },
      "source": [
        "\n",
        "### Load and pre-process the prices data"
      ]
    },
    {
      "cell_type": "code",
      "metadata": {
        "id": "Red8vqbEmjRk",
        "colab": {
          "base_uri": "https://localhost:8080/",
          "height": 253
        },
        "outputId": "50518a21-8648-421a-99d1-2227dc93e38d"
      },
      "source": [
        "\n",
        "prices_path = \"prices.csv\"\n",
        "sp_perform_path=\"SPY.csv\"\n",
        "# YOUR CODE HERE\n",
        "prices=pd.read_csv(prices_path)\n",
        "sp_perform=pd.read_csv(sp_perform_path)\n",
        "prices.head()"
      ],
      "execution_count": 98,
      "outputs": [
        {
          "output_type": "execute_result",
          "data": {
            "text/html": [
              "<div>\n",
              "<style scoped>\n",
              "    .dataframe tbody tr th:only-of-type {\n",
              "        vertical-align: middle;\n",
              "    }\n",
              "\n",
              "    .dataframe tbody tr th {\n",
              "        vertical-align: top;\n",
              "    }\n",
              "\n",
              "    .dataframe thead th {\n",
              "        text-align: right;\n",
              "    }\n",
              "</style>\n",
              "<table border=\"1\" class=\"dataframe\">\n",
              "  <thead>\n",
              "    <tr style=\"text-align: right;\">\n",
              "      <th></th>\n",
              "      <th>A</th>\n",
              "      <th>AAL</th>\n",
              "      <th>AAP</th>\n",
              "      <th>AAPL</th>\n",
              "      <th>ABBV</th>\n",
              "      <th>ABC</th>\n",
              "      <th>ABMD</th>\n",
              "      <th>ABT</th>\n",
              "      <th>ACN</th>\n",
              "      <th>ADBE</th>\n",
              "      <th>ADI</th>\n",
              "      <th>ADM</th>\n",
              "      <th>ADP</th>\n",
              "      <th>ADSK</th>\n",
              "      <th>AEE</th>\n",
              "      <th>AEP</th>\n",
              "      <th>AES</th>\n",
              "      <th>AFL</th>\n",
              "      <th>AIG</th>\n",
              "      <th>AIZ</th>\n",
              "      <th>AJG</th>\n",
              "      <th>AKAM</th>\n",
              "      <th>ALB</th>\n",
              "      <th>ALGN</th>\n",
              "      <th>ALK</th>\n",
              "      <th>ALL</th>\n",
              "      <th>ALLE</th>\n",
              "      <th>AMAT</th>\n",
              "      <th>AMCR</th>\n",
              "      <th>AMD</th>\n",
              "      <th>AME</th>\n",
              "      <th>AMGN</th>\n",
              "      <th>AMP</th>\n",
              "      <th>AMT</th>\n",
              "      <th>AMZN</th>\n",
              "      <th>ANET</th>\n",
              "      <th>ANSS</th>\n",
              "      <th>ANTM</th>\n",
              "      <th>AON</th>\n",
              "      <th>AOS</th>\n",
              "      <th>...</th>\n",
              "      <th>V</th>\n",
              "      <th>VFC</th>\n",
              "      <th>VIAC</th>\n",
              "      <th>VLO</th>\n",
              "      <th>VMC</th>\n",
              "      <th>VNO</th>\n",
              "      <th>VRSK</th>\n",
              "      <th>VRSN</th>\n",
              "      <th>VRTX</th>\n",
              "      <th>VTR</th>\n",
              "      <th>VTRS</th>\n",
              "      <th>VZ</th>\n",
              "      <th>WAB</th>\n",
              "      <th>WAT</th>\n",
              "      <th>WBA</th>\n",
              "      <th>WDC</th>\n",
              "      <th>WEC</th>\n",
              "      <th>WELL</th>\n",
              "      <th>WFC</th>\n",
              "      <th>WHR</th>\n",
              "      <th>WLTW</th>\n",
              "      <th>WM</th>\n",
              "      <th>WMB</th>\n",
              "      <th>WMT</th>\n",
              "      <th>WRB</th>\n",
              "      <th>WRK</th>\n",
              "      <th>WST</th>\n",
              "      <th>WU</th>\n",
              "      <th>WY</th>\n",
              "      <th>WYNN</th>\n",
              "      <th>XEL</th>\n",
              "      <th>XLNX</th>\n",
              "      <th>XOM</th>\n",
              "      <th>XRAY</th>\n",
              "      <th>XYL</th>\n",
              "      <th>YUM</th>\n",
              "      <th>ZBH</th>\n",
              "      <th>ZBRA</th>\n",
              "      <th>ZION</th>\n",
              "      <th>ZTS</th>\n",
              "    </tr>\n",
              "  </thead>\n",
              "  <tbody>\n",
              "    <tr>\n",
              "      <th>0</th>\n",
              "      <td>NaN</td>\n",
              "      <td>NaN</td>\n",
              "      <td>NaN</td>\n",
              "      <td>NaN</td>\n",
              "      <td>NaN</td>\n",
              "      <td>NaN</td>\n",
              "      <td>NaN</td>\n",
              "      <td>NaN</td>\n",
              "      <td>NaN</td>\n",
              "      <td>NaN</td>\n",
              "      <td>NaN</td>\n",
              "      <td>NaN</td>\n",
              "      <td>NaN</td>\n",
              "      <td>NaN</td>\n",
              "      <td>NaN</td>\n",
              "      <td>NaN</td>\n",
              "      <td>NaN</td>\n",
              "      <td>NaN</td>\n",
              "      <td>NaN</td>\n",
              "      <td>NaN</td>\n",
              "      <td>NaN</td>\n",
              "      <td>NaN</td>\n",
              "      <td>NaN</td>\n",
              "      <td>NaN</td>\n",
              "      <td>NaN</td>\n",
              "      <td>NaN</td>\n",
              "      <td>NaN</td>\n",
              "      <td>NaN</td>\n",
              "      <td>NaN</td>\n",
              "      <td>NaN</td>\n",
              "      <td>NaN</td>\n",
              "      <td>NaN</td>\n",
              "      <td>NaN</td>\n",
              "      <td>NaN</td>\n",
              "      <td>NaN</td>\n",
              "      <td>NaN</td>\n",
              "      <td>NaN</td>\n",
              "      <td>NaN</td>\n",
              "      <td>NaN</td>\n",
              "      <td>NaN</td>\n",
              "      <td>...</td>\n",
              "      <td>NaN</td>\n",
              "      <td>NaN</td>\n",
              "      <td>NaN</td>\n",
              "      <td>NaN</td>\n",
              "      <td>NaN</td>\n",
              "      <td>NaN</td>\n",
              "      <td>NaN</td>\n",
              "      <td>NaN</td>\n",
              "      <td>NaN</td>\n",
              "      <td>NaN</td>\n",
              "      <td>NaN</td>\n",
              "      <td>NaN</td>\n",
              "      <td>NaN</td>\n",
              "      <td>NaN</td>\n",
              "      <td>NaN</td>\n",
              "      <td>NaN</td>\n",
              "      <td>NaN</td>\n",
              "      <td>NaN</td>\n",
              "      <td>NaN</td>\n",
              "      <td>NaN</td>\n",
              "      <td>NaN</td>\n",
              "      <td>NaN</td>\n",
              "      <td>NaN</td>\n",
              "      <td>NaN</td>\n",
              "      <td>NaN</td>\n",
              "      <td>NaN</td>\n",
              "      <td>NaN</td>\n",
              "      <td>NaN</td>\n",
              "      <td>NaN</td>\n",
              "      <td>NaN</td>\n",
              "      <td>NaN</td>\n",
              "      <td>NaN</td>\n",
              "      <td>NaN</td>\n",
              "      <td>NaN</td>\n",
              "      <td>NaN</td>\n",
              "      <td>NaN</td>\n",
              "      <td>NaN</td>\n",
              "      <td>NaN</td>\n",
              "      <td>NaN</td>\n",
              "      <td>NaN</td>\n",
              "    </tr>\n",
              "    <tr>\n",
              "      <th>1</th>\n",
              "      <td>85.017082</td>\n",
              "      <td>28.982893</td>\n",
              "      <td>157.171890</td>\n",
              "      <td>74.207466</td>\n",
              "      <td>81.950539</td>\n",
              "      <td>82.938141</td>\n",
              "      <td>168.809998</td>\n",
              "      <td>84.622925</td>\n",
              "      <td>204.910950</td>\n",
              "      <td>334.429993</td>\n",
              "      <td>116.998917</td>\n",
              "      <td>44.048424</td>\n",
              "      <td>164.650070</td>\n",
              "      <td>187.830002</td>\n",
              "      <td>73.122215</td>\n",
              "      <td>88.918884</td>\n",
              "      <td>19.133558</td>\n",
              "      <td>51.241142</td>\n",
              "      <td>49.003220</td>\n",
              "      <td>128.423721</td>\n",
              "      <td>93.231590</td>\n",
              "      <td>87.639999</td>\n",
              "      <td>71.061058</td>\n",
              "      <td>283.679993</td>\n",
              "      <td>67.785583</td>\n",
              "      <td>108.968430</td>\n",
              "      <td>123.176743</td>\n",
              "      <td>61.148903</td>\n",
              "      <td>9.971735</td>\n",
              "      <td>49.099998</td>\n",
              "      <td>99.718460</td>\n",
              "      <td>230.298279</td>\n",
              "      <td>163.271606</td>\n",
              "      <td>222.032486</td>\n",
              "      <td>1898.010010</td>\n",
              "      <td>204.720001</td>\n",
              "      <td>259.589996</td>\n",
              "      <td>295.028076</td>\n",
              "      <td>205.982056</td>\n",
              "      <td>46.387165</td>\n",
              "      <td>...</td>\n",
              "      <td>189.381256</td>\n",
              "      <td>96.426582</td>\n",
              "      <td>40.090492</td>\n",
              "      <td>86.901367</td>\n",
              "      <td>140.557083</td>\n",
              "      <td>60.242638</td>\n",
              "      <td>149.663574</td>\n",
              "      <td>196.729996</td>\n",
              "      <td>219.449997</td>\n",
              "      <td>52.252220</td>\n",
              "      <td>20.504297</td>\n",
              "      <td>56.621544</td>\n",
              "      <td>80.132065</td>\n",
              "      <td>235.059998</td>\n",
              "      <td>55.568127</td>\n",
              "      <td>64.771545</td>\n",
              "      <td>86.955795</td>\n",
              "      <td>75.164200</td>\n",
              "      <td>51.397491</td>\n",
              "      <td>141.787598</td>\n",
              "      <td>200.223602</td>\n",
              "      <td>111.092049</td>\n",
              "      <td>20.954809</td>\n",
              "      <td>116.044952</td>\n",
              "      <td>67.740730</td>\n",
              "      <td>41.771225</td>\n",
              "      <td>151.029617</td>\n",
              "      <td>24.689568</td>\n",
              "      <td>28.591002</td>\n",
              "      <td>142.405029</td>\n",
              "      <td>59.934875</td>\n",
              "      <td>100.115349</td>\n",
              "      <td>63.633118</td>\n",
              "      <td>56.203197</td>\n",
              "      <td>78.396255</td>\n",
              "      <td>99.349007</td>\n",
              "      <td>147.579269</td>\n",
              "      <td>259.140015</td>\n",
              "      <td>49.903751</td>\n",
              "      <td>132.803421</td>\n",
              "    </tr>\n",
              "    <tr>\n",
              "      <th>2</th>\n",
              "      <td>83.652077</td>\n",
              "      <td>27.548195</td>\n",
              "      <td>157.181747</td>\n",
              "      <td>73.486023</td>\n",
              "      <td>81.172668</td>\n",
              "      <td>81.895088</td>\n",
              "      <td>166.820007</td>\n",
              "      <td>83.591301</td>\n",
              "      <td>204.569687</td>\n",
              "      <td>331.809998</td>\n",
              "      <td>114.939316</td>\n",
              "      <td>43.962448</td>\n",
              "      <td>164.302048</td>\n",
              "      <td>184.949997</td>\n",
              "      <td>73.151054</td>\n",
              "      <td>88.823746</td>\n",
              "      <td>18.913849</td>\n",
              "      <td>50.885765</td>\n",
              "      <td>48.624527</td>\n",
              "      <td>129.034988</td>\n",
              "      <td>93.036346</td>\n",
              "      <td>87.239998</td>\n",
              "      <td>70.043243</td>\n",
              "      <td>280.440002</td>\n",
              "      <td>66.542633</td>\n",
              "      <td>108.978081</td>\n",
              "      <td>121.654099</td>\n",
              "      <td>60.175625</td>\n",
              "      <td>9.840403</td>\n",
              "      <td>48.599998</td>\n",
              "      <td>99.856964</td>\n",
              "      <td>228.734818</td>\n",
              "      <td>161.235901</td>\n",
              "      <td>222.139359</td>\n",
              "      <td>1874.969971</td>\n",
              "      <td>200.850006</td>\n",
              "      <td>256.970001</td>\n",
              "      <td>291.115570</td>\n",
              "      <td>205.173096</td>\n",
              "      <td>45.979324</td>\n",
              "      <td>...</td>\n",
              "      <td>187.875092</td>\n",
              "      <td>95.820480</td>\n",
              "      <td>39.480896</td>\n",
              "      <td>83.603630</td>\n",
              "      <td>139.946487</td>\n",
              "      <td>60.711697</td>\n",
              "      <td>151.119431</td>\n",
              "      <td>200.880005</td>\n",
              "      <td>217.979996</td>\n",
              "      <td>52.882324</td>\n",
              "      <td>20.057474</td>\n",
              "      <td>56.018700</td>\n",
              "      <td>79.518326</td>\n",
              "      <td>231.009995</td>\n",
              "      <td>55.568127</td>\n",
              "      <td>63.774597</td>\n",
              "      <td>87.502457</td>\n",
              "      <td>76.486641</td>\n",
              "      <td>51.081936</td>\n",
              "      <td>139.371140</td>\n",
              "      <td>200.272614</td>\n",
              "      <td>112.171654</td>\n",
              "      <td>21.044018</td>\n",
              "      <td>115.020508</td>\n",
              "      <td>67.829132</td>\n",
              "      <td>41.030972</td>\n",
              "      <td>151.427734</td>\n",
              "      <td>24.604725</td>\n",
              "      <td>28.639641</td>\n",
              "      <td>140.292755</td>\n",
              "      <td>60.223114</td>\n",
              "      <td>97.810677</td>\n",
              "      <td>63.121540</td>\n",
              "      <td>55.581242</td>\n",
              "      <td>78.857689</td>\n",
              "      <td>99.037834</td>\n",
              "      <td>147.193512</td>\n",
              "      <td>256.049988</td>\n",
              "      <td>49.199547</td>\n",
              "      <td>132.823227</td>\n",
              "    </tr>\n",
              "    <tr>\n",
              "      <th>3</th>\n",
              "      <td>83.899353</td>\n",
              "      <td>27.219410</td>\n",
              "      <td>154.598541</td>\n",
              "      <td>74.071579</td>\n",
              "      <td>81.813271</td>\n",
              "      <td>83.094116</td>\n",
              "      <td>179.039993</td>\n",
              "      <td>84.029251</td>\n",
              "      <td>203.233841</td>\n",
              "      <td>333.709991</td>\n",
              "      <td>113.588921</td>\n",
              "      <td>43.618546</td>\n",
              "      <td>164.524399</td>\n",
              "      <td>187.119995</td>\n",
              "      <td>73.218369</td>\n",
              "      <td>89.118690</td>\n",
              "      <td>19.133558</td>\n",
              "      <td>50.741692</td>\n",
              "      <td>48.662395</td>\n",
              "      <td>129.151443</td>\n",
              "      <td>93.465851</td>\n",
              "      <td>87.550003</td>\n",
              "      <td>69.964951</td>\n",
              "      <td>285.880005</td>\n",
              "      <td>66.224434</td>\n",
              "      <td>109.296829</td>\n",
              "      <td>121.428162</td>\n",
              "      <td>58.877934</td>\n",
              "      <td>9.774739</td>\n",
              "      <td>48.389999</td>\n",
              "      <td>99.965782</td>\n",
              "      <td>230.490112</td>\n",
              "      <td>161.766525</td>\n",
              "      <td>222.081070</td>\n",
              "      <td>1902.880005</td>\n",
              "      <td>202.860001</td>\n",
              "      <td>254.589996</td>\n",
              "      <td>294.616272</td>\n",
              "      <td>205.765030</td>\n",
              "      <td>46.270645</td>\n",
              "      <td>...</td>\n",
              "      <td>187.468826</td>\n",
              "      <td>95.445290</td>\n",
              "      <td>40.061920</td>\n",
              "      <td>83.612755</td>\n",
              "      <td>139.700287</td>\n",
              "      <td>61.502666</td>\n",
              "      <td>151.466049</td>\n",
              "      <td>202.740005</td>\n",
              "      <td>224.029999</td>\n",
              "      <td>53.429035</td>\n",
              "      <td>20.722746</td>\n",
              "      <td>55.898129</td>\n",
              "      <td>79.191666</td>\n",
              "      <td>228.880005</td>\n",
              "      <td>56.047810</td>\n",
              "      <td>62.550629</td>\n",
              "      <td>87.569580</td>\n",
              "      <td>77.649673</td>\n",
              "      <td>50.775940</td>\n",
              "      <td>140.679672</td>\n",
              "      <td>200.517624</td>\n",
              "      <td>112.755219</td>\n",
              "      <td>21.320560</td>\n",
              "      <td>114.786362</td>\n",
              "      <td>67.730896</td>\n",
              "      <td>40.406082</td>\n",
              "      <td>151.507355</td>\n",
              "      <td>24.369047</td>\n",
              "      <td>28.581272</td>\n",
              "      <td>140.015091</td>\n",
              "      <td>60.136642</td>\n",
              "      <td>95.771927</td>\n",
              "      <td>63.606186</td>\n",
              "      <td>55.887280</td>\n",
              "      <td>78.347168</td>\n",
              "      <td>98.979500</td>\n",
              "      <td>146.342834</td>\n",
              "      <td>258.010010</td>\n",
              "      <td>48.600010</td>\n",
              "      <td>131.803482</td>\n",
              "    </tr>\n",
              "    <tr>\n",
              "      <th>4</th>\n",
              "      <td>84.156532</td>\n",
              "      <td>27.119778</td>\n",
              "      <td>152.764648</td>\n",
              "      <td>73.723213</td>\n",
              "      <td>81.346550</td>\n",
              "      <td>82.499466</td>\n",
              "      <td>180.350006</td>\n",
              "      <td>83.562103</td>\n",
              "      <td>198.846008</td>\n",
              "      <td>333.390015</td>\n",
              "      <td>116.173134</td>\n",
              "      <td>43.093136</td>\n",
              "      <td>162.532974</td>\n",
              "      <td>187.500000</td>\n",
              "      <td>73.487579</td>\n",
              "      <td>89.137718</td>\n",
              "      <td>19.200424</td>\n",
              "      <td>50.261456</td>\n",
              "      <td>48.387844</td>\n",
              "      <td>128.278198</td>\n",
              "      <td>92.460426</td>\n",
              "      <td>90.199997</td>\n",
              "      <td>70.884911</td>\n",
              "      <td>283.059998</td>\n",
              "      <td>65.806808</td>\n",
              "      <td>108.359932</td>\n",
              "      <td>119.974274</td>\n",
              "      <td>60.578697</td>\n",
              "      <td>9.690312</td>\n",
              "      <td>48.250000</td>\n",
              "      <td>100.539551</td>\n",
              "      <td>228.322357</td>\n",
              "      <td>159.817673</td>\n",
              "      <td>217.348892</td>\n",
              "      <td>1906.859985</td>\n",
              "      <td>204.850006</td>\n",
              "      <td>256.670013</td>\n",
              "      <td>293.723907</td>\n",
              "      <td>204.018814</td>\n",
              "      <td>45.959904</td>\n",
              "      <td>...</td>\n",
              "      <td>186.973373</td>\n",
              "      <td>94.973892</td>\n",
              "      <td>40.128597</td>\n",
              "      <td>84.708961</td>\n",
              "      <td>138.124527</td>\n",
              "      <td>60.757683</td>\n",
              "      <td>152.733719</td>\n",
              "      <td>203.210007</td>\n",
              "      <td>223.789993</td>\n",
              "      <td>52.984257</td>\n",
              "      <td>21.020628</td>\n",
              "      <td>55.276722</td>\n",
              "      <td>79.161980</td>\n",
              "      <td>231.979996</td>\n",
              "      <td>55.765640</td>\n",
              "      <td>66.785164</td>\n",
              "      <td>87.233925</td>\n",
              "      <td>77.143188</td>\n",
              "      <td>50.355194</td>\n",
              "      <td>140.727402</td>\n",
              "      <td>200.105988</td>\n",
              "      <td>112.833038</td>\n",
              "      <td>21.320560</td>\n",
              "      <td>113.722878</td>\n",
              "      <td>66.493172</td>\n",
              "      <td>39.954247</td>\n",
              "      <td>151.119171</td>\n",
              "      <td>24.482172</td>\n",
              "      <td>28.396437</td>\n",
              "      <td>140.679504</td>\n",
              "      <td>60.011738</td>\n",
              "      <td>97.958405</td>\n",
              "      <td>63.085632</td>\n",
              "      <td>56.183449</td>\n",
              "      <td>78.052628</td>\n",
              "      <td>99.154533</td>\n",
              "      <td>146.214264</td>\n",
              "      <td>256.470001</td>\n",
              "      <td>48.305000</td>\n",
              "      <td>132.248978</td>\n",
              "    </tr>\n",
              "  </tbody>\n",
              "</table>\n",
              "<p>5 rows × 503 columns</p>\n",
              "</div>"
            ],
            "text/plain": [
              "           A        AAL         AAP  ...        ZBRA       ZION         ZTS\n",
              "0        NaN        NaN         NaN  ...         NaN        NaN         NaN\n",
              "1  85.017082  28.982893  157.171890  ...  259.140015  49.903751  132.803421\n",
              "2  83.652077  27.548195  157.181747  ...  256.049988  49.199547  132.823227\n",
              "3  83.899353  27.219410  154.598541  ...  258.010010  48.600010  131.803482\n",
              "4  84.156532  27.119778  152.764648  ...  256.470001  48.305000  132.248978\n",
              "\n",
              "[5 rows x 503 columns]"
            ]
          },
          "metadata": {
            "tags": []
          },
          "execution_count": 98
        }
      ]
    },
    {
      "cell_type": "code",
      "metadata": {
        "colab": {
          "base_uri": "https://localhost:8080/"
        },
        "id": "OgQUw0Vm75hz",
        "outputId": "d4337878-9a9f-4b80-a0ad-2b06eb5fb983"
      },
      "source": [
        "print (prices.isna().sum(),\"\\n\\n\")\n",
        "prices.shape\n"
      ],
      "execution_count": 99,
      "outputs": [
        {
          "output_type": "stream",
          "text": [
            "A       1\n",
            "AAL     1\n",
            "AAP     1\n",
            "AAPL    1\n",
            "ABBV    1\n",
            "       ..\n",
            "YUM     1\n",
            "ZBH     1\n",
            "ZBRA    1\n",
            "ZION    1\n",
            "ZTS     1\n",
            "Length: 503, dtype: int64 \n",
            "\n",
            "\n"
          ],
          "name": "stdout"
        },
        {
          "output_type": "execute_result",
          "data": {
            "text/plain": [
              "(394, 503)"
            ]
          },
          "metadata": {
            "tags": []
          },
          "execution_count": 99
        }
      ]
    },
    {
      "cell_type": "code",
      "metadata": {
        "colab": {
          "base_uri": "https://localhost:8080/"
        },
        "id": "bljKxFIxGBuF",
        "outputId": "f4d23f86-bce8-44ed-8918-53a64cff396b"
      },
      "source": [
        "prices= prices.drop(labels=0, axis=0)\n",
        "prices.shape"
      ],
      "execution_count": 100,
      "outputs": [
        {
          "output_type": "execute_result",
          "data": {
            "text/plain": [
              "(393, 503)"
            ]
          },
          "metadata": {
            "tags": []
          },
          "execution_count": 100
        }
      ]
    },
    {
      "cell_type": "code",
      "metadata": {
        "colab": {
          "base_uri": "https://localhost:8080/"
        },
        "id": "tFOJCUAbDi80",
        "outputId": "179d94f9-a3ee-4812-8a69-8c26de2d2e79"
      },
      "source": [
        "null_columns=prices.columns[prices.isnull().any()]\n",
        "prices[null_columns].isnull().sum()\n"
      ],
      "execution_count": 101,
      "outputs": [
        {
          "output_type": "execute_result",
          "data": {
            "text/plain": [
              "CARR     53\n",
              "OGN     344\n",
              "OTIS     53\n",
              "dtype: int64"
            ]
          },
          "metadata": {
            "tags": []
          },
          "execution_count": 101
        }
      ]
    },
    {
      "cell_type": "code",
      "metadata": {
        "colab": {
          "base_uri": "https://localhost:8080/"
        },
        "id": "Z-OPcYRiC727",
        "outputId": "c4c087b7-7430-4ef1-e9ad-5b9e50092520"
      },
      "source": [
        "prices['CARR']=prices['CARR'].fillna(0)\n",
        "prices['OGN']=prices['OGN'].fillna(0)\n",
        "prices['OTIS']=prices['OTIS'].fillna(0)\n",
        "\n",
        "prices.shape"
      ],
      "execution_count": 102,
      "outputs": [
        {
          "output_type": "execute_result",
          "data": {
            "text/plain": [
              "(393, 503)"
            ]
          },
          "metadata": {
            "tags": []
          },
          "execution_count": 102
        }
      ]
    },
    {
      "cell_type": "code",
      "metadata": {
        "id": "Vojsy2xTWs2s"
      },
      "source": [
        ""
      ],
      "execution_count": null,
      "outputs": []
    },
    {
      "cell_type": "code",
      "metadata": {
        "id": "oy8NCSuy__ms"
      },
      "source": [
        "#By Considering Covind Time from 6th November 2019 add extract dates from S&P and create\n",
        "#New Column\n",
        "#insert_date=sp_perform.tail(394).Date\n",
        "#insert_date=insert_date.reset_index(drop=True)\n",
        "#prices_new=pd.DataFrame(prices)\n",
        "#prices_new=prices_new.insert(0, 'Date', list_date)\n"
      ],
      "execution_count": null,
      "outputs": []
    },
    {
      "cell_type": "code",
      "metadata": {
        "colab": {
          "base_uri": "https://localhost:8080/"
        },
        "id": "941JJ2DjIq8h",
        "outputId": "e0fe7b3d-84a8-4687-aac0-f0c662b50a50"
      },
      "source": [
        "from sklearn.preprocessing import StandardScaler\n",
        "features = prices.columns\n",
        "x = prices.loc[:, features].values\n",
        "x = StandardScaler().fit_transform(x) # normalizing the features\n",
        "x.shape"
      ],
      "execution_count": 109,
      "outputs": [
        {
          "output_type": "execute_result",
          "data": {
            "text/plain": [
              "(393, 503)"
            ]
          },
          "metadata": {
            "tags": []
          },
          "execution_count": 109
        }
      ]
    },
    {
      "cell_type": "code",
      "metadata": {
        "id": "UbJZ9LJnfgZy",
        "outputId": "0f059bdb-c9a4-4002-c876-21b97a1305bd",
        "colab": {
          "base_uri": "https://localhost:8080/"
        }
      },
      "source": [
        "#Finding the number of Principal Components to use to preserve 90% of variance\n",
        "def find_min_pca(X_train, percentage=0.8):\n",
        "    \n",
        "    from sklearn.decomposition import PCA\n",
        "    \n",
        "    \n",
        "    inital_components=pd.DataFrame(X_train).shape[1]\n",
        "    if inital_components<10:\n",
        "        print('The Data has less than 10 components, no PCA needed')\n",
        "    else:\n",
        "        a=int(str(inital_components)[-1])\n",
        "        tens=int((inital_components-a)/10)\n",
        "        for i in range(1,tens+1):\n",
        "        \n",
        "            \n",
        "            \n",
        "            pca = PCA(n_components=(i)*10)\n",
        "            principalComponents = pca.fit_transform(X_train)\n",
        "            explained_var= np.sum(pca.explained_variance_ratio_)\n",
        "        \n",
        "            \n",
        "            \n",
        "            if explained_var>=percentage:\n",
        "                upper=i\n",
        "                break\n",
        "        \n",
        "        \n",
        "\n",
        "        for j in range((upper-1)*10,(upper)*10):\n",
        "            pca = PCA(n_components=j)\n",
        "            principalComponents = pca.fit_transform(X_train)                \n",
        "            explained_var1= np.sum(pca.explained_variance_ratio_)\n",
        "            if explained_var1>percentage:\n",
        "                comp=j\n",
        "                break\n",
        "                    \n",
        "                        \n",
        "            \n",
        "            \n",
        "    return  comp\n",
        "min_comps=find_min_pca(x,0.99)\n",
        "min_comps"
      ],
      "execution_count": 171,
      "outputs": [
        {
          "output_type": "execute_result",
          "data": {
            "text/plain": [
              "31"
            ]
          },
          "metadata": {
            "tags": []
          },
          "execution_count": 171
        }
      ]
    },
    {
      "cell_type": "code",
      "metadata": {
        "id": "6_reYUAofsRR"
      },
      "source": [
        "pca = PCA(n_components = 31)\n",
        "components=pca.fit_transform(x);\n"
      ],
      "execution_count": 172,
      "outputs": []
    },
    {
      "cell_type": "code",
      "metadata": {
        "colab": {
          "base_uri": "https://localhost:8080/"
        },
        "id": "59PRlX9O5vFf",
        "outputId": "8886c602-82b6-46e6-9b77-1a4885effcfe"
      },
      "source": [
        "#Variance of the first 10 compoents\n",
        "pca.explained_variance_ratio_"
      ],
      "execution_count": 173,
      "outputs": [
        {
          "output_type": "execute_result",
          "data": {
            "text/plain": [
              "array([6.82559613e-01, 1.40548527e-01, 4.44721480e-02, 3.59782430e-02,\n",
              "       2.05254105e-02, 1.23441231e-02, 9.34984878e-03, 6.92115146e-03,\n",
              "       5.24667234e-03, 4.59993239e-03, 3.50290057e-03, 2.92957033e-03,\n",
              "       2.79552721e-03, 2.31890802e-03, 1.87482427e-03, 1.61455085e-03,\n",
              "       1.60806619e-03, 1.28221850e-03, 1.19963260e-03, 1.11635642e-03,\n",
              "       1.02105633e-03, 8.88504807e-04, 8.06617370e-04, 7.56796810e-04,\n",
              "       6.84893315e-04, 6.52358492e-04, 5.95131638e-04, 5.51217851e-04,\n",
              "       5.04408170e-04, 4.58073397e-04, 4.16620496e-04])"
            ]
          },
          "metadata": {
            "tags": []
          },
          "execution_count": 173
        }
      ]
    },
    {
      "cell_type": "markdown",
      "metadata": {
        "id": "IGfxFqC2Pfv6"
      },
      "source": [
        "### Apply PCA (3 points)\n",
        "\n",
        "* plot the explained variance ratio. Hint: `pca.explained_variance_ratio_`\n",
        "* Represent the components which preserve maximum information and plot to visualize\n",
        "* Compute the daily returns of the 500 company stocks. Hint: See the following [reference](https://towardsdatascience.com/stock-market-analytics-with-pca-d1c2318e3f0e).\n",
        "* Plot the stocks with most negative and least negative PCA weights in the pandemic period (Year 2020). Use reference as above. Discuss the least and most impacted industrial sectors in terms of stocks."
      ]
    },
    {
      "cell_type": "code",
      "metadata": {
        "id": "cr-26wOaQz79",
        "colab": {
          "base_uri": "https://localhost:8080/",
          "height": 542
        },
        "outputId": "3e982d21-504d-46c1-e84d-f9ba40a5ed25"
      },
      "source": [
        "# YOUR CODE HERE\n",
        "import plotly.express as px\n",
        "exp_var_cumul = np.cumsum(pca.explained_variance_ratio_)\n",
        "\n",
        "px.area(\n",
        "    x=range(1, exp_var_cumul.shape[0] + 1),\n",
        "    y=exp_var_cumul,\n",
        "    labels={\"x\": \"# Components\", \"y\": \"Explained Variance\"}\n",
        ")"
      ],
      "execution_count": 175,
      "outputs": [
        {
          "output_type": "display_data",
          "data": {
            "text/html": [
              "<html>\n",
              "<head><meta charset=\"utf-8\" /></head>\n",
              "<body>\n",
              "    <div>\n",
              "            <script src=\"https://cdnjs.cloudflare.com/ajax/libs/mathjax/2.7.5/MathJax.js?config=TeX-AMS-MML_SVG\"></script><script type=\"text/javascript\">if (window.MathJax) {MathJax.Hub.Config({SVG: {font: \"STIX-Web\"}});}</script>\n",
              "                <script type=\"text/javascript\">window.PlotlyConfig = {MathJaxConfig: 'local'};</script>\n",
              "        <script src=\"https://cdn.plot.ly/plotly-latest.min.js\"></script>    \n",
              "            <div id=\"92893da0-2df0-46c4-9d36-ff395658639b\" class=\"plotly-graph-div\" style=\"height:525px; width:100%;\"></div>\n",
              "            <script type=\"text/javascript\">\n",
              "                \n",
              "                    window.PLOTLYENV=window.PLOTLYENV || {};\n",
              "                    \n",
              "                if (document.getElementById(\"92893da0-2df0-46c4-9d36-ff395658639b\")) {\n",
              "                    Plotly.newPlot(\n",
              "                        '92893da0-2df0-46c4-9d36-ff395658639b',\n",
              "                        [{\"hoverlabel\": {\"namelength\": 0}, \"hovertemplate\": \"# Components=%{x}<br>Explained Variance=%{y}\", \"legendgroup\": \"\", \"line\": {\"color\": \"#636efa\"}, \"mode\": \"lines\", \"name\": \"\", \"orientation\": \"v\", \"showlegend\": false, \"stackgroup\": \"1\", \"type\": \"scatter\", \"x\": [1, 2, 3, 4, 5, 6, 7, 8, 9, 10, 11, 12, 13, 14, 15, 16, 17, 18, 19, 20, 21, 22, 23, 24, 25, 26, 27, 28, 29, 30, 31], \"xaxis\": \"x\", \"y\": [0.6825596128608472, 0.8231081393656218, 0.8675802873197992, 0.9035585302701499, 0.9240839407275431, 0.936428063795682, 0.9457779125779056, 0.9526990640360049, 0.9579457363767171, 0.9625456687698992, 0.9660485693444147, 0.9689781396747201, 0.9717736668813066, 0.9740925748977532, 0.9759673991636436, 0.9775819500110435, 0.979190016205845, 0.9804722347040773, 0.981671867304927, 0.9827882237296435, 0.9838092800640915, 0.9846977848711336, 0.9855044022410854, 0.9862611990512848, 0.9869460923666354, 0.9875984508589116, 0.988193582497233, 0.9887448003478287, 0.9892492085175778, 0.9897072819142642, 0.9901239024103287], \"yaxis\": \"y\"}],\n",
              "                        {\"legend\": {\"tracegroupgap\": 0}, \"margin\": {\"t\": 60}, \"template\": {\"data\": {\"bar\": [{\"error_x\": {\"color\": \"#2a3f5f\"}, \"error_y\": {\"color\": \"#2a3f5f\"}, \"marker\": {\"line\": {\"color\": \"#E5ECF6\", \"width\": 0.5}}, \"type\": \"bar\"}], \"barpolar\": [{\"marker\": {\"line\": {\"color\": \"#E5ECF6\", \"width\": 0.5}}, \"type\": \"barpolar\"}], \"carpet\": [{\"aaxis\": {\"endlinecolor\": \"#2a3f5f\", \"gridcolor\": \"white\", \"linecolor\": \"white\", \"minorgridcolor\": \"white\", \"startlinecolor\": \"#2a3f5f\"}, \"baxis\": {\"endlinecolor\": \"#2a3f5f\", \"gridcolor\": \"white\", \"linecolor\": \"white\", \"minorgridcolor\": \"white\", \"startlinecolor\": \"#2a3f5f\"}, \"type\": \"carpet\"}], \"choropleth\": [{\"colorbar\": {\"outlinewidth\": 0, \"ticks\": \"\"}, \"type\": \"choropleth\"}], \"contour\": [{\"colorbar\": {\"outlinewidth\": 0, \"ticks\": \"\"}, \"colorscale\": [[0.0, \"#0d0887\"], [0.1111111111111111, \"#46039f\"], [0.2222222222222222, \"#7201a8\"], [0.3333333333333333, \"#9c179e\"], [0.4444444444444444, \"#bd3786\"], [0.5555555555555556, \"#d8576b\"], [0.6666666666666666, \"#ed7953\"], [0.7777777777777778, \"#fb9f3a\"], [0.8888888888888888, \"#fdca26\"], [1.0, \"#f0f921\"]], \"type\": \"contour\"}], \"contourcarpet\": [{\"colorbar\": {\"outlinewidth\": 0, \"ticks\": \"\"}, \"type\": \"contourcarpet\"}], \"heatmap\": [{\"colorbar\": {\"outlinewidth\": 0, \"ticks\": \"\"}, \"colorscale\": [[0.0, \"#0d0887\"], [0.1111111111111111, \"#46039f\"], [0.2222222222222222, \"#7201a8\"], [0.3333333333333333, \"#9c179e\"], [0.4444444444444444, \"#bd3786\"], [0.5555555555555556, \"#d8576b\"], [0.6666666666666666, \"#ed7953\"], [0.7777777777777778, \"#fb9f3a\"], [0.8888888888888888, \"#fdca26\"], [1.0, \"#f0f921\"]], \"type\": \"heatmap\"}], \"heatmapgl\": [{\"colorbar\": {\"outlinewidth\": 0, \"ticks\": \"\"}, \"colorscale\": [[0.0, \"#0d0887\"], [0.1111111111111111, \"#46039f\"], [0.2222222222222222, \"#7201a8\"], [0.3333333333333333, \"#9c179e\"], [0.4444444444444444, \"#bd3786\"], [0.5555555555555556, \"#d8576b\"], [0.6666666666666666, \"#ed7953\"], [0.7777777777777778, \"#fb9f3a\"], [0.8888888888888888, \"#fdca26\"], [1.0, \"#f0f921\"]], \"type\": \"heatmapgl\"}], \"histogram\": [{\"marker\": {\"colorbar\": {\"outlinewidth\": 0, \"ticks\": \"\"}}, \"type\": \"histogram\"}], \"histogram2d\": [{\"colorbar\": {\"outlinewidth\": 0, \"ticks\": \"\"}, \"colorscale\": [[0.0, \"#0d0887\"], [0.1111111111111111, \"#46039f\"], [0.2222222222222222, \"#7201a8\"], [0.3333333333333333, \"#9c179e\"], [0.4444444444444444, \"#bd3786\"], [0.5555555555555556, \"#d8576b\"], [0.6666666666666666, \"#ed7953\"], [0.7777777777777778, \"#fb9f3a\"], [0.8888888888888888, \"#fdca26\"], [1.0, \"#f0f921\"]], \"type\": \"histogram2d\"}], \"histogram2dcontour\": [{\"colorbar\": {\"outlinewidth\": 0, \"ticks\": \"\"}, \"colorscale\": [[0.0, \"#0d0887\"], [0.1111111111111111, \"#46039f\"], [0.2222222222222222, \"#7201a8\"], [0.3333333333333333, \"#9c179e\"], [0.4444444444444444, \"#bd3786\"], [0.5555555555555556, \"#d8576b\"], [0.6666666666666666, \"#ed7953\"], [0.7777777777777778, \"#fb9f3a\"], [0.8888888888888888, \"#fdca26\"], [1.0, \"#f0f921\"]], \"type\": \"histogram2dcontour\"}], \"mesh3d\": [{\"colorbar\": {\"outlinewidth\": 0, \"ticks\": \"\"}, \"type\": \"mesh3d\"}], \"parcoords\": [{\"line\": {\"colorbar\": {\"outlinewidth\": 0, \"ticks\": \"\"}}, \"type\": \"parcoords\"}], \"pie\": [{\"automargin\": true, \"type\": \"pie\"}], \"scatter\": [{\"marker\": {\"colorbar\": {\"outlinewidth\": 0, \"ticks\": \"\"}}, \"type\": \"scatter\"}], \"scatter3d\": [{\"line\": {\"colorbar\": {\"outlinewidth\": 0, \"ticks\": \"\"}}, \"marker\": {\"colorbar\": {\"outlinewidth\": 0, \"ticks\": \"\"}}, \"type\": \"scatter3d\"}], \"scattercarpet\": [{\"marker\": {\"colorbar\": {\"outlinewidth\": 0, \"ticks\": \"\"}}, \"type\": \"scattercarpet\"}], \"scattergeo\": [{\"marker\": {\"colorbar\": {\"outlinewidth\": 0, \"ticks\": \"\"}}, \"type\": \"scattergeo\"}], \"scattergl\": [{\"marker\": {\"colorbar\": {\"outlinewidth\": 0, \"ticks\": \"\"}}, \"type\": \"scattergl\"}], \"scattermapbox\": [{\"marker\": {\"colorbar\": {\"outlinewidth\": 0, \"ticks\": \"\"}}, \"type\": \"scattermapbox\"}], \"scatterpolar\": [{\"marker\": {\"colorbar\": {\"outlinewidth\": 0, \"ticks\": \"\"}}, \"type\": \"scatterpolar\"}], \"scatterpolargl\": [{\"marker\": {\"colorbar\": {\"outlinewidth\": 0, \"ticks\": \"\"}}, \"type\": \"scatterpolargl\"}], \"scatterternary\": [{\"marker\": {\"colorbar\": {\"outlinewidth\": 0, \"ticks\": \"\"}}, \"type\": \"scatterternary\"}], \"surface\": [{\"colorbar\": {\"outlinewidth\": 0, \"ticks\": \"\"}, \"colorscale\": [[0.0, \"#0d0887\"], [0.1111111111111111, \"#46039f\"], [0.2222222222222222, \"#7201a8\"], [0.3333333333333333, \"#9c179e\"], [0.4444444444444444, \"#bd3786\"], [0.5555555555555556, \"#d8576b\"], [0.6666666666666666, \"#ed7953\"], [0.7777777777777778, \"#fb9f3a\"], [0.8888888888888888, \"#fdca26\"], [1.0, \"#f0f921\"]], \"type\": \"surface\"}], \"table\": [{\"cells\": {\"fill\": {\"color\": \"#EBF0F8\"}, \"line\": {\"color\": \"white\"}}, \"header\": {\"fill\": {\"color\": \"#C8D4E3\"}, \"line\": {\"color\": \"white\"}}, \"type\": \"table\"}]}, \"layout\": {\"annotationdefaults\": {\"arrowcolor\": \"#2a3f5f\", \"arrowhead\": 0, \"arrowwidth\": 1}, \"coloraxis\": {\"colorbar\": {\"outlinewidth\": 0, \"ticks\": \"\"}}, \"colorscale\": {\"diverging\": [[0, \"#8e0152\"], [0.1, \"#c51b7d\"], [0.2, \"#de77ae\"], [0.3, \"#f1b6da\"], [0.4, \"#fde0ef\"], [0.5, \"#f7f7f7\"], [0.6, \"#e6f5d0\"], [0.7, \"#b8e186\"], [0.8, \"#7fbc41\"], [0.9, \"#4d9221\"], [1, \"#276419\"]], \"sequential\": [[0.0, \"#0d0887\"], [0.1111111111111111, \"#46039f\"], [0.2222222222222222, \"#7201a8\"], [0.3333333333333333, \"#9c179e\"], [0.4444444444444444, \"#bd3786\"], [0.5555555555555556, \"#d8576b\"], [0.6666666666666666, \"#ed7953\"], [0.7777777777777778, \"#fb9f3a\"], [0.8888888888888888, \"#fdca26\"], [1.0, \"#f0f921\"]], \"sequentialminus\": [[0.0, \"#0d0887\"], [0.1111111111111111, \"#46039f\"], [0.2222222222222222, \"#7201a8\"], [0.3333333333333333, \"#9c179e\"], [0.4444444444444444, \"#bd3786\"], [0.5555555555555556, \"#d8576b\"], [0.6666666666666666, \"#ed7953\"], [0.7777777777777778, \"#fb9f3a\"], [0.8888888888888888, \"#fdca26\"], [1.0, \"#f0f921\"]]}, \"colorway\": [\"#636efa\", \"#EF553B\", \"#00cc96\", \"#ab63fa\", \"#FFA15A\", \"#19d3f3\", \"#FF6692\", \"#B6E880\", \"#FF97FF\", \"#FECB52\"], \"font\": {\"color\": \"#2a3f5f\"}, \"geo\": {\"bgcolor\": \"white\", \"lakecolor\": \"white\", \"landcolor\": \"#E5ECF6\", \"showlakes\": true, \"showland\": true, \"subunitcolor\": \"white\"}, \"hoverlabel\": {\"align\": \"left\"}, \"hovermode\": \"closest\", \"mapbox\": {\"style\": \"light\"}, \"paper_bgcolor\": \"white\", \"plot_bgcolor\": \"#E5ECF6\", \"polar\": {\"angularaxis\": {\"gridcolor\": \"white\", \"linecolor\": \"white\", \"ticks\": \"\"}, \"bgcolor\": \"#E5ECF6\", \"radialaxis\": {\"gridcolor\": \"white\", \"linecolor\": \"white\", \"ticks\": \"\"}}, \"scene\": {\"xaxis\": {\"backgroundcolor\": \"#E5ECF6\", \"gridcolor\": \"white\", \"gridwidth\": 2, \"linecolor\": \"white\", \"showbackground\": true, \"ticks\": \"\", \"zerolinecolor\": \"white\"}, \"yaxis\": {\"backgroundcolor\": \"#E5ECF6\", \"gridcolor\": \"white\", \"gridwidth\": 2, \"linecolor\": \"white\", \"showbackground\": true, \"ticks\": \"\", \"zerolinecolor\": \"white\"}, \"zaxis\": {\"backgroundcolor\": \"#E5ECF6\", \"gridcolor\": \"white\", \"gridwidth\": 2, \"linecolor\": \"white\", \"showbackground\": true, \"ticks\": \"\", \"zerolinecolor\": \"white\"}}, \"shapedefaults\": {\"line\": {\"color\": \"#2a3f5f\"}}, \"ternary\": {\"aaxis\": {\"gridcolor\": \"white\", \"linecolor\": \"white\", \"ticks\": \"\"}, \"baxis\": {\"gridcolor\": \"white\", \"linecolor\": \"white\", \"ticks\": \"\"}, \"bgcolor\": \"#E5ECF6\", \"caxis\": {\"gridcolor\": \"white\", \"linecolor\": \"white\", \"ticks\": \"\"}}, \"title\": {\"x\": 0.05}, \"xaxis\": {\"automargin\": true, \"gridcolor\": \"white\", \"linecolor\": \"white\", \"ticks\": \"\", \"title\": {\"standoff\": 15}, \"zerolinecolor\": \"white\", \"zerolinewidth\": 2}, \"yaxis\": {\"automargin\": true, \"gridcolor\": \"white\", \"linecolor\": \"white\", \"ticks\": \"\", \"title\": {\"standoff\": 15}, \"zerolinecolor\": \"white\", \"zerolinewidth\": 2}}}, \"xaxis\": {\"anchor\": \"y\", \"domain\": [0.0, 1.0], \"title\": {\"text\": \"# Components\"}}, \"yaxis\": {\"anchor\": \"x\", \"domain\": [0.0, 1.0], \"title\": {\"text\": \"Explained Variance\"}}},\n",
              "                        {\"responsive\": true}\n",
              "                    ).then(function(){\n",
              "                            \n",
              "var gd = document.getElementById('92893da0-2df0-46c4-9d36-ff395658639b');\n",
              "var x = new MutationObserver(function (mutations, observer) {{\n",
              "        var display = window.getComputedStyle(gd).display;\n",
              "        if (!display || display === 'none') {{\n",
              "            console.log([gd, 'removed!']);\n",
              "            Plotly.purge(gd);\n",
              "            observer.disconnect();\n",
              "        }}\n",
              "}});\n",
              "\n",
              "// Listen for the removal of the full notebook cells\n",
              "var notebookContainer = gd.closest('#notebook-container');\n",
              "if (notebookContainer) {{\n",
              "    x.observe(notebookContainer, {childList: true});\n",
              "}}\n",
              "\n",
              "// Listen for the clearing of the current output cell\n",
              "var outputEl = gd.closest('.output');\n",
              "if (outputEl) {{\n",
              "    x.observe(outputEl, {childList: true});\n",
              "}}\n",
              "\n",
              "                        })\n",
              "                };\n",
              "                \n",
              "            </script>\n",
              "        </div>\n",
              "</body>\n",
              "</html>"
            ]
          },
          "metadata": {
            "tags": []
          }
        }
      ]
    },
    {
      "cell_type": "markdown",
      "metadata": {
        "id": "aR9EtC0WPyiW"
      },
      "source": [
        "#### Apply T-SNE and visualize with a graph"
      ]
    },
    {
      "cell_type": "code",
      "metadata": {
        "id": "qWfaROS1P4Xj"
      },
      "source": [
        ""
      ],
      "execution_count": null,
      "outputs": []
    },
    {
      "cell_type": "markdown",
      "metadata": {
        "id": "7AjTe8ZRO_QD"
      },
      "source": [
        "## Anomaly Detection (PART-B)"
      ]
    },
    {
      "cell_type": "markdown",
      "metadata": {
        "id": "hKyZNQkWUnI8"
      },
      "source": [
        "### Load and Preprocess the data\n",
        "\n",
        "* Inspect the S&P 500 Index Data"
      ]
    },
    {
      "cell_type": "code",
      "metadata": {
        "id": "F-3R13wKK1rz"
      },
      "source": [
        "path = 'SPY.csv'"
      ],
      "execution_count": null,
      "outputs": []
    },
    {
      "cell_type": "code",
      "metadata": {
        "id": "l2pjjH-GEX9C"
      },
      "source": [
        "# YOUR CODE HERE"
      ],
      "execution_count": null,
      "outputs": []
    },
    {
      "cell_type": "markdown",
      "metadata": {
        "id": "bguM7haxU3PL"
      },
      "source": [
        "#### Data Preprocessing"
      ]
    },
    {
      "cell_type": "code",
      "metadata": {
        "id": "wzwW8HgeIoa2"
      },
      "source": [
        "# YOUR CODE HERE"
      ],
      "execution_count": null,
      "outputs": []
    },
    {
      "cell_type": "markdown",
      "metadata": {
        "id": "Epg_QXw5YWXW"
      },
      "source": [
        "### Create time series data ( 1 point)\n",
        "\n",
        "Select the variable (column) from the data and create the series of data with a window size.\n",
        "\n",
        "Refer [LSTM Autoencoder](https://medium.com/swlh/time-series-anomaly-detection-with-lstm-autoencoders-7bac1305e713)"
      ]
    },
    {
      "cell_type": "code",
      "metadata": {
        "id": "rp89-jBZpskM"
      },
      "source": [
        "# YOUR CODE HERE"
      ],
      "execution_count": null,
      "outputs": []
    },
    {
      "cell_type": "markdown",
      "metadata": {
        "id": "3nZrpfm9cJeX"
      },
      "source": [
        "### Build an LSTM Autoencoder ( 2 points)\n",
        "\n",
        "Autoencoder should take a sequence as input and outputs a sequence of the same shape.\n",
        "\n",
        "Hint: [LSTM Autoencoder](https://medium.com/swlh/time-series-anomaly-detection-with-lstm-autoencoders-7bac1305e713)"
      ]
    },
    {
      "cell_type": "code",
      "metadata": {
        "id": "Ir1jbzvDI3ij"
      },
      "source": [
        "# YOUR CODE HERE"
      ],
      "execution_count": null,
      "outputs": []
    },
    {
      "cell_type": "markdown",
      "metadata": {
        "id": "LL8k_JAjfhLt"
      },
      "source": [
        "### Train the Autoencoder (1 point)\n",
        "\n",
        "* Compile and fit the model with required parameters"
      ]
    },
    {
      "cell_type": "code",
      "metadata": {
        "id": "RBqAR3SAapfJ"
      },
      "source": [
        "# YOUR CODE HERE"
      ],
      "execution_count": null,
      "outputs": []
    },
    {
      "cell_type": "markdown",
      "metadata": {
        "id": "pW93bYQXcf2I"
      },
      "source": [
        "#### Plot metrics and evaluate the model (1 point)"
      ]
    },
    {
      "cell_type": "code",
      "metadata": {
        "id": "2GYE03C1TUv0"
      },
      "source": [
        "# YOUR CODE HERE"
      ],
      "execution_count": null,
      "outputs": []
    },
    {
      "cell_type": "markdown",
      "metadata": {
        "id": "7C8bQAqZcqiw"
      },
      "source": [
        "### Detect Anomalies in the S&P 500 Index Data (2 points)\n",
        "\n",
        "* Predict the data and calculate the loss\n",
        "* Define threshold and detect the anomalies\n",
        "\n",
        "Discuss the Impact of COVID19 pandemic on stock prices in terms of anomalies detected during the pandemic period in stock prices"
      ]
    },
    {
      "cell_type": "code",
      "metadata": {
        "id": "Vm5uJwmuJiqt"
      },
      "source": [
        "# YOUR CODE HERE"
      ],
      "execution_count": null,
      "outputs": []
    },
    {
      "cell_type": "markdown",
      "metadata": {
        "id": "smjqrV0AP-D4"
      },
      "source": [
        "### Report Analysis\n",
        "\n",
        "* Discuss on the results of T-SNE and PCA\n",
        "* Dicuss about the results of LSTM autoencoder"
      ]
    }
  ]
}